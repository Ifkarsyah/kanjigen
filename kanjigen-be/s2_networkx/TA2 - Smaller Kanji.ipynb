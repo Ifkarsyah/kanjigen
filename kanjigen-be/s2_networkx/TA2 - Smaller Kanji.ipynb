{
 "cells": [
  {
   "cell_type": "code",
   "execution_count": 1,
   "metadata": {},
   "outputs": [],
   "source": [
    "from pprint import pprint as pp\n",
    "from typing import Dict, List, Tuple\n",
    "\n",
    "import random\n",
    "import csv\n",
    "import time"
   ]
  },
  {
   "cell_type": "markdown",
   "metadata": {},
   "source": [
    "# Building Knowledge Graph"
   ]
  },
  {
   "cell_type": "markdown",
   "metadata": {},
   "source": [
    "## Extract Data from CSV"
   ]
  },
  {
   "cell_type": "code",
   "execution_count": 2,
   "metadata": {},
   "outputs": [],
   "source": [
    "def get_csv_data(filepath, handle_row_func):\n",
    "    data = dict()\n",
    "    with open(filepath) as file:\n",
    "        next(file)\n",
    "        rows = csv.reader(file, delimiter=\",\")\n",
    "        for row in rows:\n",
    "            handle_row_func(data, row)\n",
    "    return data"
   ]
  },
  {
   "cell_type": "code",
   "execution_count": 3,
   "metadata": {},
   "outputs": [],
   "source": [
    "def handle_csv_kanji_func(data, row):\n",
    "    kanji,*meanings = row\n",
    "    if len(meanings) >= 2:\n",
    "        meanings = \",\".join(meanings)\n",
    "    else:\n",
    "        meanings = meanings[0]\n",
    "    meanings = meanings.split(\":\")\n",
    "    meanings = meanings[0]\n",
    "    data[kanji] = meanings"
   ]
  },
  {
   "cell_type": "code",
   "execution_count": 4,
   "metadata": {
    "scrolled": true
   },
   "outputs": [
    {
     "name": "stdout",
     "output_type": "stream",
     "text": [
      "len(data_kanji) =  6215\n"
     ]
    }
   ],
   "source": [
    "data_kanji = get_csv_data(\"dataset/s5_kanjis_output.csv\", handle_csv_kanji_func)\n",
    "print(\"len(data_kanji) = \", len(data_kanji))\n",
    "# pp(data_kanji)"
   ]
  },
  {
   "cell_type": "code",
   "execution_count": 5,
   "metadata": {},
   "outputs": [],
   "source": [
    "def handle_csv_radical_func(data, row):\n",
    "    radical,meaning,_ = row\n",
    "    data[radical] = meaning"
   ]
  },
  {
   "cell_type": "code",
   "execution_count": 6,
   "metadata": {},
   "outputs": [
    {
     "name": "stdout",
     "output_type": "stream",
     "text": [
      "len(data_radical) =  255\n"
     ]
    }
   ],
   "source": [
    "data_radical = get_csv_data(\"dataset/s7_nodes_radical_meaning.csv\", handle_csv_radical_func)\n",
    "print(\"len(data_radical) = \", len(data_radical))\n",
    "# pp(data_radical)"
   ]
  },
  {
   "cell_type": "code",
   "execution_count": 7,
   "metadata": {},
   "outputs": [],
   "source": [
    "def handle_csv_edges_func(data, row):\n",
    "    kanji,radical_list = row\n",
    "    data[kanji] = radical_list.split(':')"
   ]
  },
  {
   "cell_type": "code",
   "execution_count": 8,
   "metadata": {},
   "outputs": [
    {
     "name": "stdout",
     "output_type": "stream",
     "text": [
      "len(data_edges) =  6215\n"
     ]
    }
   ],
   "source": [
    "data_edges = get_csv_data(\"dataset/s7_edges_kanji_radical.csv\", handle_csv_edges_func)\n",
    "print(\"len(data_edges) = \", len(data_edges))\n",
    "# pp(data_edges)"
   ]
  },
  {
   "cell_type": "markdown",
   "metadata": {},
   "source": [
    "## Data Structure"
   ]
  },
  {
   "cell_type": "markdown",
   "metadata": {},
   "source": [
    "### Node Manager"
   ]
  },
  {
   "cell_type": "code",
   "execution_count": 9,
   "metadata": {},
   "outputs": [],
   "source": [
    "def get_key(symbol, dtype):\n",
    "    return f\"{symbol}-{dtype}\""
   ]
  },
  {
   "cell_type": "code",
   "execution_count": 10,
   "metadata": {},
   "outputs": [],
   "source": [
    "node_kanji = {\n",
    "    get_key(symbol, 'kanji'): {\n",
    "        'symbol' : symbol,\n",
    "        'meaning': meaning,\n",
    "        'visual' : f\"{symbol}\\n{meaning}\",\n",
    "        'color'  : 'red',\n",
    "    } for symbol, meaning in data_kanji.items()}"
   ]
  },
  {
   "cell_type": "code",
   "execution_count": 11,
   "metadata": {},
   "outputs": [],
   "source": [
    "node_radical = {\n",
    "    get_key(symbol, 'radical'): {\n",
    "        'symbol' : symbol,\n",
    "        'meaning': meaning,\n",
    "        'visual' : f\"{symbol}\\n{meaning}\",\n",
    "        'color'  : 'yellow',\n",
    "    } for symbol, meaning in data_radical.items()}"
   ]
  },
  {
   "cell_type": "code",
   "execution_count": 12,
   "metadata": {},
   "outputs": [],
   "source": [
    "full_node = {**node_radical, **node_kanji}\n",
    "# pp(list(full_node.keys()))"
   ]
  },
  {
   "cell_type": "markdown",
   "metadata": {},
   "source": [
    "### Edge Manager"
   ]
  },
  {
   "cell_type": "code",
   "execution_count": 13,
   "metadata": {},
   "outputs": [],
   "source": [
    "def get_graph_edge(data_edges):\n",
    "    edges = []\n",
    "    for kanji, radicals in data_edges.items():\n",
    "        for r in radicals:\n",
    "            edges.append( (f\"{kanji}-kanji\", f\"{r}-radical\") )\n",
    "    return edges\n",
    "\n",
    "full_edges = get_graph_edge(data_edges)\n",
    "# full_edges"
   ]
  },
  {
   "cell_type": "markdown",
   "metadata": {},
   "source": [
    "## Kanji Graph"
   ]
  },
  {
   "cell_type": "code",
   "execution_count": 14,
   "metadata": {},
   "outputs": [],
   "source": [
    "import networkx as nx"
   ]
  },
  {
   "cell_type": "code",
   "execution_count": 15,
   "metadata": {},
   "outputs": [],
   "source": [
    "kjg = nx.Graph()\n",
    "\n",
    "kjg.add_nodes_from(full_node.items())\n",
    "kjg.add_edges_from(full_edges)"
   ]
  },
  {
   "cell_type": "markdown",
   "metadata": {},
   "source": [
    "### Graph Visualization"
   ]
  },
  {
   "cell_type": "code",
   "execution_count": 16,
   "metadata": {},
   "outputs": [
    {
     "data": {
      "text/plain": [
       "[<Font 'Noto Serif CJK JP' (NotoSerifCJK-Regular.ttc) normal normal 400 normal>,\n",
       " <Font 'Noto Sans CJK JP' (NotoSansCJK-Bold.ttc) normal normal 700 normal>,\n",
       " <Font 'Noto Serif CJK JP' (NotoSerifCJK-Bold.ttc) normal normal 700 normal>,\n",
       " <Font 'Noto Sans CJK JP' (NotoSansCJK-Regular.ttc) normal normal 400 normal>]"
      ]
     },
     "execution_count": 16,
     "metadata": {},
     "output_type": "execute_result"
    }
   ],
   "source": [
    "import matplotlib\n",
    "import matplotlib.pyplot as plt\n",
    "\n",
    "import matplotlib.font_manager as fm\n",
    "\n",
    "# Reference: https://albertauyeung.github.io/2020/03/15/matplotlib-cjk-fonts.html\n",
    "[f for f in fm.fontManager.ttflist if 'CJK JP' in f.name]"
   ]
  },
  {
   "cell_type": "code",
   "execution_count": 17,
   "metadata": {},
   "outputs": [],
   "source": [
    "def visualize_graph(\n",
    "    Graph: nx.Graph, \n",
    "    figsize: tuple=(7,7), \n",
    "    color_map: List[str]=None, \n",
    "    node_size: int=3000, \n",
    "    with_labels: bool=True) -> None:\n",
    "    \n",
    "    if color_map == None:\n",
    "        color_map = [Graph.nodes[n][\"color\"] for n in Graph] \n",
    "    else:\n",
    "        color_map = color_map\n",
    "    \n",
    "    plt.figure(1,figsize=figsize) \n",
    "    \n",
    "    labels = nx.get_node_attributes(Graph, 'visual')\n",
    "    \n",
    "    nx.draw_kamada_kawai(Graph, \n",
    "                         node_color=color_map, \n",
    "                         with_labels=with_labels,\n",
    "                         labels=labels,\n",
    "                         node_size=node_size, \n",
    "                         font_size=20,\n",
    "                         font_family=\"Noto Serif CJK JP\")\n",
    "    plt.show()"
   ]
  },
  {
   "cell_type": "code",
   "execution_count": 18,
   "metadata": {},
   "outputs": [
    {
     "data": {
      "image/png": "[encoded data removed]",
      "text/plain": [
       "<Figure size 504x504 with 1 Axes>"
      ]
     },
     "metadata": {},
     "output_type": "display_data"
    }
   ],
   "source": [
    "visualize_graph(\n",
    "    Graph       = kjg.subgraph(random.sample(kjg.nodes, 300)),\n",
    "    node_size   = 100,\n",
    "    with_labels = None,\n",
    ")"
   ]
  },
  {
   "cell_type": "code",
   "execution_count": 19,
   "metadata": {},
   "outputs": [],
   "source": [
    "def get_sg_kanji_with(kjg) -> nx.Graph:\n",
    "    sg = nx.Graph()\n",
    "    p = '痘-kanji'\n",
    "    radicals = [n for n in kjg.neighbors(p)]\n",
    "    sg.add_nodes_from([(p, kjg.nodes[p])] + [(r, kjg.nodes[r]) for r in radicals])\n",
    "    sg.add_edges_from([(p, rp) for rp in radicals])\n",
    "    return sg"
   ]
  },
  {
   "cell_type": "code",
   "execution_count": 20,
   "metadata": {},
   "outputs": [
    {
     "data": {
      "image/png": "[encoded data removed]",
      "text/plain": [
       "<Figure size 504x504 with 1 Axes>"
      ]
     },
     "metadata": {},
     "output_type": "display_data"
    }
   ],
   "source": [
    "visualize_graph(\n",
    "    Graph       = get_sg_kanji_with(kjg),\n",
    "    node_size   = 2000,\n",
    "    with_labels = True,\n",
    ")"
   ]
  },
  {
   "cell_type": "markdown",
   "metadata": {},
   "source": [
    "### Exploratory Data Analysis"
   ]
  },
  {
   "cell_type": "code",
   "execution_count": 21,
   "metadata": {
    "scrolled": true
   },
   "outputs": [
    {
     "name": "stdout",
     "output_type": "stream",
     "text": [
      "Graph with 6470 nodes and 22273 edges\n"
     ]
    }
   ],
   "source": [
    "print(nx.info(kjg))"
   ]
  },
  {
   "cell_type": "code",
   "execution_count": 22,
   "metadata": {},
   "outputs": [
    {
     "name": "stdout",
     "output_type": "stream",
     "text": [
      "number of connected components:  10\n"
     ]
    }
   ],
   "source": [
    "# https://networkx.org/documentation/stable/reference/algorithms/component.html\n",
    "\n",
    "print('number of connected components: ', nx.number_connected_components(kjg))"
   ]
  },
  {
   "cell_type": "code",
   "execution_count": 23,
   "metadata": {},
   "outputs": [
    {
     "name": "stdout",
     "output_type": "stream",
     "text": [
      "number of isolated:  9\n",
      "['匸-radical',\n",
      " '夊-radical',\n",
      " '艸-radical',\n",
      " '辵-radical',\n",
      " '邑-radical',\n",
      " '阜-radical',\n",
      " '鬯-radical',\n",
      " '鼎-radical',\n",
      " '龍-radical']\n"
     ]
    }
   ],
   "source": [
    "# https://networkx.org/documentation/stable/reference/algorithms/isolates.html\n",
    "# EDA + Preprocessing: Removing Isolated Nodes\n",
    "\n",
    "print('number of isolated: ', nx.number_of_isolates(kjg))\n",
    "isolated_nodes = [n for n in nx.isolates(kjg)]\n",
    "pp(isolated_nodes)\n",
    "kjg.remove_nodes_from(list(nx.isolates(kjg)))"
   ]
  },
  {
   "cell_type": "code",
   "execution_count": 24,
   "metadata": {
    "scrolled": true
   },
   "outputs": [
    {
     "name": "stdout",
     "output_type": "stream",
     "text": [
      "Graph with 6461 nodes and 22273 edges\n",
      "number of connected components:  1\n"
     ]
    }
   ],
   "source": [
    "print(nx.info(kjg))\n",
    "\n",
    "print('number of connected components: ', nx.number_connected_components(kjg))"
   ]
  },
  {
   "cell_type": "code",
   "execution_count": 25,
   "metadata": {},
   "outputs": [
    {
     "data": {
      "image/png": "[encoded data removed]",
      "text/plain": [
       "<Figure size 504x504 with 1 Axes>"
      ]
     },
     "metadata": {},
     "output_type": "display_data"
    }
   ],
   "source": [
    "visualize_graph(\n",
    "    Graph       = kjg.subgraph(random.sample(kjg.nodes, 300)),\n",
    "    node_size   = 100,\n",
    "    with_labels = None,\n",
    ")"
   ]
  },
  {
   "cell_type": "markdown",
   "metadata": {},
   "source": [
    "# Querying Knowledge Graph"
   ]
  },
  {
   "cell_type": "markdown",
   "metadata": {},
   "source": [
    "## Data Structure"
   ]
  },
  {
   "cell_type": "code",
   "execution_count": 26,
   "metadata": {},
   "outputs": [],
   "source": [
    "def generate_graph(G: nx.Graph, nodes: List) -> nx.Graph:\n",
    "    R = nx.Graph()\n",
    "    R.add_nodes_from([(n, G.nodes[n]) for n in nodes])\n",
    "    R.add_edges_from(nx.utils.pairwise(nodes))\n",
    "    return R"
   ]
  },
  {
   "cell_type": "code",
   "execution_count": 27,
   "metadata": {},
   "outputs": [],
   "source": [
    "def get_node_color_result(kinputs, koutputs, union_result):\n",
    "    G = union_result\n",
    "    color_map = []\n",
    "    for n in union_result:\n",
    "        if n in kinputs:\n",
    "            color_map.append(\"green\")\n",
    "        elif n in koutputs:\n",
    "            color_map.append(\"blue\")\n",
    "        else:\n",
    "            color_map.append(G.nodes[n][\"color\"])\n",
    "    return color_map"
   ]
  },
  {
   "cell_type": "code",
   "execution_count": 28,
   "metadata": {},
   "outputs": [
    {
     "data": {
      "image/png": "[encoded data removed]",
      "text/plain": [
       "<Figure size 432x432 with 1 Axes>"
      ]
     },
     "metadata": {},
     "output_type": "display_data"
    }
   ],
   "source": [
    "kin = '語-kanji'  # say\n",
    "kout = '誕-kanji' # lie \n",
    "\n",
    "result_shortest_path = nx.shortest_path(G=kjg, source=kin, target=kout)\n",
    "result = generate_graph(kjg, result_shortest_path)\n",
    "\n",
    "visualize_graph(\n",
    "    Graph=result, \n",
    "    color_map=get_node_color_result([kin], [kout], result), \n",
    "    figsize=(6,6)\n",
    ")"
   ]
  },
  {
   "cell_type": "markdown",
   "metadata": {},
   "source": [
    "## Algorithm"
   ]
  },
  {
   "cell_type": "markdown",
   "metadata": {},
   "source": [
    "### Brute Force Algorithm"
   ]
  },
  {
   "cell_type": "code",
   "execution_count": 29,
   "metadata": {},
   "outputs": [],
   "source": [
    "def find_path_bf(G: nx.Graph, MOrig: List, MDest: List) -> nx.Graph:\n",
    "    \n",
    "    result = []\n",
    "    \n",
    "    for kin in MOrig:\n",
    "        for kout in MDest:\n",
    "            print(kin, kout)\n",
    "            sp_raw = nx.dijkstra_path(G, source=kin, target=kout)\n",
    "            sp_graph = generate_graph(G, sp_raw)\n",
    "            \n",
    "            result.append(sp_graph)\n",
    "    \n",
    "    \n",
    "    return nx.compose_all(result)        "
   ]
  },
  {
   "cell_type": "markdown",
   "metadata": {},
   "source": [
    "### Astar Algorithm"
   ]
  },
  {
   "cell_type": "code",
   "execution_count": 30,
   "metadata": {},
   "outputs": [],
   "source": [
    "def find_path_astar(G: nx.Graph, MOrig: List, MDest: List, heuristic_func) -> nx.Graph:\n",
    "    \n",
    "    result = []\n",
    "    \n",
    "    for kin in MOrig:\n",
    "        for kout in MDest:\n",
    "            sp_raw = nx.astar_path(G, source=kin, target=kout, heuristic=heuristic_func)\n",
    "            sp_graph = generate_graph(G, sp_raw)\n",
    "            \n",
    "            result.append(sp_graph)\n",
    "    \n",
    "    \n",
    "    return nx.compose_all(result)        "
   ]
  },
  {
   "cell_type": "markdown",
   "metadata": {},
   "source": [
    "#### Heuristic"
   ]
  },
  {
   "cell_type": "code",
   "execution_count": 31,
   "metadata": {},
   "outputs": [],
   "source": [
    "# all_pairs_common_neighbors = dict()\n",
    "# for u in kjg:\n",
    "#     print(\"u\", u)\n",
    "#     if u not in all_pairs_common_neighbors:\n",
    "#         all_pairs_common_neighbors[u] = dict()\n",
    "#     for v in kjg:\n",
    "#         print(\"v\", v)\n",
    "#         all_pairs_common_neighbors[u][v] = nx.common_neighbors(kjg, u, v)"
   ]
  },
  {
   "cell_type": "code",
   "execution_count": 32,
   "metadata": {},
   "outputs": [],
   "source": [
    "# all_pairs_common_neighbors"
   ]
  },
  {
   "cell_type": "code",
   "execution_count": 50,
   "metadata": {},
   "outputs": [],
   "source": [
    "def common_neighbor(u, v):\n",
    "    G = kjg\n",
    "    return len(list(nx.common_neighbors(G, u, v)))"
   ]
  },
  {
   "cell_type": "code",
   "execution_count": 51,
   "metadata": {},
   "outputs": [],
   "source": [
    "def jaccard_function(u, v):\n",
    "    G = kjg\n",
    "    union_size = len(set(G[u]) | set(G[v])) # union neighbor\n",
    "    if union_size == 0:\n",
    "        return 0\n",
    "    return len(list(nx.common_neighbors(G, u, v))) / union_size"
   ]
  },
  {
   "cell_type": "markdown",
   "metadata": {},
   "source": [
    "### Steiner Tree"
   ]
  },
  {
   "cell_type": "code",
   "execution_count": 52,
   "metadata": {
    "scrolled": true
   },
   "outputs": [],
   "source": [
    "all_pairs_dijkstra = nx.all_pairs_dijkstra(kjg, weight='weight')"
   ]
  },
  {
   "cell_type": "code",
   "execution_count": 53,
   "metadata": {},
   "outputs": [],
   "source": [
    "def metric_closure(G, weight=\"weight\"):\n",
    "    M = nx.Graph()\n",
    "\n",
    "    Gnodes = set(G)\n",
    "\n",
    "    # check for connected graph while processing first node\n",
    "    all_paths_iter = all_pairs_dijkstra\n",
    "    u, (distance, path) = next(all_paths_iter)\n",
    "    if Gnodes - set(distance):\n",
    "        msg = \"G is not a connected graph. metric_closure is not defined.\"\n",
    "        raise nx.NetworkXError(msg)\n",
    "    Gnodes.remove(u)\n",
    "    for v in Gnodes:\n",
    "        M.add_edge(u, v, distance=distance[v], path=path[v])\n",
    "\n",
    "    # first node done -- now process the rest\n",
    "    for u, (distance, path) in all_paths_iter:\n",
    "        Gnodes.remove(u)\n",
    "        for v in Gnodes:\n",
    "            M.add_edge(u, v, distance=distance[v], path=path[v])\n",
    "\n",
    "    return M"
   ]
  },
  {
   "cell_type": "code",
   "execution_count": 54,
   "metadata": {},
   "outputs": [],
   "source": [
    "def steiner_tree(G, terminal_nodes, weight=\"weight\"):\n",
    "    # H is the subgraph induced by terminal_nodes in the metric closure M of G.\n",
    "    M = metric_closure(G, weight=weight)\n",
    "    H = M.subgraph(terminal_nodes)\n",
    "    # Use the 'distance' attribute of each edge provided by M.\n",
    "    mst_edges = nx.minimum_spanning_edges(H, weight=\"distance\", data=True)\n",
    "    # Create an iterator over each edge in each shortest path; repeats are okay\n",
    "    edges = chain.from_iterable(pairwise(d[\"path\"]) for u, v, d in mst_edges)\n",
    "    # For multigraph we should add the minimal weight edge keys\n",
    "    if G.is_multigraph():\n",
    "        edges = (\n",
    "            (u, v, min(G[u][v], key=lambda k: G[u][v][k][weight])) for u, v in edges\n",
    "        )\n",
    "    T = G.edge_subgraph(edges)\n",
    "    return T"
   ]
  },
  {
   "cell_type": "code",
   "execution_count": 55,
   "metadata": {},
   "outputs": [],
   "source": [
    "def find_path_steiner(G: nx.Graph, MOrig: List, MDest: List) -> nx.Graph:\n",
    "    \n",
    "    return nx.steiner_tree(G, MOrig + MDest)     "
   ]
  },
  {
   "cell_type": "markdown",
   "metadata": {},
   "source": [
    "# Experiment"
   ]
  },
  {
   "cell_type": "markdown",
   "metadata": {},
   "source": [
    "## Test Case"
   ]
  },
  {
   "cell_type": "code",
   "execution_count": 56,
   "metadata": {},
   "outputs": [],
   "source": [
    "from kanji_lists import JLPT, KYOIKU\n",
    "# https://github.com/ffe4/kanji-lists"
   ]
  },
  {
   "cell_type": "code",
   "execution_count": 57,
   "metadata": {},
   "outputs": [],
   "source": [
    "test_cases_raw = {\n",
    "    'N5 to N4': {\n",
    "        'MOrig': JLPT.N5,\n",
    "        'MDest': JLPT.N4,\n",
    "    },\n",
    "    'N4 to N3': {\n",
    "        'MOrig': JLPT.N4,\n",
    "        'MDest': JLPT.N3,\n",
    "    },\n",
    "    'N3 to N2': {\n",
    "        'MOrig': JLPT.N3,\n",
    "        'MDest': JLPT.N2,\n",
    "    },\n",
    "    'N2 to N1': {\n",
    "        'MOrig': JLPT.N2,\n",
    "        'MDest': JLPT.N1,\n",
    "    },\n",
    "    'G1 to G2': {\n",
    "        'MOrig': KYOIKU.GRADE1,\n",
    "        'MDest': KYOIKU.GRADE2,\n",
    "    },\n",
    "    'G2 to G3': {\n",
    "        'MOrig': KYOIKU.GRADE2,\n",
    "        'MDest': KYOIKU.GRADE3,\n",
    "    },\n",
    "    'G3 to G4': {\n",
    "        'MOrig': KYOIKU.GRADE3,\n",
    "        'MDest': KYOIKU.GRADE4,\n",
    "    },\n",
    "    'G4 to G5': {\n",
    "        'MOrig': KYOIKU.GRADE4,\n",
    "        'MDest': KYOIKU.GRADE5,\n",
    "    },\n",
    "    'G5 to G6': {\n",
    "        'MOrig': KYOIKU.GRADE5,\n",
    "        'MDest': KYOIKU.GRADE6,\n",
    "    },\n",
    "}"
   ]
  },
  {
   "cell_type": "code",
   "execution_count": 58,
   "metadata": {},
   "outputs": [],
   "source": [
    "def tc_filter_in_graph(G, kanji_list):\n",
    "    \n",
    "    tc_filtered = []\n",
    "    for k in kanji_list:\n",
    "\n",
    "        tk = get_key(k, 'kanji')\n",
    "        \n",
    "        if tk in G:\n",
    "            tc_filtered.append(tk)\n",
    "            continue\n",
    "        \n",
    "        tr = get_key(k, 'radical')\n",
    "        if tr in G:\n",
    "            tc_filtered.append(tr)\n",
    "            continue\n",
    "            \n",
    "    return tc_filtered"
   ]
  },
  {
   "cell_type": "code",
   "execution_count": 59,
   "metadata": {},
   "outputs": [],
   "source": [
    "def filter_test_cases_raw(G, test_cases_raw):\n",
    "    test_cases_clean = {}\n",
    "    for tc_name, tc in test_cases_raw.items():\n",
    "\n",
    "        MOrig = tc_filter_in_graph(G, tc['MOrig'])\n",
    "        MDest = tc_filter_in_graph(G, tc['MDest'])\n",
    "\n",
    "        test_cases_clean[tc_name] = {\n",
    "            'MOrig': MOrig,\n",
    "            'MDest': MDest,\n",
    "        }\n",
    "\n",
    "    return test_cases_clean"
   ]
  },
  {
   "cell_type": "code",
   "execution_count": 60,
   "metadata": {},
   "outputs": [],
   "source": [
    "test_cases_clean = filter_test_cases_raw(kjg, test_cases_raw)"
   ]
  },
  {
   "cell_type": "code",
   "execution_count": 61,
   "metadata": {},
   "outputs": [],
   "source": [
    "def find_path(G: nx.Graph, MOrig: List, MDest: List, method='brute_force') -> nx.Graph:\n",
    "    if method == 'brute_force':\n",
    "        return find_path_bf(G, MOrig, MDest)\n",
    "    elif method == 'steiner_tree':\n",
    "        return find_path_steiner(G, MOrig, MDest)\n",
    "    elif method == 'astar_common_neighbor':\n",
    "        return find_path_astar(G, MOrig, MDest, common_neighbor)\n",
    "    elif method == 'astar_jaccard':\n",
    "        return find_path_astar(G, MOrig, MDest, jaccard_function)\n",
    "    elif method == 'astar_0':\n",
    "        return find_path_astar(G, MOrig, MDest, lambda x, y: 0)\n",
    "    else:\n",
    "        raise ValueError(f\"method {method} is not valid\")"
   ]
  },
  {
   "cell_type": "markdown",
   "metadata": {},
   "source": [
    "## Testing"
   ]
  },
  {
   "cell_type": "code",
   "execution_count": 62,
   "metadata": {},
   "outputs": [],
   "source": [
    "def get_result_accuracy(G0, Gt):\n",
    "    common_nodes = len(G0.nodes() & Gt.nodes())\n",
    "    G0_nodes     = len(G0.nodes())\n",
    "    \n",
    "    return common_nodes / G0_nodes"
   ]
  },
  {
   "cell_type": "code",
   "execution_count": 70,
   "metadata": {},
   "outputs": [],
   "source": [
    "def get_results_kanjigen(G: nx.Graph, algo_list: List, test_cases_clean: dict):\n",
    "    results = {tc_name: dict() for tc_name in test_cases_clean}\n",
    "\n",
    "    for tc_name, tc in test_cases_clean.items():\n",
    "        \n",
    "        if tc_name != 'N5 to N4':\n",
    "            continue\n",
    "        \n",
    "        MOrig = tc['MOrig'][:3]\n",
    "        MDest = tc['MDest'][:3]\n",
    "        \n",
    "        # get time\n",
    "        for algo in algo_list:\n",
    "            \n",
    "            print(f\"algo: {algo}\")\n",
    "            print(f\"tc: {tc_name} of {len(test_cases_clean)}\")\n",
    "            start  = time.time()\n",
    "            graph  = find_path(G, MOrig, MDest, algo)\n",
    "            end    = time.time()\n",
    "            print(\"finish\")\n",
    "            print(\"==============\")\n",
    "            \n",
    "            results[tc_name][algo] = {'graph': graph, 'time': (end - start)}\n",
    "        \n",
    "        # get accuracy\n",
    "        \n",
    "        G0 = results[tc_name]['brute_force']['graph']\n",
    "        results[tc_name]['brute_force']['accuracy'] = 1.0\n",
    "        for algo in [algo for algo in algo_list if algo != 'brute_force']:\n",
    "            \n",
    "            Gt = results[tc_name][algo]['graph']\n",
    "            \n",
    "            results[tc_name][algo][\"accuracy\"] = get_result_accuracy(G0, Gt)\n",
    "    \n",
    "    return results"
   ]
  },
  {
   "cell_type": "code",
   "execution_count": 71,
   "metadata": {
    "scrolled": true
   },
   "outputs": [
    {
     "name": "stdout",
     "output_type": "stream",
     "text": [
      "algo: brute_force\n",
      "tc: N5 to N4 of 9\n",
      "電-kanji 問-kanji\n",
      "電-kanji 場-kanji\n",
      "電-kanji 悪-kanji\n",
      "午-kanji 問-kanji\n",
      "午-kanji 場-kanji\n",
      "午-kanji 悪-kanji\n",
      "半-kanji 問-kanji\n",
      "半-kanji 場-kanji\n",
      "半-kanji 悪-kanji\n",
      "finish\n",
      "==============\n",
      "algo: astar_common_neighbor\n",
      "tc: N5 to N4 of 9\n",
      "finish\n",
      "==============\n",
      "algo: astar_jaccard\n",
      "tc: N5 to N4 of 9\n",
      "finish\n",
      "==============\n",
      "algo: astar_0\n",
      "tc: N5 to N4 of 9\n",
      "finish\n",
      "==============\n"
     ]
    }
   ],
   "source": [
    "algo_list = ['brute_force', 'astar_common_neighbor', 'astar_jaccard', 'astar_0']\n",
    "results = get_results_kanjigen(kjg, algo_list, test_cases_clean)"
   ]
  },
  {
   "cell_type": "code",
   "execution_count": 72,
   "metadata": {},
   "outputs": [
    {
     "name": "stdout",
     "output_type": "stream",
     "text": [
      "{'G1 to G2': {},\n",
      " 'G2 to G3': {},\n",
      " 'G3 to G4': {},\n",
      " 'G4 to G5': {},\n",
      " 'G5 to G6': {},\n",
      " 'N2 to N1': {},\n",
      " 'N3 to N2': {},\n",
      " 'N4 to N3': {},\n",
      " 'N5 to N4': {'astar_0': {'accuracy': 1.0,\n",
      "                          'graph': <networkx.classes.graph.Graph object at 0x7f9cd779aa90>,\n",
      "                          'time': 0.30627012252807617},\n",
      "              'astar_common_neighbor': {'accuracy': 1.0,\n",
      "                                        'graph': <networkx.classes.graph.Graph object at 0x7f9cd779abb0>,\n",
      "                                        'time': 0.9694275856018066},\n",
      "              'astar_jaccard': {'accuracy': 0.631578947368421,\n",
      "                                'graph': <networkx.classes.graph.Graph object at 0x7f9cd779a880>,\n",
      "                                'time': 1.377197504043579},\n",
      "              'brute_force': {'accuracy': 1.0,\n",
      "                              'graph': <networkx.classes.graph.Graph object at 0x7f9cd779ac70>,\n",
      "                              'time': 0.26279425621032715}}}\n"
     ]
    }
   ],
   "source": [
    "pp(results)"
   ]
  },
  {
   "cell_type": "markdown",
   "metadata": {},
   "source": [
    "# Analysis"
   ]
  },
  {
   "cell_type": "code",
   "execution_count": 144,
   "metadata": {},
   "outputs": [],
   "source": [
    "def get_df_results(results, algo_list):\n",
    "    df_results = {algo: dict() for algo in algo_list}\n",
    "    for tc_name, res in results.items():\n",
    "        \n",
    "        \n",
    "        for algo in algo_list:\n",
    "            if algo not in res:\n",
    "                continue\n",
    "            \n",
    "            if tc_name not in df_results[algo]:\n",
    "                df_results[algo][tc_name] = dict()\n",
    "                \n",
    "            \n",
    "            df_results[algo][tc_name]['accuracy'] = round(res[algo]['accuracy'], 2)\n",
    "            df_results[algo][tc_name]['time']     = round(res[algo]['time'], 2)\n",
    "    return df_results"
   ]
  },
  {
   "cell_type": "code",
   "execution_count": 145,
   "metadata": {},
   "outputs": [
    {
     "data": {
      "text/plain": [
       "{'brute_force': {'N5 to N4': {'accuracy': 1.0, 'time': 0.26}},\n",
       " 'astar_common_neighbor': {'N5 to N4': {'accuracy': 1.0, 'time': 0.97}},\n",
       " 'astar_jaccard': {'N5 to N4': {'accuracy': 0.63, 'time': 1.38}},\n",
       " 'astar_0': {'N5 to N4': {'accuracy': 1.0, 'time': 0.31}}}"
      ]
     },
     "execution_count": 145,
     "metadata": {},
     "output_type": "execute_result"
    }
   ],
   "source": [
    "df_results = get_df_results(results, algo_list)\n",
    "df_results"
   ]
  },
  {
   "cell_type": "code",
   "execution_count": 146,
   "metadata": {},
   "outputs": [],
   "source": [
    "import pandas as pd\n",
    "import numpy as np"
   ]
  },
  {
   "cell_type": "code",
   "execution_count": 151,
   "metadata": {},
   "outputs": [],
   "source": [
    "df = pd.DataFrame(df_results)"
   ]
  },
  {
   "cell_type": "code",
   "execution_count": 152,
   "metadata": {},
   "outputs": [
    {
     "data": {
      "text/html": [
       "<div>\n",
       "<style scoped>\n",
       "    .dataframe tbody tr th:only-of-type {\n",
       "        vertical-align: middle;\n",
       "    }\n",
       "\n",
       "    .dataframe tbody tr th {\n",
       "        vertical-align: top;\n",
       "    }\n",
       "\n",
       "    .dataframe thead th {\n",
       "        text-align: right;\n",
       "    }\n",
       "</style>\n",
       "<table border=\"1\" class=\"dataframe\">\n",
       "  <thead>\n",
       "    <tr style=\"text-align: right;\">\n",
       "      <th></th>\n",
       "      <th>brute_force</th>\n",
       "      <th>astar_common_neighbor</th>\n",
       "      <th>astar_jaccard</th>\n",
       "      <th>astar_0</th>\n",
       "    </tr>\n",
       "  </thead>\n",
       "  <tbody>\n",
       "    <tr>\n",
       "      <th>N5 to N4</th>\n",
       "      <td>{'accuracy': 1.0, 'time': 0.26}</td>\n",
       "      <td>{'accuracy': 1.0, 'time': 0.97}</td>\n",
       "      <td>{'accuracy': 0.63, 'time': 1.38}</td>\n",
       "      <td>{'accuracy': 1.0, 'time': 0.31}</td>\n",
       "    </tr>\n",
       "  </tbody>\n",
       "</table>\n",
       "</div>"
      ],
      "text/plain": [
       "                              brute_force            astar_common_neighbor  \\\n",
       "N5 to N4  {'accuracy': 1.0, 'time': 0.26}  {'accuracy': 1.0, 'time': 0.97}   \n",
       "\n",
       "                             astar_jaccard                          astar_0  \n",
       "N5 to N4  {'accuracy': 0.63, 'time': 1.38}  {'accuracy': 1.0, 'time': 0.31}  "
      ]
     },
     "execution_count": 152,
     "metadata": {},
     "output_type": "execute_result"
    }
   ],
   "source": [
    "df"
   ]
  }
 ],
 "metadata": {
  "kernelspec": {
   "display_name": "Python 3 (ipykernel)",
   "language": "python",
   "name": "python3"
  },
  "language_info": {
   "codemirror_mode": {
    "name": "ipython",
    "version": 3
   },
   "file_extension": ".py",
   "mimetype": "text/x-python",
   "name": "python",
   "nbconvert_exporter": "python",
   "pygments_lexer": "ipython3",
   "version": "3.8.10"
  },
  "toc": {
   "base_numbering": 1,
   "nav_menu": {},
   "number_sections": true,
   "sideBar": true,
   "skip_h1_title": false,
   "title_cell": "Table of Contents",
   "title_sidebar": "Contents",
   "toc_cell": false,
   "toc_position": {
    "height": "calc(100% - 180px)",
    "left": "10px",
    "top": "150px",
    "width": "196.75px"
   },
   "toc_section_display": true,
   "toc_window_display": true
  },
  "widgets": {
   "application/vnd.jupyter.widget-state+json": {
    "state": {},
    "version_major": 2,
    "version_minor": 0
   }
  }
 },
 "nbformat": 4,
 "nbformat_minor": 2
}
