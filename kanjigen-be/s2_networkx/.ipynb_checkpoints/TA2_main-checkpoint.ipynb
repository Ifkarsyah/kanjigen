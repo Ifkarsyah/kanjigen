{
 "cells": [
  {
   "cell_type": "code",
   "execution_count": 1,
   "metadata": {},
   "outputs": [],
   "source": [
    "from pprint import pprint as pp\n",
    "from typing import Dict, List, Tuple\n",
    "\n",
    "import random\n",
    "import csv\n",
    "import time\n",
    "import datetime\n",
    "\n",
    "import networkx as nx\n",
    "\n",
    "from itertools import count\n",
    "from heapq import heappush, heappop"
   ]
  },
  {
   "cell_type": "code",
   "execution_count": 2,
   "metadata": {},
   "outputs": [
    {
     "name": "stdout",
     "output_type": "stream",
     "text": [
      "Progress:  |██████████████████████████████████████████████████| 100.0%% Completed\n"
     ]
    }
   ],
   "source": [
    "def printProgressBar (iteration, total, prefix = 'Progress: ', suffix = 'Completed', decimals = 1, length = 50, fill = '█'):\n",
    "\n",
    "    percent = (\"{0:.\" + str(decimals) + \"f}\").format(100 * (iteration / float(total)))\n",
    "    styling = f'{prefix} |{fill}| {percent}%% {suffix}'\n",
    "    filledLength = int(length * iteration // total)\n",
    "    bar = fill * filledLength + '-' * (length - filledLength)\n",
    "    print('\\r%s' % styling.replace(fill, bar), end = '\\r')\n",
    "    # Print New Line on Complete\n",
    "    if iteration == total: \n",
    "        print()\n",
    "\n",
    "# Sample Usage\n",
    "import shutil, time\n",
    "\n",
    "# A List of Items\n",
    "items = list(range(0, 57))\n",
    "l = len(items)\n",
    "\n",
    "# Initial call to print 0% progress\n",
    "printProgressBar(0, l)\n",
    "for i, item in enumerate(items):\n",
    "    # Do stuff...\n",
    "    time.sleep(0.03)\n",
    "    # Update Progress Bar\n",
    "    printProgressBar(i + 1, l)"
   ]
  },
  {
   "cell_type": "code",
   "execution_count": 3,
   "metadata": {},
   "outputs": [],
   "source": [
    "def sample_from_dict(d, sample=10):\n",
    "    keys = random.sample(list(d), sample)\n",
    "    values = [d[k] for k in keys]\n",
    "    return dict(zip(keys, values))"
   ]
  },
  {
   "cell_type": "markdown",
   "metadata": {},
   "source": [
    "# Building Knowledge Graph"
   ]
  },
  {
   "cell_type": "markdown",
   "metadata": {},
   "source": [
    "## Extract Data from CSV"
   ]
  },
  {
   "cell_type": "code",
   "execution_count": 4,
   "metadata": {},
   "outputs": [],
   "source": [
    "def get_csv_data(filepath, handle_row_func):\n",
    "    data = dict()\n",
    "    with open(filepath) as file:\n",
    "        next(file)\n",
    "        rows = csv.reader(file, delimiter=\",\")\n",
    "        for row in rows:\n",
    "            handle_row_func(data, row)\n",
    "    return data"
   ]
  },
  {
   "cell_type": "code",
   "execution_count": 5,
   "metadata": {},
   "outputs": [],
   "source": [
    "def handle_csv_kanji_func(data, row):\n",
    "    kanji,*meanings = row\n",
    "    if len(meanings) >= 2:\n",
    "        meanings = \",\".join(meanings)\n",
    "    else:\n",
    "        meanings = meanings[0]\n",
    "    meanings = meanings.split(\":\")\n",
    "    meanings = meanings[0]\n",
    "    data[kanji] = meanings"
   ]
  },
  {
   "cell_type": "code",
   "execution_count": 6,
   "metadata": {
    "scrolled": true
   },
   "outputs": [
    {
     "name": "stdout",
     "output_type": "stream",
     "text": [
      "len(data_kanji) =  4393\n",
      "{'却': 'instead',\n",
      " '夘': 'sign of the hare or rabbit',\n",
      " '懐': 'pocket',\n",
      " '掉': 'shake & move',\n",
      " '瓣': 'petal',\n",
      " '綾': 'design',\n",
      " '繧': 'a method of dyeing',\n",
      " '聚': 'assemble',\n",
      " '釁': 'smear with blood',\n",
      " '離': 'detach'}\n"
     ]
    }
   ],
   "source": [
    "data_kanji = get_csv_data(\"dataset/s5_kanjis_output.csv\", handle_csv_kanji_func)\n",
    "print(\"len(data_kanji) = \", len(data_kanji))\n",
    "pp(sample_from_dict(data_kanji))"
   ]
  },
  {
   "cell_type": "code",
   "execution_count": 7,
   "metadata": {},
   "outputs": [],
   "source": [
    "def handle_csv_radical_func(data, row):\n",
    "    radical,meaning,_ = row\n",
    "    data[radical] = meaning"
   ]
  },
  {
   "cell_type": "code",
   "execution_count": 8,
   "metadata": {},
   "outputs": [
    {
     "name": "stdout",
     "output_type": "stream",
     "text": [
      "len(data_radical) =  255\n",
      "{'卩': 'seal',\n",
      " '又': 'again',\n",
      " '口': 'mouth',\n",
      " '毛': 'wool',\n",
      " '生': 'life',\n",
      " '疋': 'head count',\n",
      " '竹': 'bamboo',\n",
      " '赤': 'red',\n",
      " '革': 'leather pelt',\n",
      " '龍': 'dragon'}\n"
     ]
    }
   ],
   "source": [
    "data_radical = get_csv_data(\"dataset/s7_nodes_radical_meaning.csv\", handle_csv_radical_func)\n",
    "print(\"len(data_radical) = \", len(data_radical))\n",
    "pp(sample_from_dict(data_radical))"
   ]
  },
  {
   "cell_type": "code",
   "execution_count": 9,
   "metadata": {},
   "outputs": [],
   "source": [
    "def handle_csv_edges_func(data, row):\n",
    "    kanji,radical_list = row\n",
    "    if kanji in data_kanji:\n",
    "        data[kanji] = radical_list.split(':')"
   ]
  },
  {
   "cell_type": "code",
   "execution_count": 10,
   "metadata": {},
   "outputs": [
    {
     "name": "stdout",
     "output_type": "stream",
     "text": [
      "len(data_edges) =  4393\n",
      "{'嗄': ['口', '夂', '自'],\n",
      " '墻': ['人', '口', '囗', '土'],\n",
      " '愧': ['儿', '匕', '田', '鬼', '忄'],\n",
      " '憾': ['丿', '口', '心', '戈', '忄'],\n",
      " '抄': ['丿', '小', '扌'],\n",
      " '曚': ['冖', '日', '豕', '艹'],\n",
      " '梗': ['丿', '日', '木'],\n",
      " '蓄': ['亠', '幺', '玄', '田', '艹'],\n",
      " '造': ['丿', '口', '土', '辶'],\n",
      " '鬣': ['囗', '彡', '臼', '長', '髟', '鼠']}\n"
     ]
    }
   ],
   "source": [
    "data_edges = get_csv_data(\"dataset/s7_edges_kanji_radical.csv\", handle_csv_edges_func)\n",
    "print(\"len(data_edges) = \", len(data_edges))\n",
    "pp(sample_from_dict(data_edges))"
   ]
  },
  {
   "cell_type": "markdown",
   "metadata": {},
   "source": [
    "## Data Structure"
   ]
  },
  {
   "cell_type": "markdown",
   "metadata": {},
   "source": [
    "### Node Manager"
   ]
  },
  {
   "cell_type": "code",
   "execution_count": 11,
   "metadata": {},
   "outputs": [],
   "source": [
    "get_key = lambda symbol, dtype : f\"{symbol}-{dtype}\""
   ]
  },
  {
   "cell_type": "code",
   "execution_count": 12,
   "metadata": {},
   "outputs": [],
   "source": [
    "node_kanji = {\n",
    "    get_key(symbol, 'kanji'): {\n",
    "        'symbol' : symbol,\n",
    "        'meaning': meaning,\n",
    "        'visual' : f\"{symbol}\\n{meaning}\",\n",
    "        'color'  : 'red',\n",
    "    } for symbol, meaning in data_kanji.items()}"
   ]
  },
  {
   "cell_type": "code",
   "execution_count": 13,
   "metadata": {},
   "outputs": [],
   "source": [
    "node_radical = {\n",
    "    get_key(symbol, 'radical'): {\n",
    "        'symbol' : symbol,\n",
    "        'meaning': meaning,\n",
    "        'visual' : f\"{symbol}\\n{meaning}\",\n",
    "        'color'  : 'yellow',\n",
    "    } for symbol, meaning in data_radical.items()}"
   ]
  },
  {
   "cell_type": "code",
   "execution_count": 14,
   "metadata": {},
   "outputs": [
    {
     "name": "stdout",
     "output_type": "stream",
     "text": [
      "{'呵-kanji': {'color': 'red',\n",
      "             'meaning': 'scold',\n",
      "             'symbol': '呵',\n",
      "             'visual': '呵\\nscold'},\n",
      " '哲-kanji': {'color': 'red',\n",
      "             'meaning': 'philosophy',\n",
      "             'symbol': '哲',\n",
      "             'visual': '哲\\nphilosophy'},\n",
      " '椡-kanji': {'color': 'red',\n",
      "             'meaning': 'type of oak',\n",
      "             'symbol': '椡',\n",
      "             'visual': '椡\\ntype of oak'},\n",
      " '羆-kanji': {'color': 'red',\n",
      "             'meaning': 'brown bear',\n",
      "             'symbol': '羆',\n",
      "             'visual': '羆\\nbrown bear'},\n",
      " '耒-radical': {'color': 'yellow',\n",
      "               'meaning': 'three branch tree',\n",
      "               'symbol': '耒',\n",
      "               'visual': '耒\\nthree branch tree'},\n",
      " '肭-kanji': {'color': 'red',\n",
      "             'meaning': 'new moon',\n",
      "             'symbol': '肭',\n",
      "             'visual': '肭\\nnew moon'},\n",
      " '至-kanji': {'color': 'red',\n",
      "             'meaning': 'climax',\n",
      "             'symbol': '至',\n",
      "             'visual': '至\\nclimax'},\n",
      " '賄-kanji': {'color': 'red',\n",
      "             'meaning': 'bribe',\n",
      "             'symbol': '賄',\n",
      "             'visual': '賄\\nbribe'},\n",
      " '随-kanji': {'color': 'red',\n",
      "             'meaning': 'follow',\n",
      "             'symbol': '随',\n",
      "             'visual': '随\\nfollow'},\n",
      " '驥-kanji': {'color': 'red',\n",
      "             'meaning': 'fast horse',\n",
      "             'symbol': '驥',\n",
      "             'visual': '驥\\nfast horse'}}\n"
     ]
    }
   ],
   "source": [
    "full_node = {**node_radical, **node_kanji}\n",
    "pp(sample_from_dict(full_node))"
   ]
  },
  {
   "cell_type": "markdown",
   "metadata": {},
   "source": [
    "### Edge Manager"
   ]
  },
  {
   "cell_type": "code",
   "execution_count": 15,
   "metadata": {},
   "outputs": [
    {
     "data": {
      "text/plain": [
       "[('亜-kanji', '｜-radical'),\n",
       " ('亜-kanji', '口-radical'),\n",
       " ('唖-kanji', '｜-radical'),\n",
       " ('唖-kanji', '口-radical'),\n",
       " ('唖-kanji', '刂-radical'),\n",
       " ('逢-kanji', '｜-radical'),\n",
       " ('逢-kanji', '二-radical'),\n",
       " ('逢-kanji', '夂-radical'),\n",
       " ('逢-kanji', '辶-radical'),\n",
       " ('悪-kanji', '｜-radical')]"
      ]
     },
     "execution_count": 15,
     "metadata": {},
     "output_type": "execute_result"
    }
   ],
   "source": [
    "def get_graph_edge(data_edges):\n",
    "    edges = []\n",
    "    for kanji, radicals in data_edges.items():\n",
    "        for r in radicals:\n",
    "            edges.append( (f\"{kanji}-kanji\", f\"{r}-radical\") )\n",
    "    return edges\n",
    "\n",
    "full_edges = get_graph_edge(data_edges)\n",
    "full_edges[:10]"
   ]
  },
  {
   "cell_type": "markdown",
   "metadata": {},
   "source": [
    "## Kanji Graph"
   ]
  },
  {
   "cell_type": "code",
   "execution_count": 16,
   "metadata": {},
   "outputs": [],
   "source": [
    "kjg_raw = nx.Graph()\n",
    "\n",
    "kjg_raw.add_nodes_from(full_node.items())\n",
    "kjg_raw.add_edges_from(full_edges)"
   ]
  },
  {
   "cell_type": "code",
   "execution_count": 17,
   "metadata": {},
   "outputs": [],
   "source": [
    "# PREPROCESSING: ENFORCE CONNECTED GRAPH\n",
    "# https://networkx.org/documentation/stable/reference/algorithms/isolates.html\n",
    "# EDA + Preprocessing: Removing Isolated Nodes\n",
    "\n",
    "def enforce_connected_graph(G):\n",
    "    n_conn = nx.number_connected_components(G)\n",
    "    n_iso  = nx.number_of_isolates(G)\n",
    "    print('number of connected components: ', nx.number_connected_components(G))\n",
    "    print('number of isolated: ', n_iso)\n",
    "\n",
    "    if n_iso > 1:\n",
    "        G.remove_nodes_from(list(nx.isolates(G)))\n",
    "        \n",
    "    n_conn = nx.number_connected_components(G)\n",
    "    if n_conn != 1:\n",
    "        raise ValueError(f\"Number of connected components must be 1, not {n_conn}\")\n",
    "    else:\n",
    "        print(\"Graph is already connected\")\n",
    "    return G"
   ]
  },
  {
   "cell_type": "code",
   "execution_count": 18,
   "metadata": {},
   "outputs": [
    {
     "name": "stdout",
     "output_type": "stream",
     "text": [
      "number of connected components:  13\n",
      "number of isolated:  12\n",
      "Graph is already connected\n"
     ]
    }
   ],
   "source": [
    "kjg = enforce_connected_graph(kjg_raw)"
   ]
  },
  {
   "cell_type": "markdown",
   "metadata": {},
   "source": [
    "### Graph Visualization"
   ]
  },
  {
   "cell_type": "code",
   "execution_count": 19,
   "metadata": {},
   "outputs": [
    {
     "data": {
      "text/plain": [
       "[<Font 'Noto Serif CJK JP' (NotoSerifCJK-Regular.ttc) normal normal 400 normal>,\n",
       " <Font 'Noto Sans CJK JP' (NotoSansCJK-Bold.ttc) normal normal 700 normal>,\n",
       " <Font 'Noto Serif CJK JP' (NotoSerifCJK-Bold.ttc) normal normal 700 normal>,\n",
       " <Font 'Noto Sans CJK JP' (NotoSansCJK-Regular.ttc) normal normal 400 normal>]"
      ]
     },
     "execution_count": 19,
     "metadata": {},
     "output_type": "execute_result"
    }
   ],
   "source": [
    "import matplotlib\n",
    "import matplotlib.pyplot as plt\n",
    "\n",
    "import matplotlib.font_manager as fm\n",
    "\n",
    "# Reference: https://albertauyeung.github.io/2020/03/15/matplotlib-cjk-fonts.html\n",
    "[f for f in fm.fontManager.ttflist if 'CJK JP' in f.name]"
   ]
  },
  {
   "cell_type": "code",
   "execution_count": 20,
   "metadata": {},
   "outputs": [],
   "source": [
    "def visualize_graph(\n",
    "    Graph: nx.Graph, \n",
    "    figsize: tuple=(7,7), \n",
    "    color_map: List[str]=None, \n",
    "    node_size: int=3000, \n",
    "    with_labels: bool=True) -> None:\n",
    "    \n",
    "    if color_map == None:\n",
    "        color_map = [Graph.nodes[n][\"color\"] for n in Graph] \n",
    "    else:\n",
    "        color_map = color_map\n",
    "    \n",
    "    plt.figure(1,figsize=figsize) \n",
    "    \n",
    "    \n",
    "    labels = nx.get_node_attributes(Graph, 'visual')\n",
    "    \n",
    "    nx.draw_kamada_kawai(Graph, \n",
    "                         node_color=color_map, \n",
    "                         with_labels=with_labels,\n",
    "                         labels=labels,\n",
    "                         node_size=node_size, \n",
    "                         font_size=20,\n",
    "                         font_family=\"Noto Serif CJK JP\")\n",
    "    plt.show()"
   ]
  },
  {
   "cell_type": "code",
   "execution_count": 21,
   "metadata": {},
   "outputs": [
    {
     "data": {
      "image/png": "[encoded data removed]",
      "text/plain": [
       "<Figure size 504x504 with 1 Axes>"
      ]
     },
     "metadata": {},
     "output_type": "display_data"
    }
   ],
   "source": [
    "visualize_graph(\n",
    "    Graph       = kjg.subgraph(random.sample(kjg.nodes, 300)),\n",
    "    node_size   = 100,\n",
    "    with_labels = None,\n",
    ")"
   ]
  },
  {
   "cell_type": "code",
   "execution_count": 22,
   "metadata": {},
   "outputs": [
    {
     "data": {
      "image/png": "[encoded data removed]",
      "text/plain": [
       "<Figure size 216x216 with 1 Axes>"
      ]
     },
     "metadata": {},
     "output_type": "display_data"
    }
   ],
   "source": [
    "def get_sg_kanji_with(kjg) -> nx.Graph:\n",
    "    sg = nx.Graph()\n",
    "    p = '痘-kanji'\n",
    "    radicals = [n for n in kjg.neighbors(p)]\n",
    "    sg.add_nodes_from([(p, kjg.nodes[p])] + [(r, kjg.nodes[r]) for r in radicals])\n",
    "    sg.add_edges_from([(p, rp) for rp in radicals])\n",
    "    return sg\n",
    "\n",
    "visualize_graph(\n",
    "    Graph       = get_sg_kanji_with(kjg),\n",
    "    node_size   = 2000,\n",
    "    figsize     = (3,3)\n",
    ")"
   ]
  },
  {
   "cell_type": "markdown",
   "metadata": {},
   "source": [
    "### Exploratory Data Analysis"
   ]
  },
  {
   "cell_type": "code",
   "execution_count": 23,
   "metadata": {
    "scrolled": true
   },
   "outputs": [
    {
     "name": "stdout",
     "output_type": "stream",
     "text": [
      "Graph with 4636 nodes and 17168 edges\n",
      "number of connected components:  1\n"
     ]
    }
   ],
   "source": [
    "print(nx.info(kjg))\n",
    "print('number of connected components: ', nx.number_connected_components(kjg))"
   ]
  },
  {
   "cell_type": "code",
   "execution_count": 24,
   "metadata": {},
   "outputs": [
    {
     "data": {
      "image/png": "[encoded data removed]",
      "text/plain": [
       "<Figure size 504x504 with 1 Axes>"
      ]
     },
     "metadata": {},
     "output_type": "display_data"
    }
   ],
   "source": [
    "visualize_graph(\n",
    "    Graph       = kjg.subgraph(random.sample(kjg.nodes, 300)),\n",
    "    node_size   = 100,\n",
    "    with_labels = None,\n",
    ")"
   ]
  },
  {
   "cell_type": "markdown",
   "metadata": {},
   "source": [
    "### Graph Function"
   ]
  },
  {
   "cell_type": "code",
   "execution_count": 25,
   "metadata": {},
   "outputs": [],
   "source": [
    "def generate_graph(G: nx.Graph, nodes: List) -> nx.Graph:\n",
    "    R = nx.Graph()\n",
    "    R.add_nodes_from([(n, G.nodes[n]) for n in nodes])\n",
    "    R.add_edges_from(nx.utils.pairwise(nodes))\n",
    "    return R"
   ]
  },
  {
   "cell_type": "code",
   "execution_count": 26,
   "metadata": {},
   "outputs": [],
   "source": [
    "def get_node_color_result(g, kinputs, koutputs):\n",
    "    color_map = []\n",
    "    for n in g:\n",
    "        if n in kinputs:\n",
    "            color_map.append(\"green\") # input\n",
    "        elif n in koutputs:\n",
    "            color_map.append(\"blue\")  # output\n",
    "        else:\n",
    "            color_map.append(g.nodes[n][\"color\"])\n",
    "    return color_map"
   ]
  },
  {
   "cell_type": "code",
   "execution_count": 27,
   "metadata": {},
   "outputs": [],
   "source": [
    "def visualize_result(g_res, kinputs, koutputs, figsize=(5,5)):\n",
    "    visualize_graph(\n",
    "        Graph=g_res, \n",
    "        color_map=get_node_color_result(g_res, kinputs, koutputs), \n",
    "        figsize=figsize,\n",
    "    )"
   ]
  },
  {
   "cell_type": "markdown",
   "metadata": {},
   "source": [
    "## Graph Alternatives"
   ]
  },
  {
   "cell_type": "markdown",
   "metadata": {},
   "source": [
    "### Graph Internet"
   ]
  },
  {
   "cell_type": "code",
   "execution_count": 28,
   "metadata": {},
   "outputs": [],
   "source": [
    "g_ias = nx.random_internet_as_graph(300, 10)"
   ]
  },
  {
   "cell_type": "code",
   "execution_count": 29,
   "metadata": {},
   "outputs": [],
   "source": [
    "nx.set_node_attributes(g_ias, {n: {\"visual\": n, \"color\": \"yellow\"} for n in g_ias.nodes})\n",
    "\n",
    "# visualize_graph(\n",
    "#     Graph       = g_ias,\n",
    "#     node_size   = 500,\n",
    "#     figsize     = (4,4),\n",
    "#     with_labels = True,\n",
    "# )"
   ]
  },
  {
   "cell_type": "code",
   "execution_count": 30,
   "metadata": {},
   "outputs": [
    {
     "data": {
      "image/png": "[encoded data removed]",
      "text/plain": [
       "<Figure size 360x360 with 1 Axes>"
      ]
     },
     "metadata": {},
     "output_type": "display_data"
    }
   ],
   "source": [
    "kin = 49  # say\n",
    "kout = 41 # lie \n",
    "\n",
    "result_shortest_path = nx.shortest_path(G=g_ias, source=kin, target=kout)\n",
    "result = generate_graph(g_ias, result_shortest_path)\n",
    "\n",
    "visualize_result(\n",
    "    g_res=result, \n",
    "    kinputs=[kin],\n",
    "    koutputs=[kout]\n",
    ")"
   ]
  },
  {
   "cell_type": "markdown",
   "metadata": {},
   "source": [
    "## Graph List"
   ]
  },
  {
   "cell_type": "code",
   "execution_count": 31,
   "metadata": {},
   "outputs": [
    {
     "name": "stdout",
     "output_type": "stream",
     "text": [
      "number of connected components:  1\n",
      "number of isolated:  0\n",
      "Graph is already connected\n"
     ]
    }
   ],
   "source": [
    "subgraph_edges = [(e[0][0], [1][0]) for e in random.sample(full_edges, 2000)]\n",
    "sample_graph   = nx.Graph(subgraph_edges)\n",
    "sample_graph   = enforce_connected_graph(sample_graph)"
   ]
  },
  {
   "cell_type": "code",
   "execution_count": 32,
   "metadata": {},
   "outputs": [
    {
     "name": "stdout",
     "output_type": "stream",
     "text": [
      "number of isolated clean:  0\n",
      "number of connected clean:  1\n"
     ]
    }
   ],
   "source": [
    "gg = {\n",
    "        'kjg': kjg, \n",
    "        'ias': g_ias\n",
    "     }\n",
    "\n",
    "print('number of isolated clean: ', nx.number_of_isolates(gg['kjg']))\n",
    "print('number of connected clean: ', nx.number_connected_components(gg['kjg']))"
   ]
  },
  {
   "cell_type": "markdown",
   "metadata": {},
   "source": [
    "# Querying Knowledge Graph"
   ]
  },
  {
   "cell_type": "markdown",
   "metadata": {},
   "source": [
    "## Data Structure"
   ]
  },
  {
   "cell_type": "code",
   "execution_count": 33,
   "metadata": {},
   "outputs": [
    {
     "data": {
      "image/png": "[encoded data removed]",
      "text/plain": [
       "<Figure size 360x360 with 1 Axes>"
      ]
     },
     "metadata": {},
     "output_type": "display_data"
    }
   ],
   "source": [
    "kin = '語-kanji'  # say\n",
    "kout = '誕-kanji' # lie \n",
    "\n",
    "result_sp = nx.shortest_path(G=kjg, source=kin, target=kout)\n",
    "result = generate_graph(kjg, result_sp)\n",
    "\n",
    "visualize_result(\n",
    "    g_res=result, \n",
    "    kinputs=[kin],\n",
    "    koutputs=[kout]\n",
    ")"
   ]
  },
  {
   "cell_type": "markdown",
   "metadata": {},
   "source": [
    "## Algorithm"
   ]
  },
  {
   "cell_type": "code",
   "execution_count": 34,
   "metadata": {},
   "outputs": [],
   "source": [
    "MOrig = [40,81,68]\n",
    "MDest = [26,41,94,88]"
   ]
  },
  {
   "cell_type": "markdown",
   "metadata": {},
   "source": [
    "### Brute Force Algorithm"
   ]
  },
  {
   "cell_type": "code",
   "execution_count": 35,
   "metadata": {},
   "outputs": [],
   "source": [
    "def find_path_bf(G: nx.Graph, MOrig: List, MDest: List) -> nx.Graph:\n",
    "    \n",
    "    result = []\n",
    "    \n",
    "    for kin in MOrig: # O(|MOrig|)\n",
    "        for kout in MDest: # O(|MDest|)\n",
    "            sp_raw = nx.dijkstra_path(G, source=kin, target=kout)\n",
    "            # O( (|GV|+|GE|) log |GV|)\n",
    "            \n",
    "            sp_graph = generate_graph(G, sp_raw)\n",
    "            \n",
    "            result.append(sp_graph)\n",
    "    \n",
    "    \n",
    "    return nx.compose_all(result)        "
   ]
  },
  {
   "cell_type": "code",
   "execution_count": 36,
   "metadata": {},
   "outputs": [
    {
     "data": {
      "image/png": "[encoded data removed]",
      "text/plain": [
       "<Figure size 576x576 with 1 Axes>"
      ]
     },
     "metadata": {},
     "output_type": "display_data"
    }
   ],
   "source": [
    "result = find_path_bf(gg['ias'], MOrig, MDest)\n",
    "visualize_result(\n",
    "    g_res=result, \n",
    "    kinputs=MOrig,\n",
    "    koutputs=MDest,\n",
    "    figsize=(8,8)\n",
    ")"
   ]
  },
  {
   "cell_type": "markdown",
   "metadata": {},
   "source": [
    "### Astar Algorithm"
   ]
  },
  {
   "cell_type": "markdown",
   "metadata": {},
   "source": [
    "#### Heuristic"
   ]
  },
  {
   "cell_type": "code",
   "execution_count": 37,
   "metadata": {},
   "outputs": [],
   "source": [
    "g_curr = gg['kjg']"
   ]
  },
  {
   "cell_type": "code",
   "execution_count": 38,
   "metadata": {},
   "outputs": [],
   "source": [
    "def common_neighbor_helper(g_curr, u,v):\n",
    "    neighbor_u = set([n for n in g_curr.neighbors(u)]) # O(1)\n",
    "    neighbor_v = set([n for n in g_curr.neighbors(v)]) # O(1)\n",
    "    return len(neighbor_u & neighbor_v)"
   ]
  },
  {
   "cell_type": "code",
   "execution_count": 39,
   "metadata": {},
   "outputs": [],
   "source": [
    "def common_neighbor(u, v):\n",
    "    return common_neighbor_helper(g_curr,u,v)"
   ]
  },
  {
   "cell_type": "code",
   "execution_count": 40,
   "metadata": {},
   "outputs": [],
   "source": [
    "def jaccard_similarity(u, v):\n",
    "    G = g_curr\n",
    "    union_size = len(set(G[u]) | set(G[v])) # union neighbor\n",
    "    if union_size == 0:\n",
    "        return 0\n",
    "    return common_neighbor_helper(G,u,v) / union_size"
   ]
  },
  {
   "cell_type": "markdown",
   "metadata": {},
   "source": [
    "#### Main A* "
   ]
  },
  {
   "cell_type": "code",
   "execution_count": 41,
   "metadata": {},
   "outputs": [],
   "source": [
    "def find_path_astar(G: nx.Graph, MOrig: List, MDest: List, heuristic_func) -> nx.Graph:\n",
    "    \n",
    "    result = []\n",
    "    \n",
    "    for kin in MOrig: # O(|MOrig|)\n",
    "        for kout in MDest: # (|MDest|)\n",
    "            sp_raw = nx.astar_path(G, source=kin, target=kout, heuristic=heuristic_func)\n",
    "            # O( (|GV|+|GE|) log |GV|)\n",
    "            \n",
    "            sp_graph = generate_graph(G, sp_raw)\n",
    "            \n",
    "            result.append(sp_graph)\n",
    "    \n",
    "    \n",
    "    return nx.compose_all(result)        "
   ]
  },
  {
   "cell_type": "code",
   "execution_count": 42,
   "metadata": {},
   "outputs": [],
   "source": [
    "# result = find_path_astar(gg['ias'], MOrig, MDest, jaccard_function)\n",
    "# visualize_result(\n",
    "#     g_res=result, \n",
    "#     kinputs=MOrig,\n",
    "#     koutputs=MDest,\n",
    "#     figsize=(8,8)\n",
    "# )"
   ]
  },
  {
   "cell_type": "markdown",
   "metadata": {},
   "source": [
    "### Steiner Tree"
   ]
  },
  {
   "cell_type": "code",
   "execution_count": 43,
   "metadata": {},
   "outputs": [],
   "source": [
    "def _dijkstra_multisource(\n",
    "    G, sources, weight, pred=None, paths=None, cutoff=None, target=None\n",
    "):\n",
    "    G_succ = G._succ if G.is_directed() else G._adj\n",
    "\n",
    "    push = heappush\n",
    "    pop = heappop\n",
    "    dist = {}  # dictionary of final distances\n",
    "    seen = {}\n",
    "    # fringe is heapq with 3-tuples (distance,c,node)\n",
    "    # use the count c to avoid comparing nodes (may not be able to)\n",
    "    c = count()\n",
    "    fringe = []\n",
    "    for source in sources:\n",
    "        if source not in G:\n",
    "            raise nx.NodeNotFound(f\"Source {source} not in G\")\n",
    "        seen[source] = 0\n",
    "        push(fringe, (0, next(c), source))\n",
    "    while fringe:\n",
    "        (d, _, v) = pop(fringe)\n",
    "        if v in dist:\n",
    "            continue  # already searched this node.\n",
    "        dist[v] = d\n",
    "        if v == target:\n",
    "            break\n",
    "        for u, e in G_succ[v].items():\n",
    "            cost = weight(v, u, e)\n",
    "            if cost is None:\n",
    "                continue\n",
    "            vu_dist = dist[v] + cost\n",
    "            if cutoff is not None:\n",
    "                if vu_dist > cutoff:\n",
    "                    continue\n",
    "            if u in dist:\n",
    "                u_dist = dist[u]\n",
    "                if vu_dist < u_dist:\n",
    "                    raise ValueError(\"Contradictory paths found:\", \"negative weights?\")\n",
    "                elif pred is not None and vu_dist == u_dist:\n",
    "                    pred[u].append(v)\n",
    "            elif u not in seen or vu_dist < seen[u]:\n",
    "                seen[u] = vu_dist\n",
    "                push(fringe, (vu_dist, next(c), u))\n",
    "                if paths is not None:\n",
    "                    paths[u] = paths[v] + [u]\n",
    "                if pred is not None:\n",
    "                    pred[u] = [v]\n",
    "            elif vu_dist == seen[u]:\n",
    "                if pred is not None:\n",
    "                    pred[u].append(v)\n",
    "\n",
    "    # The optional predecessor and path dictionaries can be accessed\n",
    "    # by the caller via the pred and paths objects passed as arguments.\n",
    "    return dist"
   ]
  },
  {
   "cell_type": "code",
   "execution_count": 44,
   "metadata": {},
   "outputs": [],
   "source": [
    "def multi_source_dijkstra(G, sources, target=None, cutoff=None, weight=\"weight\"):\n",
    "    if target in sources:\n",
    "        return (0, [target])\n",
    "    weight = lambda u, v, data: data.get(weight, 1)\n",
    "    paths = {source: [source] for source in sources}  # dictionary of paths\n",
    "    dist = _dijkstra_multisource(G, sources, weight, paths=paths)\n",
    "    if target is None:\n",
    "        return (dist, paths)\n",
    "    try:\n",
    "        return (dist[target], paths[target])\n",
    "    except KeyError as e:\n",
    "        raise nx.NetworkXNoPath(f\"No path to {target}.\") from e"
   ]
  },
  {
   "cell_type": "code",
   "execution_count": 45,
   "metadata": {},
   "outputs": [],
   "source": [
    "def my_all_pairs_dijkstra(G):\n",
    "    i = 0\n",
    "    for n in G:\n",
    "        i += 1\n",
    "        print('\\r%s' % i, end = '\\r')\n",
    "        dist, path = multi_source_dijkstra(G, {n})\n",
    "        yield (n, (dist, path))"
   ]
  },
  {
   "cell_type": "code",
   "execution_count": 46,
   "metadata": {},
   "outputs": [],
   "source": [
    "def metric_closure(G, weight=\"weight\"):\n",
    "    M = nx.Graph()\n",
    "\n",
    "    Gnodes = set(G)\n",
    "\n",
    "    # check for connected graph while processing first node\n",
    "    all_paths_iter = my_all_pairs_dijkstra(G)\n",
    "    u, (distance, path) = next(all_paths_iter)\n",
    "    if Gnodes - set(distance):\n",
    "        msg = \"G is not a connected graph. metric_closure is not defined.\"\n",
    "        raise nx.NetworkXError(msg)\n",
    "    Gnodes.remove(u)\n",
    "    for v in Gnodes:\n",
    "        M.add_edge(u, v, distance=distance[v], path=path[v])\n",
    "\n",
    "    # first node done -- now process the rest\n",
    "    for u, (distance, path) in all_paths_iter:\n",
    "        Gnodes.remove(u)\n",
    "        for v in Gnodes:\n",
    "            M.add_edge(u, v, distance=distance[v], path=path[v])\n",
    "\n",
    "    return M"
   ]
  },
  {
   "cell_type": "code",
   "execution_count": 47,
   "metadata": {},
   "outputs": [
    {
     "name": "stdout",
     "output_type": "stream",
     "text": [
      "4636\r"
     ]
    }
   ],
   "source": [
    "mcg = metric_closure(g_curr, weight='weight')"
   ]
  },
  {
   "cell_type": "code",
   "execution_count": 48,
   "metadata": {},
   "outputs": [],
   "source": [
    "from itertools import chain\n",
    "from networkx.utils import pairwise\n",
    "\n",
    "\n",
    "def my_steiner_tree(G, terminal_nodes, weight=\"weight\", is_mcg=True):\n",
    "    global mcg\n",
    "    \n",
    "    # H is the subgraph induced by terminal_nodes in the metric closure M of G. \n",
    "    if is_mcg:\n",
    "        M = mcg\n",
    "    else:\n",
    "        M = metric_closure(G, weight=weight) # O(|GV|^2)\n",
    "    H = M.subgraph(terminal_nodes) # O(|GV|^2) * O(|MOrig| + |MDest|)\n",
    "    \n",
    "    # Use the 'distance' attribute of each edge provided by M.\n",
    "    mst_edges = nx.minimum_spanning_edges(H, weight=\"distance\", data=True) # O (|GE| log GV)\n",
    "    \n",
    "    \n",
    "    # Create an iterator over each edge in each shortest path; repeats are okay\n",
    "    edges = chain.from_iterable(pairwise(d[\"path\"]) for u, v, d in mst_edges)\n",
    "    \n",
    "\n",
    "    T = G.edge_subgraph(edges)\n",
    "    \n",
    "    return T"
   ]
  },
  {
   "cell_type": "code",
   "execution_count": 49,
   "metadata": {},
   "outputs": [],
   "source": [
    "def find_path_steiner(G: nx.Graph, MOrig: List, MDest: List) -> nx.Graph:\n",
    "    \n",
    "    return my_steiner_tree(G, MOrig + MDest, is_mcg=True)"
   ]
  },
  {
   "cell_type": "code",
   "execution_count": 50,
   "metadata": {},
   "outputs": [
    {
     "data": {
      "image/png": "[encoded data removed]",
      "text/plain": [
       "<Figure size 576x576 with 1 Axes>"
      ]
     },
     "metadata": {},
     "output_type": "display_data"
    }
   ],
   "source": [
    "result = find_path_steiner(gg['ias'], MOrig, MDest)\n",
    "visualize_result(\n",
    "    g_res=result, \n",
    "    kinputs=MOrig,\n",
    "    koutputs=MDest,\n",
    "    figsize=(8,8)\n",
    ")"
   ]
  },
  {
   "cell_type": "markdown",
   "metadata": {},
   "source": [
    "# Experiment"
   ]
  },
  {
   "cell_type": "markdown",
   "metadata": {},
   "source": [
    "## Test Case"
   ]
  },
  {
   "cell_type": "code",
   "execution_count": 51,
   "metadata": {},
   "outputs": [],
   "source": [
    "from kanji_lists import JLPT, KYOIKU\n",
    "# https://github.com/ffe4/kanji-lists"
   ]
  },
  {
   "cell_type": "code",
   "execution_count": 52,
   "metadata": {},
   "outputs": [],
   "source": [
    "test_cases_raw = {\n",
    "    'N5 to N4': {\n",
    "        'MOrig': list(JLPT.N5)[:3],\n",
    "        'MDest': list(JLPT.N4)[:7],\n",
    "    },\n",
    "    'G1 to G2': {\n",
    "        'MOrig': list(KYOIKU.GRADE1)[:13],\n",
    "        'MDest': list(KYOIKU.GRADE2)[:17],\n",
    "    },\n",
    "    'G2 to G3': {\n",
    "        'MOrig': list(KYOIKU.GRADE2)[:20],\n",
    "        'MDest': list(KYOIKU.GRADE3)[:30],\n",
    "    },\n",
    "    'N4 to N3': {\n",
    "        'MOrig': list(JLPT.N4)[:30],\n",
    "        'MDest': list(JLPT.N3)[:70],\n",
    "    },\n",
    "    'N3 to N2': {\n",
    "        'MOrig': list(JLPT.N3)[:60],\n",
    "        'MDest': list(JLPT.N2)[:140],\n",
    "    },\n",
    "    'G3 to G4': {\n",
    "        'MOrig': list(KYOIKU.GRADE3)[:160],\n",
    "        'MDest': list(KYOIKU.GRADE4)[:240],\n",
    "    },\n",
    "    'G4 to G5': {\n",
    "        'MOrig': list(KYOIKU.GRADE4)[:240],\n",
    "        'MDest': list(KYOIKU.GRADE5)[:360],\n",
    "    },\n",
    "    # TODO: RUN N2 TO N1, UNCOMMENT ABOVE\n",
    "    'N2 to N1': {\n",
    "        'MOrig': list(JLPT.N2)[:400],\n",
    "        'MDest': list(JLPT.N1)[:600],\n",
    "    },\n",
    "    'G5 to G6': {\n",
    "        'MOrig': list(KYOIKU.GRADE5)[:500],\n",
    "        'MDest': list(KYOIKU.GRADE6)[:700],\n",
    "    },\n",
    "    \n",
    "    # gg['ias']\n",
    "#     'tc_ias_1': {\n",
    "#         'MOrig': [1,2,3],\n",
    "#         'MDest': [91,92,93]\n",
    "#     },\n",
    "#     'tc_ias_2': {\n",
    "#         'MOrig': [i*11 for i in range(33)],\n",
    "#         'MDest': [i*10 for i in range(66)]\n",
    "#     },\n",
    "#     'tc_ias_3': {\n",
    "#         'MOrig': [i*12 for i in range(100) if i*12 < 3000],\n",
    "#         'MDest': [i*13 for i in range(200) if i*13 < 3000]\n",
    "#     },\n",
    "#     'tc_ias_4': {\n",
    "#         'MOrig': [i*13 for i in range(200) if i*13 < 3000],\n",
    "#         'MDest': [i*14 for i in range(300) if i*14 < 3000]\n",
    "#     },\n",
    "#     'tc_ias_5': {\n",
    "#         'MOrig': [i*5 for i in range(400) if i*5 < 3000],\n",
    "#         'MDest': [i*7 for i in range(500) if i*7 < 3000]\n",
    "#     },\n",
    "#     'tc_ias_6': {\n",
    "#         'MOrig': [i*7 for i in range(600) if i*7 < 3000],\n",
    "#         'MDest': [i*3 for i in range(700) if i*3 < 3000]\n",
    "#     },\n",
    "}\n",
    "# test_cases_raw"
   ]
  },
  {
   "cell_type": "code",
   "execution_count": 53,
   "metadata": {},
   "outputs": [],
   "source": [
    "def tc_filter_in_graph(G, kanji_list):\n",
    "    \n",
    "    tc_filtered = []\n",
    "    for k in kanji_list:\n",
    "\n",
    "        tk = get_key(k, 'kanji')\n",
    "        \n",
    "        if tk in G:\n",
    "            tc_filtered.append(tk)\n",
    "            continue\n",
    "        \n",
    "        tr = get_key(k, 'radical')\n",
    "        if tr in G:\n",
    "            tc_filtered.append(tr)\n",
    "            continue\n",
    "            \n",
    "    return tc_filtered"
   ]
  },
  {
   "cell_type": "code",
   "execution_count": 54,
   "metadata": {},
   "outputs": [],
   "source": [
    "def filter_test_cases_raw(G, test_cases_raw):\n",
    "    test_cases_clean = {}\n",
    "    for tc_name, tc in test_cases_raw.items():\n",
    "\n",
    "        MOrig = tc_filter_in_graph(G, tc['MOrig'])\n",
    "        MDest = tc_filter_in_graph(G, tc['MDest'])\n",
    "\n",
    "        test_cases_clean[tc_name] = {\n",
    "            'MOrig': MOrig,\n",
    "            'MDest': MDest,\n",
    "        }\n",
    "\n",
    "    return test_cases_clean"
   ]
  },
  {
   "cell_type": "code",
   "execution_count": 55,
   "metadata": {},
   "outputs": [],
   "source": [
    "test_cases_clean = filter_test_cases_raw(g_curr, test_cases_raw)\n",
    "# test_cases_clean = test_cases_raw # uncoment for ias"
   ]
  },
  {
   "cell_type": "code",
   "execution_count": 56,
   "metadata": {},
   "outputs": [],
   "source": [
    "def find_path(G: nx.Graph, MOrig: List, MDest: List, method='brute_force') -> nx.Graph:\n",
    "    if method == 'brute_force':\n",
    "        return find_path_bf(G, MOrig, MDest)\n",
    "    elif method == 'steiner_tree':\n",
    "        return find_path_steiner(G, MOrig, MDest)\n",
    "    elif method == 'astar_common_neighbor':\n",
    "        return find_path_astar(G, MOrig, MDest, common_neighbor)\n",
    "    elif method == 'astar_jaccard':\n",
    "        return find_path_astar(G, MOrig, MDest, jaccard_similarity)\n",
    "    elif method == 'astar_0':\n",
    "        return find_path_astar(G, MOrig, MDest, lambda x, y: 0)\n",
    "    else:\n",
    "        raise ValueError(f\"method {method} is not valid\")"
   ]
  },
  {
   "cell_type": "markdown",
   "metadata": {},
   "source": [
    "## Testing"
   ]
  },
  {
   "cell_type": "code",
   "execution_count": 57,
   "metadata": {},
   "outputs": [],
   "source": [
    "def get_result_accuracy(G0, Gt):\n",
    "    common_nodes = len(G0.nodes() & Gt.nodes())\n",
    "    G0_nodes     = len(G0.nodes())\n",
    "    \n",
    "    return common_nodes / G0_nodes"
   ]
  },
  {
   "cell_type": "code",
   "execution_count": 58,
   "metadata": {},
   "outputs": [],
   "source": [
    "def get_results_kanjigen(G: nx.Graph, test_cases_clean: dict, algo_list: List):\n",
    "    results = {tc_name: dict() for tc_name in test_cases_clean}\n",
    "\n",
    "    for tc_name, tc in test_cases_clean.items():\n",
    "        \n",
    "#         if tc_name != 'tc_ias_1':\n",
    "#             continue\n",
    "        \n",
    "        \n",
    "        MOrig = tc['MOrig']\n",
    "        MDest = tc['MDest']\n",
    "        \n",
    "        if len(MOrig) == 0 or len(MDest) == 0:\n",
    "            continue\n",
    "        \n",
    "        print(f\"\"\"\n",
    "        ################\n",
    "        len(MOrig) == {len(MOrig)}\n",
    "        len(MDest) == {len(MDest)}\n",
    "        ################\n",
    "        \"\"\")\n",
    "        \n",
    "        # get time\n",
    "        for algo in algo_list:\n",
    "            \n",
    "            print(f\"algo: {algo}\")\n",
    "            print(f\"tc: {tc_name} of {len(test_cases_clean)}\")\n",
    "            start  = time.time()\n",
    "            graph  = find_path(G, MOrig, MDest, algo)\n",
    "            end    = time.time()\n",
    "            print(f\"finish at {datetime.datetime.now()} after {end - start} seconds\")\n",
    "            print(\"==============\")\n",
    "            \n",
    "            results[tc_name][algo] = {'graph': graph, 'time': (end - start)}\n",
    "        \n",
    "        # get accuracy\n",
    "        \n",
    "        G0 = results[tc_name]['brute_force']['graph']\n",
    "        results[tc_name]['brute_force']['accuracy'] = 1.0\n",
    "        for algo in [algo for algo in algo_list if algo != 'brute_force']:\n",
    "            \n",
    "            Gt = results[tc_name][algo]['graph']\n",
    "            \n",
    "            results[tc_name][algo][\"accuracy\"] = get_result_accuracy(G0, Gt)\n",
    "        \n",
    "        # get used_vertices\n",
    "        for algo in algo_list:\n",
    "            Gt = results[tc_name][algo]['graph']\n",
    "            results[tc_name][algo][\"used_vertices\"] = len(Gt) - len(MOrig) - len(MDest)\n",
    "        \n",
    "        print(\"----------------------\")\n",
    "        print(results)\n",
    "        print(\"----------------------\")\n",
    "    return results"
   ]
  },
  {
   "cell_type": "code",
   "execution_count": 59,
   "metadata": {},
   "outputs": [],
   "source": [
    "algo_list = ['brute_force', 'astar_0', 'astar_common_neighbor', 'astar_jaccard', 'steiner_tree']"
   ]
  },
  {
   "cell_type": "code",
   "execution_count": 60,
   "metadata": {
    "scrolled": false
   },
   "outputs": [
    {
     "name": "stdout",
     "output_type": "stream",
     "text": [
      "\n",
      "        ################\n",
      "        len(MOrig) == 3\n",
      "        len(MDest) == 4\n",
      "        ################\n",
      "        \n",
      "algo: brute_force\n",
      "tc: N5 to N4 of 9\n",
      "finish at 2021-08-24 07:35:21.514949 after 0.20917344093322754 seconds\n",
      "==============\n",
      "algo: astar_0\n",
      "tc: N5 to N4 of 9\n",
      "finish at 2021-08-24 07:35:21.737037 after 0.22056174278259277 seconds\n",
      "==============\n",
      "algo: astar_common_neighbor\n",
      "tc: N5 to N4 of 9\n",
      "finish at 2021-08-24 07:35:22.211025 after 0.47386789321899414 seconds\n",
      "==============\n",
      "algo: astar_jaccard\n",
      "tc: N5 to N4 of 9\n",
      "finish at 2021-08-24 07:35:22.744623 after 0.5334794521331787 seconds\n",
      "==============\n",
      "algo: steiner_tree\n",
      "tc: N5 to N4 of 9\n",
      "finish at 2021-08-24 07:35:22.751641 after 0.006903409957885742 seconds\n",
      "==============\n",
      "----------------------\n",
      "{'N5 to N4': {'brute_force': {'graph': <networkx.classes.graph.Graph object at 0x7f809e3593a0>, 'time': 0.20917344093322754, 'accuracy': 1.0, 'used_vertices': 14}, 'astar_0': {'graph': <networkx.classes.graph.Graph object at 0x7f809e3594c0>, 'time': 0.22056174278259277, 'accuracy': 1.0, 'used_vertices': 14}, 'astar_common_neighbor': {'graph': <networkx.classes.graph.Graph object at 0x7f809f55a940>, 'time': 0.47386789321899414, 'accuracy': 1.0, 'used_vertices': 15}, 'astar_jaccard': {'graph': <networkx.classes.graph.Graph object at 0x7f809e359460>, 'time': 0.5334794521331787, 'accuracy': 0.7619047619047619, 'used_vertices': 17}, 'steiner_tree': {'graph': <networkx.classes.graph.Graph object at 0x7f809e8c0a30>, 'time': 0.006903409957885742, 'accuracy': 0.7619047619047619, 'used_vertices': 10}}, 'G1 to G2': {}, 'G2 to G3': {}, 'N4 to N3': {}, 'N3 to N2': {}, 'G3 to G4': {}, 'G4 to G5': {}, 'N2 to N1': {}, 'G5 to G6': {}}\n",
      "----------------------\n",
      "\n",
      "        ################\n",
      "        len(MOrig) == 10\n",
      "        len(MDest) == 12\n",
      "        ################\n",
      "        \n",
      "algo: brute_force\n",
      "tc: G1 to G2 of 9\n",
      "finish at 2021-08-24 07:35:24.403781 after 1.6516118049621582 seconds\n",
      "==============\n",
      "algo: astar_0\n",
      "tc: G1 to G2 of 9\n",
      "finish at 2021-08-24 07:35:26.530647 after 2.1265006065368652 seconds\n",
      "==============\n",
      "algo: astar_common_neighbor\n",
      "tc: G1 to G2 of 9\n",
      "finish at 2021-08-24 07:35:31.167399 after 4.636617422103882 seconds\n",
      "==============\n",
      "algo: astar_jaccard\n",
      "tc: G1 to G2 of 9\n",
      "finish at 2021-08-24 07:35:36.197493 after 5.029640197753906 seconds\n",
      "==============\n",
      "algo: steiner_tree\n",
      "tc: G1 to G2 of 9\n",
      "finish at 2021-08-24 07:35:36.219152 after 0.021547555923461914 seconds\n",
      "==============\n",
      "----------------------\n",
      "{'N5 to N4': {'brute_force': {'graph': <networkx.classes.graph.Graph object at 0x7f809e3593a0>, 'time': 0.20917344093322754, 'accuracy': 1.0, 'used_vertices': 14}, 'astar_0': {'graph': <networkx.classes.graph.Graph object at 0x7f809e3594c0>, 'time': 0.22056174278259277, 'accuracy': 1.0, 'used_vertices': 14}, 'astar_common_neighbor': {'graph': <networkx.classes.graph.Graph object at 0x7f809f55a940>, 'time': 0.47386789321899414, 'accuracy': 1.0, 'used_vertices': 15}, 'astar_jaccard': {'graph': <networkx.classes.graph.Graph object at 0x7f809e359460>, 'time': 0.5334794521331787, 'accuracy': 0.7619047619047619, 'used_vertices': 17}, 'steiner_tree': {'graph': <networkx.classes.graph.Graph object at 0x7f809e8c0a30>, 'time': 0.006903409957885742, 'accuracy': 0.7619047619047619, 'used_vertices': 10}}, 'G1 to G2': {'brute_force': {'graph': <networkx.classes.graph.Graph object at 0x7f809e634f70>, 'time': 1.6516118049621582, 'accuracy': 1.0, 'used_vertices': 68}, 'astar_0': {'graph': <networkx.classes.graph.Graph object at 0x7f809e555a00>, 'time': 2.1265006065368652, 'accuracy': 1.0, 'used_vertices': 68}, 'astar_common_neighbor': {'graph': <networkx.classes.graph.Graph object at 0x7f809e645ac0>, 'time': 4.636617422103882, 'accuracy': 0.9666666666666667, 'used_vertices': 91}, 'astar_jaccard': {'graph': <networkx.classes.graph.Graph object at 0x7f809f841d90>, 'time': 5.029640197753906, 'accuracy': 0.6777777777777778, 'used_vertices': 71}, 'steiner_tree': {'graph': <networkx.classes.graph.Graph object at 0x7f809e645cd0>, 'time': 0.021547555923461914, 'accuracy': 0.4222222222222222, 'used_vertices': 17}}, 'G2 to G3': {}, 'N4 to N3': {}, 'N3 to N2': {}, 'G3 to G4': {}, 'G4 to G5': {}, 'N2 to N1': {}, 'G5 to G6': {}}\n",
      "----------------------\n",
      "\n",
      "        ################\n",
      "        len(MOrig) == 13\n",
      "        len(MDest) == 22\n",
      "        ################\n",
      "        \n",
      "algo: brute_force\n",
      "tc: G2 to G3 of 9\n",
      "finish at 2021-08-24 07:35:46.575412 after 10.356009721755981 seconds\n",
      "==============\n",
      "algo: astar_0\n",
      "tc: G2 to G3 of 9\n",
      "finish at 2021-08-24 07:35:51.575599 after 5.000048398971558 seconds\n",
      "==============\n",
      "algo: astar_common_neighbor\n",
      "tc: G2 to G3 of 9\n",
      "finish at 2021-08-24 07:36:02.243798 after 10.66808032989502 seconds\n",
      "==============\n",
      "algo: astar_jaccard\n",
      "tc: G2 to G3 of 9\n",
      "finish at 2021-08-24 07:36:14.026308 after 11.782394409179688 seconds\n",
      "==============\n",
      "algo: steiner_tree\n",
      "tc: G2 to G3 of 9\n",
      "finish at 2021-08-24 07:36:14.065148 after 0.03872179985046387 seconds\n",
      "==============\n",
      "----------------------\n",
      "{'N5 to N4': {'brute_force': {'graph': <networkx.classes.graph.Graph object at 0x7f809e3593a0>, 'time': 0.20917344093322754, 'accuracy': 1.0, 'used_vertices': 14}, 'astar_0': {'graph': <networkx.classes.graph.Graph object at 0x7f809e3594c0>, 'time': 0.22056174278259277, 'accuracy': 1.0, 'used_vertices': 14}, 'astar_common_neighbor': {'graph': <networkx.classes.graph.Graph object at 0x7f809f55a940>, 'time': 0.47386789321899414, 'accuracy': 1.0, 'used_vertices': 15}, 'astar_jaccard': {'graph': <networkx.classes.graph.Graph object at 0x7f809e359460>, 'time': 0.5334794521331787, 'accuracy': 0.7619047619047619, 'used_vertices': 17}, 'steiner_tree': {'graph': <networkx.classes.graph.Graph object at 0x7f809e8c0a30>, 'time': 0.006903409957885742, 'accuracy': 0.7619047619047619, 'used_vertices': 10}}, 'G1 to G2': {'brute_force': {'graph': <networkx.classes.graph.Graph object at 0x7f809e634f70>, 'time': 1.6516118049621582, 'accuracy': 1.0, 'used_vertices': 68}, 'astar_0': {'graph': <networkx.classes.graph.Graph object at 0x7f809e555a00>, 'time': 2.1265006065368652, 'accuracy': 1.0, 'used_vertices': 68}, 'astar_common_neighbor': {'graph': <networkx.classes.graph.Graph object at 0x7f809e645ac0>, 'time': 4.636617422103882, 'accuracy': 0.9666666666666667, 'used_vertices': 91}, 'astar_jaccard': {'graph': <networkx.classes.graph.Graph object at 0x7f809f841d90>, 'time': 5.029640197753906, 'accuracy': 0.6777777777777778, 'used_vertices': 71}, 'steiner_tree': {'graph': <networkx.classes.graph.Graph object at 0x7f809e645cd0>, 'time': 0.021547555923461914, 'accuracy': 0.4222222222222222, 'used_vertices': 17}}, 'G2 to G3': {'brute_force': {'graph': <networkx.classes.graph.Graph object at 0x7f80a21c5370>, 'time': 10.356009721755981, 'accuracy': 1.0, 'used_vertices': 112}, 'astar_0': {'graph': <networkx.classes.graph.Graph object at 0x7f80a1c69c40>, 'time': 5.000048398971558, 'accuracy': 1.0, 'used_vertices': 112}, 'astar_common_neighbor': {'graph': <networkx.classes.graph.Graph object at 0x7f809df24f70>, 'time': 10.66808032989502, 'accuracy': 1.0, 'used_vertices': 123}, 'astar_jaccard': {'graph': <networkx.classes.graph.Graph object at 0x7f809df24fd0>, 'time': 11.782394409179688, 'accuracy': 0.6054421768707483, 'used_vertices': 98}, 'steiner_tree': {'graph': <networkx.classes.graph.Graph object at 0x7f80a5e1c040>, 'time': 0.03872179985046387, 'accuracy': 0.3741496598639456, 'used_vertices': 20}}, 'N4 to N3': {}, 'N3 to N2': {}, 'G3 to G4': {}, 'G4 to G5': {}, 'N2 to N1': {}, 'G5 to G6': {}}\n",
      "----------------------\n",
      "\n",
      "        ################\n",
      "        len(MOrig) == 23\n",
      "        len(MDest) == 57\n",
      "        ################\n",
      "        \n",
      "algo: brute_force\n",
      "tc: N4 to N3 of 9\n",
      "finish at 2021-08-24 07:36:33.307498 after 19.2420175075531 seconds\n",
      "==============\n",
      "algo: astar_0\n",
      "tc: N4 to N3 of 9\n",
      "finish at 2021-08-24 07:36:59.055758 after 25.748127222061157 seconds\n",
      "==============\n",
      "algo: astar_common_neighbor\n",
      "tc: N4 to N3 of 9\n",
      "finish at 2021-08-24 07:37:51.448441 after 52.392563343048096 seconds\n",
      "==============\n",
      "algo: astar_jaccard\n",
      "tc: N4 to N3 of 9\n",
      "finish at 2021-08-24 07:38:51.310206 after 59.86164093017578 seconds\n",
      "==============\n",
      "algo: steiner_tree\n",
      "tc: N4 to N3 of 9\n",
      "finish at 2021-08-24 07:38:51.410456 after 0.1001284122467041 seconds\n",
      "==============\n",
      "----------------------\n",
      "{'N5 to N4': {'brute_force': {'graph': <networkx.classes.graph.Graph object at 0x7f809e3593a0>, 'time': 0.20917344093322754, 'accuracy': 1.0, 'used_vertices': 14}, 'astar_0': {'graph': <networkx.classes.graph.Graph object at 0x7f809e3594c0>, 'time': 0.22056174278259277, 'accuracy': 1.0, 'used_vertices': 14}, 'astar_common_neighbor': {'graph': <networkx.classes.graph.Graph object at 0x7f809f55a940>, 'time': 0.47386789321899414, 'accuracy': 1.0, 'used_vertices': 15}, 'astar_jaccard': {'graph': <networkx.classes.graph.Graph object at 0x7f809e359460>, 'time': 0.5334794521331787, 'accuracy': 0.7619047619047619, 'used_vertices': 17}, 'steiner_tree': {'graph': <networkx.classes.graph.Graph object at 0x7f809e8c0a30>, 'time': 0.006903409957885742, 'accuracy': 0.7619047619047619, 'used_vertices': 10}}, 'G1 to G2': {'brute_force': {'graph': <networkx.classes.graph.Graph object at 0x7f809e634f70>, 'time': 1.6516118049621582, 'accuracy': 1.0, 'used_vertices': 68}, 'astar_0': {'graph': <networkx.classes.graph.Graph object at 0x7f809e555a00>, 'time': 2.1265006065368652, 'accuracy': 1.0, 'used_vertices': 68}, 'astar_common_neighbor': {'graph': <networkx.classes.graph.Graph object at 0x7f809e645ac0>, 'time': 4.636617422103882, 'accuracy': 0.9666666666666667, 'used_vertices': 91}, 'astar_jaccard': {'graph': <networkx.classes.graph.Graph object at 0x7f809f841d90>, 'time': 5.029640197753906, 'accuracy': 0.6777777777777778, 'used_vertices': 71}, 'steiner_tree': {'graph': <networkx.classes.graph.Graph object at 0x7f809e645cd0>, 'time': 0.021547555923461914, 'accuracy': 0.4222222222222222, 'used_vertices': 17}}, 'G2 to G3': {'brute_force': {'graph': <networkx.classes.graph.Graph object at 0x7f80a21c5370>, 'time': 10.356009721755981, 'accuracy': 1.0, 'used_vertices': 112}, 'astar_0': {'graph': <networkx.classes.graph.Graph object at 0x7f80a1c69c40>, 'time': 5.000048398971558, 'accuracy': 1.0, 'used_vertices': 112}, 'astar_common_neighbor': {'graph': <networkx.classes.graph.Graph object at 0x7f809df24f70>, 'time': 10.66808032989502, 'accuracy': 1.0, 'used_vertices': 123}, 'astar_jaccard': {'graph': <networkx.classes.graph.Graph object at 0x7f809df24fd0>, 'time': 11.782394409179688, 'accuracy': 0.6054421768707483, 'used_vertices': 98}, 'steiner_tree': {'graph': <networkx.classes.graph.Graph object at 0x7f80a5e1c040>, 'time': 0.03872179985046387, 'accuracy': 0.3741496598639456, 'used_vertices': 20}}, 'N4 to N3': {'brute_force': {'graph': <networkx.classes.graph.Graph object at 0x7f809e47c430>, 'time': 19.2420175075531, 'accuracy': 1.0, 'used_vertices': 193}, 'astar_0': {'graph': <networkx.classes.graph.Graph object at 0x7f809f6eb6a0>, 'time': 25.748127222061157, 'accuracy': 1.0, 'used_vertices': 193}, 'astar_common_neighbor': {'graph': <networkx.classes.graph.Graph object at 0x7f80a1d48550>, 'time': 52.392563343048096, 'accuracy': 1.0, 'used_vertices': 201}, 'astar_jaccard': {'graph': <networkx.classes.graph.Graph object at 0x7f809dec8c40>, 'time': 59.86164093017578, 'accuracy': 0.6007326007326007, 'used_vertices': 145}, 'steiner_tree': {'graph': <networkx.classes.graph.Graph object at 0x7f80a5d48d60>, 'time': 0.1001284122467041, 'accuracy': 0.3882783882783883, 'used_vertices': 27}}, 'N3 to N2': {}, 'G3 to G4': {}, 'G4 to G5': {}, 'N2 to N1': {}, 'G5 to G6': {}}\n",
      "----------------------\n",
      "\n",
      "        ################\n",
      "        len(MOrig) == 47\n",
      "        len(MDest) == 100\n",
      "        ################\n",
      "        \n",
      "algo: brute_force\n",
      "tc: N3 to N2 of 9\n"
     ]
    },
    {
     "name": "stdout",
     "output_type": "stream",
     "text": [
      "finish at 2021-08-24 07:40:10.071433 after 78.66047835350037 seconds\n",
      "==============\n",
      "algo: astar_0\n",
      "tc: N3 to N2 of 9\n",
      "finish at 2021-08-24 07:41:50.523415 after 100.45182585716248 seconds\n",
      "==============\n",
      "algo: astar_common_neighbor\n",
      "tc: N3 to N2 of 9\n",
      "finish at 2021-08-24 07:45:06.424044 after 195.90018510818481 seconds\n",
      "==============\n",
      "algo: astar_jaccard\n",
      "tc: N3 to N2 of 9\n",
      "finish at 2021-08-24 07:48:41.738033 after 215.3136224746704 seconds\n",
      "==============\n",
      "algo: steiner_tree\n",
      "tc: N3 to N2 of 9\n",
      "finish at 2021-08-24 07:48:41.934940 after 0.19644641876220703 seconds\n",
      "==============\n",
      "----------------------\n",
      "{'N5 to N4': {'brute_force': {'graph': <networkx.classes.graph.Graph object at 0x7f809e3593a0>, 'time': 0.20917344093322754, 'accuracy': 1.0, 'used_vertices': 14}, 'astar_0': {'graph': <networkx.classes.graph.Graph object at 0x7f809e3594c0>, 'time': 0.22056174278259277, 'accuracy': 1.0, 'used_vertices': 14}, 'astar_common_neighbor': {'graph': <networkx.classes.graph.Graph object at 0x7f809f55a940>, 'time': 0.47386789321899414, 'accuracy': 1.0, 'used_vertices': 15}, 'astar_jaccard': {'graph': <networkx.classes.graph.Graph object at 0x7f809e359460>, 'time': 0.5334794521331787, 'accuracy': 0.7619047619047619, 'used_vertices': 17}, 'steiner_tree': {'graph': <networkx.classes.graph.Graph object at 0x7f809e8c0a30>, 'time': 0.006903409957885742, 'accuracy': 0.7619047619047619, 'used_vertices': 10}}, 'G1 to G2': {'brute_force': {'graph': <networkx.classes.graph.Graph object at 0x7f809e634f70>, 'time': 1.6516118049621582, 'accuracy': 1.0, 'used_vertices': 68}, 'astar_0': {'graph': <networkx.classes.graph.Graph object at 0x7f809e555a00>, 'time': 2.1265006065368652, 'accuracy': 1.0, 'used_vertices': 68}, 'astar_common_neighbor': {'graph': <networkx.classes.graph.Graph object at 0x7f809e645ac0>, 'time': 4.636617422103882, 'accuracy': 0.9666666666666667, 'used_vertices': 91}, 'astar_jaccard': {'graph': <networkx.classes.graph.Graph object at 0x7f809f841d90>, 'time': 5.029640197753906, 'accuracy': 0.6777777777777778, 'used_vertices': 71}, 'steiner_tree': {'graph': <networkx.classes.graph.Graph object at 0x7f809e645cd0>, 'time': 0.021547555923461914, 'accuracy': 0.4222222222222222, 'used_vertices': 17}}, 'G2 to G3': {'brute_force': {'graph': <networkx.classes.graph.Graph object at 0x7f80a21c5370>, 'time': 10.356009721755981, 'accuracy': 1.0, 'used_vertices': 112}, 'astar_0': {'graph': <networkx.classes.graph.Graph object at 0x7f80a1c69c40>, 'time': 5.000048398971558, 'accuracy': 1.0, 'used_vertices': 112}, 'astar_common_neighbor': {'graph': <networkx.classes.graph.Graph object at 0x7f809df24f70>, 'time': 10.66808032989502, 'accuracy': 1.0, 'used_vertices': 123}, 'astar_jaccard': {'graph': <networkx.classes.graph.Graph object at 0x7f809df24fd0>, 'time': 11.782394409179688, 'accuracy': 0.6054421768707483, 'used_vertices': 98}, 'steiner_tree': {'graph': <networkx.classes.graph.Graph object at 0x7f80a5e1c040>, 'time': 0.03872179985046387, 'accuracy': 0.3741496598639456, 'used_vertices': 20}}, 'N4 to N3': {'brute_force': {'graph': <networkx.classes.graph.Graph object at 0x7f809e47c430>, 'time': 19.2420175075531, 'accuracy': 1.0, 'used_vertices': 193}, 'astar_0': {'graph': <networkx.classes.graph.Graph object at 0x7f809f6eb6a0>, 'time': 25.748127222061157, 'accuracy': 1.0, 'used_vertices': 193}, 'astar_common_neighbor': {'graph': <networkx.classes.graph.Graph object at 0x7f80a1d48550>, 'time': 52.392563343048096, 'accuracy': 1.0, 'used_vertices': 201}, 'astar_jaccard': {'graph': <networkx.classes.graph.Graph object at 0x7f809dec8c40>, 'time': 59.86164093017578, 'accuracy': 0.6007326007326007, 'used_vertices': 145}, 'steiner_tree': {'graph': <networkx.classes.graph.Graph object at 0x7f80a5d48d60>, 'time': 0.1001284122467041, 'accuracy': 0.3882783882783883, 'used_vertices': 27}}, 'N3 to N2': {'brute_force': {'graph': <networkx.classes.graph.Graph object at 0x7f809f25b1c0>, 'time': 78.66047835350037, 'accuracy': 1.0, 'used_vertices': 373}, 'astar_0': {'graph': <networkx.classes.graph.Graph object at 0x7f809df94d30>, 'time': 100.45182585716248, 'accuracy': 1.0, 'used_vertices': 373}, 'astar_common_neighbor': {'graph': <networkx.classes.graph.Graph object at 0x7f80a2005b20>, 'time': 195.90018510818481, 'accuracy': 0.9903846153846154, 'used_vertices': 430}, 'astar_jaccard': {'graph': <networkx.classes.graph.Graph object at 0x7f80a3324a90>, 'time': 215.3136224746704, 'accuracy': 0.6903846153846154, 'used_vertices': 340}, 'steiner_tree': {'graph': <networkx.classes.graph.Graph object at 0x7f80a204bcd0>, 'time': 0.19644641876220703, 'accuracy': 0.35, 'used_vertices': 36}}, 'G3 to G4': {}, 'G4 to G5': {}, 'N2 to N1': {}, 'G5 to G6': {}}\n",
      "----------------------\n",
      "\n",
      "        ################\n",
      "        len(MOrig) == 106\n",
      "        len(MDest) == 149\n",
      "        ################\n",
      "        \n",
      "algo: brute_force\n",
      "tc: G3 to G4 of 9\n",
      "finish at 2021-08-24 07:53:43.736025 after 301.8003327846527 seconds\n",
      "==============\n",
      "algo: astar_0\n",
      "tc: G3 to G4 of 9\n",
      "finish at 2021-08-24 08:00:13.486270 after 389.7500340938568 seconds\n",
      "==============\n",
      "algo: astar_common_neighbor\n",
      "tc: G3 to G4 of 9\n",
      "finish at 2021-08-24 08:11:46.090757 after 692.6042211055756 seconds\n",
      "==============\n",
      "algo: astar_jaccard\n",
      "tc: G3 to G4 of 9\n",
      "finish at 2021-08-24 08:23:59.043385 after 732.9522805213928 seconds\n",
      "==============\n",
      "algo: steiner_tree\n",
      "tc: G3 to G4 of 9\n",
      "finish at 2021-08-24 08:23:59.456862 after 0.41333937644958496 seconds\n",
      "==============\n",
      "----------------------\n",
      "{'N5 to N4': {'brute_force': {'graph': <networkx.classes.graph.Graph object at 0x7f809e3593a0>, 'time': 0.20917344093322754, 'accuracy': 1.0, 'used_vertices': 14}, 'astar_0': {'graph': <networkx.classes.graph.Graph object at 0x7f809e3594c0>, 'time': 0.22056174278259277, 'accuracy': 1.0, 'used_vertices': 14}, 'astar_common_neighbor': {'graph': <networkx.classes.graph.Graph object at 0x7f809f55a940>, 'time': 0.47386789321899414, 'accuracy': 1.0, 'used_vertices': 15}, 'astar_jaccard': {'graph': <networkx.classes.graph.Graph object at 0x7f809e359460>, 'time': 0.5334794521331787, 'accuracy': 0.7619047619047619, 'used_vertices': 17}, 'steiner_tree': {'graph': <networkx.classes.graph.Graph object at 0x7f809e8c0a30>, 'time': 0.006903409957885742, 'accuracy': 0.7619047619047619, 'used_vertices': 10}}, 'G1 to G2': {'brute_force': {'graph': <networkx.classes.graph.Graph object at 0x7f809e634f70>, 'time': 1.6516118049621582, 'accuracy': 1.0, 'used_vertices': 68}, 'astar_0': {'graph': <networkx.classes.graph.Graph object at 0x7f809e555a00>, 'time': 2.1265006065368652, 'accuracy': 1.0, 'used_vertices': 68}, 'astar_common_neighbor': {'graph': <networkx.classes.graph.Graph object at 0x7f809e645ac0>, 'time': 4.636617422103882, 'accuracy': 0.9666666666666667, 'used_vertices': 91}, 'astar_jaccard': {'graph': <networkx.classes.graph.Graph object at 0x7f809f841d90>, 'time': 5.029640197753906, 'accuracy': 0.6777777777777778, 'used_vertices': 71}, 'steiner_tree': {'graph': <networkx.classes.graph.Graph object at 0x7f809e645cd0>, 'time': 0.021547555923461914, 'accuracy': 0.4222222222222222, 'used_vertices': 17}}, 'G2 to G3': {'brute_force': {'graph': <networkx.classes.graph.Graph object at 0x7f80a21c5370>, 'time': 10.356009721755981, 'accuracy': 1.0, 'used_vertices': 112}, 'astar_0': {'graph': <networkx.classes.graph.Graph object at 0x7f80a1c69c40>, 'time': 5.000048398971558, 'accuracy': 1.0, 'used_vertices': 112}, 'astar_common_neighbor': {'graph': <networkx.classes.graph.Graph object at 0x7f809df24f70>, 'time': 10.66808032989502, 'accuracy': 1.0, 'used_vertices': 123}, 'astar_jaccard': {'graph': <networkx.classes.graph.Graph object at 0x7f809df24fd0>, 'time': 11.782394409179688, 'accuracy': 0.6054421768707483, 'used_vertices': 98}, 'steiner_tree': {'graph': <networkx.classes.graph.Graph object at 0x7f80a5e1c040>, 'time': 0.03872179985046387, 'accuracy': 0.3741496598639456, 'used_vertices': 20}}, 'N4 to N3': {'brute_force': {'graph': <networkx.classes.graph.Graph object at 0x7f809e47c430>, 'time': 19.2420175075531, 'accuracy': 1.0, 'used_vertices': 193}, 'astar_0': {'graph': <networkx.classes.graph.Graph object at 0x7f809f6eb6a0>, 'time': 25.748127222061157, 'accuracy': 1.0, 'used_vertices': 193}, 'astar_common_neighbor': {'graph': <networkx.classes.graph.Graph object at 0x7f80a1d48550>, 'time': 52.392563343048096, 'accuracy': 1.0, 'used_vertices': 201}, 'astar_jaccard': {'graph': <networkx.classes.graph.Graph object at 0x7f809dec8c40>, 'time': 59.86164093017578, 'accuracy': 0.6007326007326007, 'used_vertices': 145}, 'steiner_tree': {'graph': <networkx.classes.graph.Graph object at 0x7f80a5d48d60>, 'time': 0.1001284122467041, 'accuracy': 0.3882783882783883, 'used_vertices': 27}}, 'N3 to N2': {'brute_force': {'graph': <networkx.classes.graph.Graph object at 0x7f809f25b1c0>, 'time': 78.66047835350037, 'accuracy': 1.0, 'used_vertices': 373}, 'astar_0': {'graph': <networkx.classes.graph.Graph object at 0x7f809df94d30>, 'time': 100.45182585716248, 'accuracy': 1.0, 'used_vertices': 373}, 'astar_common_neighbor': {'graph': <networkx.classes.graph.Graph object at 0x7f80a2005b20>, 'time': 195.90018510818481, 'accuracy': 0.9903846153846154, 'used_vertices': 430}, 'astar_jaccard': {'graph': <networkx.classes.graph.Graph object at 0x7f80a3324a90>, 'time': 215.3136224746704, 'accuracy': 0.6903846153846154, 'used_vertices': 340}, 'steiner_tree': {'graph': <networkx.classes.graph.Graph object at 0x7f80a204bcd0>, 'time': 0.19644641876220703, 'accuracy': 0.35, 'used_vertices': 36}}, 'G3 to G4': {'brute_force': {'graph': <networkx.classes.graph.Graph object at 0x7f80a1b51af0>, 'time': 301.8003327846527, 'accuracy': 1.0, 'used_vertices': 540}, 'astar_0': {'graph': <networkx.classes.graph.Graph object at 0x7f80a0968940>, 'time': 389.7500340938568, 'accuracy': 1.0, 'used_vertices': 540}, 'astar_common_neighbor': {'graph': <networkx.classes.graph.Graph object at 0x7f809a8ee520>, 'time': 692.6042211055756, 'accuracy': 0.9949685534591195, 'used_vertices': 570}, 'astar_jaccard': {'graph': <networkx.classes.graph.Graph object at 0x7f809e6123d0>, 'time': 732.9522805213928, 'accuracy': 0.7069182389937106, 'used_vertices': 471}, 'steiner_tree': {'graph': <networkx.classes.graph.Graph object at 0x7f80a64219a0>, 'time': 0.41333937644958496, 'accuracy': 0.37610062893081764, 'used_vertices': 44}}, 'G4 to G5': {}, 'N2 to N1': {}, 'G5 to G6': {}}\n",
      "----------------------\n",
      "\n",
      "        ################\n",
      "        len(MOrig) == 149\n",
      "        len(MDest) == 142\n",
      "        ################\n",
      "        \n",
      "algo: brute_force\n",
      "tc: G4 to G5 of 9\n"
     ]
    },
    {
     "name": "stdout",
     "output_type": "stream",
     "text": [
      "finish at 2021-08-24 08:30:46.185937 after 406.72809505462646 seconds\n",
      "==============\n",
      "algo: astar_0\n",
      "tc: G4 to G5 of 9\n",
      "finish at 2021-08-24 08:38:23.190243 after 457.00415682792664 seconds\n",
      "==============\n",
      "algo: astar_common_neighbor\n",
      "tc: G4 to G5 of 9\n",
      "finish at 2021-08-24 08:53:33.803020 after 910.6126148700714 seconds\n",
      "==============\n",
      "algo: astar_jaccard\n",
      "tc: G4 to G5 of 9\n",
      "finish at 2021-08-24 09:09:59.492178 after 985.6887722015381 seconds\n",
      "==============\n",
      "algo: steiner_tree\n",
      "tc: G4 to G5 of 9\n",
      "finish at 2021-08-24 09:09:59.982681 after 0.49036622047424316 seconds\n",
      "==============\n",
      "----------------------\n",
      "{'N5 to N4': {'brute_force': {'graph': <networkx.classes.graph.Graph object at 0x7f809e3593a0>, 'time': 0.20917344093322754, 'accuracy': 1.0, 'used_vertices': 14}, 'astar_0': {'graph': <networkx.classes.graph.Graph object at 0x7f809e3594c0>, 'time': 0.22056174278259277, 'accuracy': 1.0, 'used_vertices': 14}, 'astar_common_neighbor': {'graph': <networkx.classes.graph.Graph object at 0x7f809f55a940>, 'time': 0.47386789321899414, 'accuracy': 1.0, 'used_vertices': 15}, 'astar_jaccard': {'graph': <networkx.classes.graph.Graph object at 0x7f809e359460>, 'time': 0.5334794521331787, 'accuracy': 0.7619047619047619, 'used_vertices': 17}, 'steiner_tree': {'graph': <networkx.classes.graph.Graph object at 0x7f809e8c0a30>, 'time': 0.006903409957885742, 'accuracy': 0.7619047619047619, 'used_vertices': 10}}, 'G1 to G2': {'brute_force': {'graph': <networkx.classes.graph.Graph object at 0x7f809e634f70>, 'time': 1.6516118049621582, 'accuracy': 1.0, 'used_vertices': 68}, 'astar_0': {'graph': <networkx.classes.graph.Graph object at 0x7f809e555a00>, 'time': 2.1265006065368652, 'accuracy': 1.0, 'used_vertices': 68}, 'astar_common_neighbor': {'graph': <networkx.classes.graph.Graph object at 0x7f809e645ac0>, 'time': 4.636617422103882, 'accuracy': 0.9666666666666667, 'used_vertices': 91}, 'astar_jaccard': {'graph': <networkx.classes.graph.Graph object at 0x7f809f841d90>, 'time': 5.029640197753906, 'accuracy': 0.6777777777777778, 'used_vertices': 71}, 'steiner_tree': {'graph': <networkx.classes.graph.Graph object at 0x7f809e645cd0>, 'time': 0.021547555923461914, 'accuracy': 0.4222222222222222, 'used_vertices': 17}}, 'G2 to G3': {'brute_force': {'graph': <networkx.classes.graph.Graph object at 0x7f80a21c5370>, 'time': 10.356009721755981, 'accuracy': 1.0, 'used_vertices': 112}, 'astar_0': {'graph': <networkx.classes.graph.Graph object at 0x7f80a1c69c40>, 'time': 5.000048398971558, 'accuracy': 1.0, 'used_vertices': 112}, 'astar_common_neighbor': {'graph': <networkx.classes.graph.Graph object at 0x7f809df24f70>, 'time': 10.66808032989502, 'accuracy': 1.0, 'used_vertices': 123}, 'astar_jaccard': {'graph': <networkx.classes.graph.Graph object at 0x7f809df24fd0>, 'time': 11.782394409179688, 'accuracy': 0.6054421768707483, 'used_vertices': 98}, 'steiner_tree': {'graph': <networkx.classes.graph.Graph object at 0x7f80a5e1c040>, 'time': 0.03872179985046387, 'accuracy': 0.3741496598639456, 'used_vertices': 20}}, 'N4 to N3': {'brute_force': {'graph': <networkx.classes.graph.Graph object at 0x7f809e47c430>, 'time': 19.2420175075531, 'accuracy': 1.0, 'used_vertices': 193}, 'astar_0': {'graph': <networkx.classes.graph.Graph object at 0x7f809f6eb6a0>, 'time': 25.748127222061157, 'accuracy': 1.0, 'used_vertices': 193}, 'astar_common_neighbor': {'graph': <networkx.classes.graph.Graph object at 0x7f80a1d48550>, 'time': 52.392563343048096, 'accuracy': 1.0, 'used_vertices': 201}, 'astar_jaccard': {'graph': <networkx.classes.graph.Graph object at 0x7f809dec8c40>, 'time': 59.86164093017578, 'accuracy': 0.6007326007326007, 'used_vertices': 145}, 'steiner_tree': {'graph': <networkx.classes.graph.Graph object at 0x7f80a5d48d60>, 'time': 0.1001284122467041, 'accuracy': 0.3882783882783883, 'used_vertices': 27}}, 'N3 to N2': {'brute_force': {'graph': <networkx.classes.graph.Graph object at 0x7f809f25b1c0>, 'time': 78.66047835350037, 'accuracy': 1.0, 'used_vertices': 373}, 'astar_0': {'graph': <networkx.classes.graph.Graph object at 0x7f809df94d30>, 'time': 100.45182585716248, 'accuracy': 1.0, 'used_vertices': 373}, 'astar_common_neighbor': {'graph': <networkx.classes.graph.Graph object at 0x7f80a2005b20>, 'time': 195.90018510818481, 'accuracy': 0.9903846153846154, 'used_vertices': 430}, 'astar_jaccard': {'graph': <networkx.classes.graph.Graph object at 0x7f80a3324a90>, 'time': 215.3136224746704, 'accuracy': 0.6903846153846154, 'used_vertices': 340}, 'steiner_tree': {'graph': <networkx.classes.graph.Graph object at 0x7f80a204bcd0>, 'time': 0.19644641876220703, 'accuracy': 0.35, 'used_vertices': 36}}, 'G3 to G4': {'brute_force': {'graph': <networkx.classes.graph.Graph object at 0x7f80a1b51af0>, 'time': 301.8003327846527, 'accuracy': 1.0, 'used_vertices': 540}, 'astar_0': {'graph': <networkx.classes.graph.Graph object at 0x7f80a0968940>, 'time': 389.7500340938568, 'accuracy': 1.0, 'used_vertices': 540}, 'astar_common_neighbor': {'graph': <networkx.classes.graph.Graph object at 0x7f809a8ee520>, 'time': 692.6042211055756, 'accuracy': 0.9949685534591195, 'used_vertices': 570}, 'astar_jaccard': {'graph': <networkx.classes.graph.Graph object at 0x7f809e6123d0>, 'time': 732.9522805213928, 'accuracy': 0.7069182389937106, 'used_vertices': 471}, 'steiner_tree': {'graph': <networkx.classes.graph.Graph object at 0x7f80a64219a0>, 'time': 0.41333937644958496, 'accuracy': 0.37610062893081764, 'used_vertices': 44}}, 'G4 to G5': {'brute_force': {'graph': <networkx.classes.graph.Graph object at 0x7f80a30680d0>, 'time': 406.72809505462646, 'accuracy': 1.0, 'used_vertices': 558}, 'astar_0': {'graph': <networkx.classes.graph.Graph object at 0x7f80a7853f10>, 'time': 457.00415682792664, 'accuracy': 1.0, 'used_vertices': 558}, 'astar_common_neighbor': {'graph': <networkx.classes.graph.Graph object at 0x7f809f475700>, 'time': 910.6126148700714, 'accuracy': 0.9988221436984688, 'used_vertices': 617}, 'astar_jaccard': {'graph': <networkx.classes.graph.Graph object at 0x7f809e698fd0>, 'time': 985.6887722015381, 'accuracy': 0.7067137809187279, 'used_vertices': 488}, 'steiner_tree': {'graph': <networkx.classes.graph.Graph object at 0x7f80a1d48640>, 'time': 0.49036622047424316, 'accuracy': 0.39811542991755006, 'used_vertices': 47}}, 'N2 to N1': {}, 'G5 to G6': {}}\n",
      "----------------------\n",
      "\n",
      "        ################\n",
      "        len(MOrig) == 266\n",
      "        len(MDest) == 412\n",
      "        ################\n",
      "        \n",
      "algo: brute_force\n",
      "tc: N2 to N1 of 9\n",
      "finish at 2021-08-24 09:52:35.301329 after 2555.317622900009 seconds\n",
      "==============\n",
      "algo: astar_0\n",
      "tc: N2 to N1 of 9\n",
      "finish at 2021-08-24 10:41:07.461903 after 2912.1603434085846 seconds\n",
      "==============\n",
      "algo: astar_common_neighbor\n",
      "tc: N2 to N1 of 9\n",
      "finish at 2021-08-24 12:09:02.834863 after 5275.372370004654 seconds\n",
      "==============\n",
      "algo: astar_jaccard\n",
      "tc: N2 to N1 of 9\n",
      "finish at 2021-08-24 13:43:06.811017 after 5643.97544670105 seconds\n",
      "==============\n",
      "algo: steiner_tree\n",
      "tc: N2 to N1 of 9\n",
      "finish at 2021-08-24 13:43:08.487026 after 1.6699926853179932 seconds\n",
      "==============\n",
      "----------------------\n",
      "{'N5 to N4': {'brute_force': {'graph': <networkx.classes.graph.Graph object at 0x7f809e3593a0>, 'time': 0.20917344093322754, 'accuracy': 1.0, 'used_vertices': 14}, 'astar_0': {'graph': <networkx.classes.graph.Graph object at 0x7f809e3594c0>, 'time': 0.22056174278259277, 'accuracy': 1.0, 'used_vertices': 14}, 'astar_common_neighbor': {'graph': <networkx.classes.graph.Graph object at 0x7f809f55a940>, 'time': 0.47386789321899414, 'accuracy': 1.0, 'used_vertices': 15}, 'astar_jaccard': {'graph': <networkx.classes.graph.Graph object at 0x7f809e359460>, 'time': 0.5334794521331787, 'accuracy': 0.7619047619047619, 'used_vertices': 17}, 'steiner_tree': {'graph': <networkx.classes.graph.Graph object at 0x7f809e8c0a30>, 'time': 0.006903409957885742, 'accuracy': 0.7619047619047619, 'used_vertices': 10}}, 'G1 to G2': {'brute_force': {'graph': <networkx.classes.graph.Graph object at 0x7f809e634f70>, 'time': 1.6516118049621582, 'accuracy': 1.0, 'used_vertices': 68}, 'astar_0': {'graph': <networkx.classes.graph.Graph object at 0x7f809e555a00>, 'time': 2.1265006065368652, 'accuracy': 1.0, 'used_vertices': 68}, 'astar_common_neighbor': {'graph': <networkx.classes.graph.Graph object at 0x7f809e645ac0>, 'time': 4.636617422103882, 'accuracy': 0.9666666666666667, 'used_vertices': 91}, 'astar_jaccard': {'graph': <networkx.classes.graph.Graph object at 0x7f809f841d90>, 'time': 5.029640197753906, 'accuracy': 0.6777777777777778, 'used_vertices': 71}, 'steiner_tree': {'graph': <networkx.classes.graph.Graph object at 0x7f809e645cd0>, 'time': 0.021547555923461914, 'accuracy': 0.4222222222222222, 'used_vertices': 17}}, 'G2 to G3': {'brute_force': {'graph': <networkx.classes.graph.Graph object at 0x7f80a21c5370>, 'time': 10.356009721755981, 'accuracy': 1.0, 'used_vertices': 112}, 'astar_0': {'graph': <networkx.classes.graph.Graph object at 0x7f80a1c69c40>, 'time': 5.000048398971558, 'accuracy': 1.0, 'used_vertices': 112}, 'astar_common_neighbor': {'graph': <networkx.classes.graph.Graph object at 0x7f809df24f70>, 'time': 10.66808032989502, 'accuracy': 1.0, 'used_vertices': 123}, 'astar_jaccard': {'graph': <networkx.classes.graph.Graph object at 0x7f809df24fd0>, 'time': 11.782394409179688, 'accuracy': 0.6054421768707483, 'used_vertices': 98}, 'steiner_tree': {'graph': <networkx.classes.graph.Graph object at 0x7f80a5e1c040>, 'time': 0.03872179985046387, 'accuracy': 0.3741496598639456, 'used_vertices': 20}}, 'N4 to N3': {'brute_force': {'graph': <networkx.classes.graph.Graph object at 0x7f809e47c430>, 'time': 19.2420175075531, 'accuracy': 1.0, 'used_vertices': 193}, 'astar_0': {'graph': <networkx.classes.graph.Graph object at 0x7f809f6eb6a0>, 'time': 25.748127222061157, 'accuracy': 1.0, 'used_vertices': 193}, 'astar_common_neighbor': {'graph': <networkx.classes.graph.Graph object at 0x7f80a1d48550>, 'time': 52.392563343048096, 'accuracy': 1.0, 'used_vertices': 201}, 'astar_jaccard': {'graph': <networkx.classes.graph.Graph object at 0x7f809dec8c40>, 'time': 59.86164093017578, 'accuracy': 0.6007326007326007, 'used_vertices': 145}, 'steiner_tree': {'graph': <networkx.classes.graph.Graph object at 0x7f80a5d48d60>, 'time': 0.1001284122467041, 'accuracy': 0.3882783882783883, 'used_vertices': 27}}, 'N3 to N2': {'brute_force': {'graph': <networkx.classes.graph.Graph object at 0x7f809f25b1c0>, 'time': 78.66047835350037, 'accuracy': 1.0, 'used_vertices': 373}, 'astar_0': {'graph': <networkx.classes.graph.Graph object at 0x7f809df94d30>, 'time': 100.45182585716248, 'accuracy': 1.0, 'used_vertices': 373}, 'astar_common_neighbor': {'graph': <networkx.classes.graph.Graph object at 0x7f80a2005b20>, 'time': 195.90018510818481, 'accuracy': 0.9903846153846154, 'used_vertices': 430}, 'astar_jaccard': {'graph': <networkx.classes.graph.Graph object at 0x7f80a3324a90>, 'time': 215.3136224746704, 'accuracy': 0.6903846153846154, 'used_vertices': 340}, 'steiner_tree': {'graph': <networkx.classes.graph.Graph object at 0x7f80a204bcd0>, 'time': 0.19644641876220703, 'accuracy': 0.35, 'used_vertices': 36}}, 'G3 to G4': {'brute_force': {'graph': <networkx.classes.graph.Graph object at 0x7f80a1b51af0>, 'time': 301.8003327846527, 'accuracy': 1.0, 'used_vertices': 540}, 'astar_0': {'graph': <networkx.classes.graph.Graph object at 0x7f80a0968940>, 'time': 389.7500340938568, 'accuracy': 1.0, 'used_vertices': 540}, 'astar_common_neighbor': {'graph': <networkx.classes.graph.Graph object at 0x7f809a8ee520>, 'time': 692.6042211055756, 'accuracy': 0.9949685534591195, 'used_vertices': 570}, 'astar_jaccard': {'graph': <networkx.classes.graph.Graph object at 0x7f809e6123d0>, 'time': 732.9522805213928, 'accuracy': 0.7069182389937106, 'used_vertices': 471}, 'steiner_tree': {'graph': <networkx.classes.graph.Graph object at 0x7f80a64219a0>, 'time': 0.41333937644958496, 'accuracy': 0.37610062893081764, 'used_vertices': 44}}, 'G4 to G5': {'brute_force': {'graph': <networkx.classes.graph.Graph object at 0x7f80a30680d0>, 'time': 406.72809505462646, 'accuracy': 1.0, 'used_vertices': 558}, 'astar_0': {'graph': <networkx.classes.graph.Graph object at 0x7f80a7853f10>, 'time': 457.00415682792664, 'accuracy': 1.0, 'used_vertices': 558}, 'astar_common_neighbor': {'graph': <networkx.classes.graph.Graph object at 0x7f809f475700>, 'time': 910.6126148700714, 'accuracy': 0.9988221436984688, 'used_vertices': 617}, 'astar_jaccard': {'graph': <networkx.classes.graph.Graph object at 0x7f809e698fd0>, 'time': 985.6887722015381, 'accuracy': 0.7067137809187279, 'used_vertices': 488}, 'steiner_tree': {'graph': <networkx.classes.graph.Graph object at 0x7f80a1d48640>, 'time': 0.49036622047424316, 'accuracy': 0.39811542991755006, 'used_vertices': 47}}, 'N2 to N1': {'brute_force': {'graph': <networkx.classes.graph.Graph object at 0x7f809df893a0>, 'time': 2555.317622900009, 'accuracy': 1.0, 'used_vertices': 934}, 'astar_0': {'graph': <networkx.classes.graph.Graph object at 0x7f80a2d38cd0>, 'time': 2912.1603434085846, 'accuracy': 1.0, 'used_vertices': 934}, 'astar_common_neighbor': {'graph': <networkx.classes.graph.Graph object at 0x7f8083705670>, 'time': 5275.372370004654, 'accuracy': 0.9975186104218362, 'used_vertices': 1024}, 'astar_jaccard': {'graph': <networkx.classes.graph.Graph object at 0x7f80859386a0>, 'time': 5643.97544670105, 'accuracy': 0.8120347394540943, 'used_vertices': 855}, 'steiner_tree': {'graph': <networkx.classes.graph.Graph object at 0x7f80a14a3b50>, 'time': 1.6699926853179932, 'accuracy': 0.45595533498759305, 'used_vertices': 57}}, 'G5 to G6': {}}\n",
      "----------------------\n",
      "\n",
      "        ################\n",
      "        len(MOrig) == 142\n",
      "        len(MDest) == 140\n",
      "        ################\n",
      "        \n",
      "algo: brute_force\n",
      "tc: G5 to G6 of 9\n"
     ]
    },
    {
     "name": "stdout",
     "output_type": "stream",
     "text": [
      "finish at 2021-08-24 13:49:33.456046 after 384.96597170829773 seconds\n",
      "==============\n",
      "algo: astar_0\n",
      "tc: G5 to G6 of 9\n",
      "finish at 2021-08-24 13:57:44.257440 after 490.80122423171997 seconds\n",
      "==============\n",
      "algo: astar_common_neighbor\n",
      "tc: G5 to G6 of 9\n",
      "finish at 2021-08-24 14:14:09.214380 after 984.954327583313 seconds\n",
      "==============\n",
      "algo: astar_jaccard\n",
      "tc: G5 to G6 of 9\n",
      "finish at 2021-08-24 14:31:37.625807 after 1048.4101798534393 seconds\n",
      "==============\n",
      "algo: steiner_tree\n",
      "tc: G5 to G6 of 9\n",
      "finish at 2021-08-24 14:31:38.139186 after 0.5097560882568359 seconds\n",
      "==============\n",
      "----------------------\n",
      "{'N5 to N4': {'brute_force': {'graph': <networkx.classes.graph.Graph object at 0x7f809e3593a0>, 'time': 0.20917344093322754, 'accuracy': 1.0, 'used_vertices': 14}, 'astar_0': {'graph': <networkx.classes.graph.Graph object at 0x7f809e3594c0>, 'time': 0.22056174278259277, 'accuracy': 1.0, 'used_vertices': 14}, 'astar_common_neighbor': {'graph': <networkx.classes.graph.Graph object at 0x7f809f55a940>, 'time': 0.47386789321899414, 'accuracy': 1.0, 'used_vertices': 15}, 'astar_jaccard': {'graph': <networkx.classes.graph.Graph object at 0x7f809e359460>, 'time': 0.5334794521331787, 'accuracy': 0.7619047619047619, 'used_vertices': 17}, 'steiner_tree': {'graph': <networkx.classes.graph.Graph object at 0x7f809e8c0a30>, 'time': 0.006903409957885742, 'accuracy': 0.7619047619047619, 'used_vertices': 10}}, 'G1 to G2': {'brute_force': {'graph': <networkx.classes.graph.Graph object at 0x7f809e634f70>, 'time': 1.6516118049621582, 'accuracy': 1.0, 'used_vertices': 68}, 'astar_0': {'graph': <networkx.classes.graph.Graph object at 0x7f809e555a00>, 'time': 2.1265006065368652, 'accuracy': 1.0, 'used_vertices': 68}, 'astar_common_neighbor': {'graph': <networkx.classes.graph.Graph object at 0x7f809e645ac0>, 'time': 4.636617422103882, 'accuracy': 0.9666666666666667, 'used_vertices': 91}, 'astar_jaccard': {'graph': <networkx.classes.graph.Graph object at 0x7f809f841d90>, 'time': 5.029640197753906, 'accuracy': 0.6777777777777778, 'used_vertices': 71}, 'steiner_tree': {'graph': <networkx.classes.graph.Graph object at 0x7f809e645cd0>, 'time': 0.021547555923461914, 'accuracy': 0.4222222222222222, 'used_vertices': 17}}, 'G2 to G3': {'brute_force': {'graph': <networkx.classes.graph.Graph object at 0x7f80a21c5370>, 'time': 10.356009721755981, 'accuracy': 1.0, 'used_vertices': 112}, 'astar_0': {'graph': <networkx.classes.graph.Graph object at 0x7f80a1c69c40>, 'time': 5.000048398971558, 'accuracy': 1.0, 'used_vertices': 112}, 'astar_common_neighbor': {'graph': <networkx.classes.graph.Graph object at 0x7f809df24f70>, 'time': 10.66808032989502, 'accuracy': 1.0, 'used_vertices': 123}, 'astar_jaccard': {'graph': <networkx.classes.graph.Graph object at 0x7f809df24fd0>, 'time': 11.782394409179688, 'accuracy': 0.6054421768707483, 'used_vertices': 98}, 'steiner_tree': {'graph': <networkx.classes.graph.Graph object at 0x7f80a5e1c040>, 'time': 0.03872179985046387, 'accuracy': 0.3741496598639456, 'used_vertices': 20}}, 'N4 to N3': {'brute_force': {'graph': <networkx.classes.graph.Graph object at 0x7f809e47c430>, 'time': 19.2420175075531, 'accuracy': 1.0, 'used_vertices': 193}, 'astar_0': {'graph': <networkx.classes.graph.Graph object at 0x7f809f6eb6a0>, 'time': 25.748127222061157, 'accuracy': 1.0, 'used_vertices': 193}, 'astar_common_neighbor': {'graph': <networkx.classes.graph.Graph object at 0x7f80a1d48550>, 'time': 52.392563343048096, 'accuracy': 1.0, 'used_vertices': 201}, 'astar_jaccard': {'graph': <networkx.classes.graph.Graph object at 0x7f809dec8c40>, 'time': 59.86164093017578, 'accuracy': 0.6007326007326007, 'used_vertices': 145}, 'steiner_tree': {'graph': <networkx.classes.graph.Graph object at 0x7f80a5d48d60>, 'time': 0.1001284122467041, 'accuracy': 0.3882783882783883, 'used_vertices': 27}}, 'N3 to N2': {'brute_force': {'graph': <networkx.classes.graph.Graph object at 0x7f809f25b1c0>, 'time': 78.66047835350037, 'accuracy': 1.0, 'used_vertices': 373}, 'astar_0': {'graph': <networkx.classes.graph.Graph object at 0x7f809df94d30>, 'time': 100.45182585716248, 'accuracy': 1.0, 'used_vertices': 373}, 'astar_common_neighbor': {'graph': <networkx.classes.graph.Graph object at 0x7f80a2005b20>, 'time': 195.90018510818481, 'accuracy': 0.9903846153846154, 'used_vertices': 430}, 'astar_jaccard': {'graph': <networkx.classes.graph.Graph object at 0x7f80a3324a90>, 'time': 215.3136224746704, 'accuracy': 0.6903846153846154, 'used_vertices': 340}, 'steiner_tree': {'graph': <networkx.classes.graph.Graph object at 0x7f80a204bcd0>, 'time': 0.19644641876220703, 'accuracy': 0.35, 'used_vertices': 36}}, 'G3 to G4': {'brute_force': {'graph': <networkx.classes.graph.Graph object at 0x7f80a1b51af0>, 'time': 301.8003327846527, 'accuracy': 1.0, 'used_vertices': 540}, 'astar_0': {'graph': <networkx.classes.graph.Graph object at 0x7f80a0968940>, 'time': 389.7500340938568, 'accuracy': 1.0, 'used_vertices': 540}, 'astar_common_neighbor': {'graph': <networkx.classes.graph.Graph object at 0x7f809a8ee520>, 'time': 692.6042211055756, 'accuracy': 0.9949685534591195, 'used_vertices': 570}, 'astar_jaccard': {'graph': <networkx.classes.graph.Graph object at 0x7f809e6123d0>, 'time': 732.9522805213928, 'accuracy': 0.7069182389937106, 'used_vertices': 471}, 'steiner_tree': {'graph': <networkx.classes.graph.Graph object at 0x7f80a64219a0>, 'time': 0.41333937644958496, 'accuracy': 0.37610062893081764, 'used_vertices': 44}}, 'G4 to G5': {'brute_force': {'graph': <networkx.classes.graph.Graph object at 0x7f80a30680d0>, 'time': 406.72809505462646, 'accuracy': 1.0, 'used_vertices': 558}, 'astar_0': {'graph': <networkx.classes.graph.Graph object at 0x7f80a7853f10>, 'time': 457.00415682792664, 'accuracy': 1.0, 'used_vertices': 558}, 'astar_common_neighbor': {'graph': <networkx.classes.graph.Graph object at 0x7f809f475700>, 'time': 910.6126148700714, 'accuracy': 0.9988221436984688, 'used_vertices': 617}, 'astar_jaccard': {'graph': <networkx.classes.graph.Graph object at 0x7f809e698fd0>, 'time': 985.6887722015381, 'accuracy': 0.7067137809187279, 'used_vertices': 488}, 'steiner_tree': {'graph': <networkx.classes.graph.Graph object at 0x7f80a1d48640>, 'time': 0.49036622047424316, 'accuracy': 0.39811542991755006, 'used_vertices': 47}}, 'N2 to N1': {'brute_force': {'graph': <networkx.classes.graph.Graph object at 0x7f809df893a0>, 'time': 2555.317622900009, 'accuracy': 1.0, 'used_vertices': 934}, 'astar_0': {'graph': <networkx.classes.graph.Graph object at 0x7f80a2d38cd0>, 'time': 2912.1603434085846, 'accuracy': 1.0, 'used_vertices': 934}, 'astar_common_neighbor': {'graph': <networkx.classes.graph.Graph object at 0x7f8083705670>, 'time': 5275.372370004654, 'accuracy': 0.9975186104218362, 'used_vertices': 1024}, 'astar_jaccard': {'graph': <networkx.classes.graph.Graph object at 0x7f80859386a0>, 'time': 5643.97544670105, 'accuracy': 0.8120347394540943, 'used_vertices': 855}, 'steiner_tree': {'graph': <networkx.classes.graph.Graph object at 0x7f80a14a3b50>, 'time': 1.6699926853179932, 'accuracy': 0.45595533498759305, 'used_vertices': 57}}, 'G5 to G6': {'brute_force': {'graph': <networkx.classes.graph.Graph object at 0x7f809e4dcf70>, 'time': 384.96597170829773, 'accuracy': 1.0, 'used_vertices': 599}, 'astar_0': {'graph': <networkx.classes.graph.Graph object at 0x7f809c278970>, 'time': 490.80122423171997, 'accuracy': 1.0, 'used_vertices': 599}, 'astar_common_neighbor': {'graph': <networkx.classes.graph.Graph object at 0x7f80a2255850>, 'time': 984.954327583313, 'accuracy': 0.996594778660613, 'used_vertices': 665}, 'astar_jaccard': {'graph': <networkx.classes.graph.Graph object at 0x7f80a17dfcd0>, 'time': 1048.4101798534393, 'accuracy': 0.6424517593643587, 'used_vertices': 436}, 'steiner_tree': {'graph': <networkx.classes.graph.Graph object at 0x7f80a2debaf0>, 'time': 0.5097560882568359, 'accuracy': 0.3654937570942111, 'used_vertices': 41}}}\n",
      "----------------------\n"
     ]
    }
   ],
   "source": [
    "algo_list = ['brute_force', 'astar_0', 'astar_common_neighbor', 'astar_jaccard', 'steiner_tree']\n",
    "results = get_results_kanjigen(g_curr, test_cases_clean, algo_list)"
   ]
  },
  {
   "cell_type": "code",
   "execution_count": 61,
   "metadata": {},
   "outputs": [
    {
     "name": "stdout",
     "output_type": "stream",
     "text": [
      "{'G1 to G2': {'astar_0': {'accuracy': 1.0,\n",
      "                          'graph': <networkx.classes.graph.Graph object at 0x7f809e555a00>,\n",
      "                          'time': 2.1265006065368652,\n",
      "                          'used_vertices': 68},\n",
      "              'astar_common_neighbor': {'accuracy': 0.9666666666666667,\n",
      "                                        'graph': <networkx.classes.graph.Graph object at 0x7f809e645ac0>,\n",
      "                                        'time': 4.636617422103882,\n",
      "                                        'used_vertices': 91},\n",
      "              'astar_jaccard': {'accuracy': 0.6777777777777778,\n",
      "                                'graph': <networkx.classes.graph.Graph object at 0x7f809f841d90>,\n",
      "                                'time': 5.029640197753906,\n",
      "                                'used_vertices': 71},\n",
      "              'brute_force': {'accuracy': 1.0,\n",
      "                              'graph': <networkx.classes.graph.Graph object at 0x7f809e634f70>,\n",
      "                              'time': 1.6516118049621582,\n",
      "                              'used_vertices': 68},\n",
      "              'steiner_tree': {'accuracy': 0.4222222222222222,\n",
      "                               'graph': <networkx.classes.graph.Graph object at 0x7f809e645cd0>,\n",
      "                               'time': 0.021547555923461914,\n",
      "                               'used_vertices': 17}},\n",
      " 'G2 to G3': {'astar_0': {'accuracy': 1.0,\n",
      "                          'graph': <networkx.classes.graph.Graph object at 0x7f80a1c69c40>,\n",
      "                          'time': 5.000048398971558,\n",
      "                          'used_vertices': 112},\n",
      "              'astar_common_neighbor': {'accuracy': 1.0,\n",
      "                                        'graph': <networkx.classes.graph.Graph object at 0x7f809df24f70>,\n",
      "                                        'time': 10.66808032989502,\n",
      "                                        'used_vertices': 123},\n",
      "              'astar_jaccard': {'accuracy': 0.6054421768707483,\n",
      "                                'graph': <networkx.classes.graph.Graph object at 0x7f809df24fd0>,\n",
      "                                'time': 11.782394409179688,\n",
      "                                'used_vertices': 98},\n",
      "              'brute_force': {'accuracy': 1.0,\n",
      "                              'graph': <networkx.classes.graph.Graph object at 0x7f80a21c5370>,\n",
      "                              'time': 10.356009721755981,\n",
      "                              'used_vertices': 112},\n",
      "              'steiner_tree': {'accuracy': 0.3741496598639456,\n",
      "                               'graph': <networkx.classes.graph.Graph object at 0x7f80a5e1c040>,\n",
      "                               'time': 0.03872179985046387,\n",
      "                               'used_vertices': 20}},\n",
      " 'G3 to G4': {'astar_0': {'accuracy': 1.0,\n",
      "                          'graph': <networkx.classes.graph.Graph object at 0x7f80a0968940>,\n",
      "                          'time': 389.7500340938568,\n",
      "                          'used_vertices': 540},\n",
      "              'astar_common_neighbor': {'accuracy': 0.9949685534591195,\n",
      "                                        'graph': <networkx.classes.graph.Graph object at 0x7f809a8ee520>,\n",
      "                                        'time': 692.6042211055756,\n",
      "                                        'used_vertices': 570},\n",
      "              'astar_jaccard': {'accuracy': 0.7069182389937106,\n",
      "                                'graph': <networkx.classes.graph.Graph object at 0x7f809e6123d0>,\n",
      "                                'time': 732.9522805213928,\n",
      "                                'used_vertices': 471},\n",
      "              'brute_force': {'accuracy': 1.0,\n",
      "                              'graph': <networkx.classes.graph.Graph object at 0x7f80a1b51af0>,\n",
      "                              'time': 301.8003327846527,\n",
      "                              'used_vertices': 540},\n",
      "              'steiner_tree': {'accuracy': 0.37610062893081764,\n",
      "                               'graph': <networkx.classes.graph.Graph object at 0x7f80a64219a0>,\n",
      "                               'time': 0.41333937644958496,\n",
      "                               'used_vertices': 44}},\n",
      " 'G4 to G5': {'astar_0': {'accuracy': 1.0,\n",
      "                          'graph': <networkx.classes.graph.Graph object at 0x7f80a7853f10>,\n",
      "                          'time': 457.00415682792664,\n",
      "                          'used_vertices': 558},\n",
      "              'astar_common_neighbor': {'accuracy': 0.9988221436984688,\n",
      "                                        'graph': <networkx.classes.graph.Graph object at 0x7f809f475700>,\n",
      "                                        'time': 910.6126148700714,\n",
      "                                        'used_vertices': 617},\n",
      "              'astar_jaccard': {'accuracy': 0.7067137809187279,\n",
      "                                'graph': <networkx.classes.graph.Graph object at 0x7f809e698fd0>,\n",
      "                                'time': 985.6887722015381,\n",
      "                                'used_vertices': 488},\n",
      "              'brute_force': {'accuracy': 1.0,\n",
      "                              'graph': <networkx.classes.graph.Graph object at 0x7f80a30680d0>,\n",
      "                              'time': 406.72809505462646,\n",
      "                              'used_vertices': 558},\n",
      "              'steiner_tree': {'accuracy': 0.39811542991755006,\n",
      "                               'graph': <networkx.classes.graph.Graph object at 0x7f80a1d48640>,\n",
      "                               'time': 0.49036622047424316,\n",
      "                               'used_vertices': 47}},\n",
      " 'G5 to G6': {'astar_0': {'accuracy': 1.0,\n",
      "                          'graph': <networkx.classes.graph.Graph object at 0x7f809c278970>,\n",
      "                          'time': 490.80122423171997,\n",
      "                          'used_vertices': 599},\n",
      "              'astar_common_neighbor': {'accuracy': 0.996594778660613,\n",
      "                                        'graph': <networkx.classes.graph.Graph object at 0x7f80a2255850>,\n",
      "                                        'time': 984.954327583313,\n",
      "                                        'used_vertices': 665},\n",
      "              'astar_jaccard': {'accuracy': 0.6424517593643587,\n",
      "                                'graph': <networkx.classes.graph.Graph object at 0x7f80a17dfcd0>,\n",
      "                                'time': 1048.4101798534393,\n",
      "                                'used_vertices': 436},\n",
      "              'brute_force': {'accuracy': 1.0,\n",
      "                              'graph': <networkx.classes.graph.Graph object at 0x7f809e4dcf70>,\n",
      "                              'time': 384.96597170829773,\n",
      "                              'used_vertices': 599},\n",
      "              'steiner_tree': {'accuracy': 0.3654937570942111,\n",
      "                               'graph': <networkx.classes.graph.Graph object at 0x7f80a2debaf0>,\n",
      "                               'time': 0.5097560882568359,\n",
      "                               'used_vertices': 41}},\n",
      " 'N2 to N1': {'astar_0': {'accuracy': 1.0,\n",
      "                          'graph': <networkx.classes.graph.Graph object at 0x7f80a2d38cd0>,\n",
      "                          'time': 2912.1603434085846,\n",
      "                          'used_vertices': 934},\n",
      "              'astar_common_neighbor': {'accuracy': 0.9975186104218362,\n",
      "                                        'graph': <networkx.classes.graph.Graph object at 0x7f8083705670>,\n",
      "                                        'time': 5275.372370004654,\n",
      "                                        'used_vertices': 1024},\n",
      "              'astar_jaccard': {'accuracy': 0.8120347394540943,\n",
      "                                'graph': <networkx.classes.graph.Graph object at 0x7f80859386a0>,\n",
      "                                'time': 5643.97544670105,\n",
      "                                'used_vertices': 855},\n",
      "              'brute_force': {'accuracy': 1.0,\n",
      "                              'graph': <networkx.classes.graph.Graph object at 0x7f809df893a0>,\n",
      "                              'time': 2555.317622900009,\n",
      "                              'used_vertices': 934},\n",
      "              'steiner_tree': {'accuracy': 0.45595533498759305,\n",
      "                               'graph': <networkx.classes.graph.Graph object at 0x7f80a14a3b50>,\n",
      "                               'time': 1.6699926853179932,\n",
      "                               'used_vertices': 57}},\n",
      " 'N3 to N2': {'astar_0': {'accuracy': 1.0,\n",
      "                          'graph': <networkx.classes.graph.Graph object at 0x7f809df94d30>,\n",
      "                          'time': 100.45182585716248,\n",
      "                          'used_vertices': 373},\n",
      "              'astar_common_neighbor': {'accuracy': 0.9903846153846154,\n",
      "                                        'graph': <networkx.classes.graph.Graph object at 0x7f80a2005b20>,\n",
      "                                        'time': 195.90018510818481,\n",
      "                                        'used_vertices': 430},\n",
      "              'astar_jaccard': {'accuracy': 0.6903846153846154,\n",
      "                                'graph': <networkx.classes.graph.Graph object at 0x7f80a3324a90>,\n",
      "                                'time': 215.3136224746704,\n",
      "                                'used_vertices': 340},\n",
      "              'brute_force': {'accuracy': 1.0,\n",
      "                              'graph': <networkx.classes.graph.Graph object at 0x7f809f25b1c0>,\n",
      "                              'time': 78.66047835350037,\n",
      "                              'used_vertices': 373},\n",
      "              'steiner_tree': {'accuracy': 0.35,\n",
      "                               'graph': <networkx.classes.graph.Graph object at 0x7f80a204bcd0>,\n",
      "                               'time': 0.19644641876220703,\n",
      "                               'used_vertices': 36}},\n",
      " 'N4 to N3': {'astar_0': {'accuracy': 1.0,\n",
      "                          'graph': <networkx.classes.graph.Graph object at 0x7f809f6eb6a0>,\n",
      "                          'time': 25.748127222061157,\n",
      "                          'used_vertices': 193},\n",
      "              'astar_common_neighbor': {'accuracy': 1.0,\n",
      "                                        'graph': <networkx.classes.graph.Graph object at 0x7f80a1d48550>,\n",
      "                                        'time': 52.392563343048096,\n",
      "                                        'used_vertices': 201},\n",
      "              'astar_jaccard': {'accuracy': 0.6007326007326007,\n",
      "                                'graph': <networkx.classes.graph.Graph object at 0x7f809dec8c40>,\n",
      "                                'time': 59.86164093017578,\n",
      "                                'used_vertices': 145},\n",
      "              'brute_force': {'accuracy': 1.0,\n",
      "                              'graph': <networkx.classes.graph.Graph object at 0x7f809e47c430>,\n",
      "                              'time': 19.2420175075531,\n",
      "                              'used_vertices': 193},\n",
      "              'steiner_tree': {'accuracy': 0.3882783882783883,\n",
      "                               'graph': <networkx.classes.graph.Graph object at 0x7f80a5d48d60>,\n",
      "                               'time': 0.1001284122467041,\n",
      "                               'used_vertices': 27}},\n",
      " 'N5 to N4': {'astar_0': {'accuracy': 1.0,\n",
      "                          'graph': <networkx.classes.graph.Graph object at 0x7f809e3594c0>,\n",
      "                          'time': 0.22056174278259277,\n",
      "                          'used_vertices': 14},\n",
      "              'astar_common_neighbor': {'accuracy': 1.0,\n",
      "                                        'graph': <networkx.classes.graph.Graph object at 0x7f809f55a940>,\n",
      "                                        'time': 0.47386789321899414,\n",
      "                                        'used_vertices': 15},\n",
      "              'astar_jaccard': {'accuracy': 0.7619047619047619,\n",
      "                                'graph': <networkx.classes.graph.Graph object at 0x7f809e359460>,\n",
      "                                'time': 0.5334794521331787,\n",
      "                                'used_vertices': 17},\n",
      "              'brute_force': {'accuracy': 1.0,\n",
      "                              'graph': <networkx.classes.graph.Graph object at 0x7f809e3593a0>,\n",
      "                              'time': 0.20917344093322754,\n",
      "                              'used_vertices': 14},\n",
      "              'steiner_tree': {'accuracy': 0.7619047619047619,\n",
      "                               'graph': <networkx.classes.graph.Graph object at 0x7f809e8c0a30>,\n",
      "                               'time': 0.006903409957885742,\n",
      "                               'used_vertices': 10}}}\n"
     ]
    }
   ],
   "source": [
    "pp(results)"
   ]
  },
  {
   "cell_type": "markdown",
   "metadata": {},
   "source": [
    "# Analysis"
   ]
  },
  {
   "cell_type": "code",
   "execution_count": 62,
   "metadata": {},
   "outputs": [
    {
     "data": {
      "text/plain": [
       "{'N5 to N4': {'brute_force': {'graph': <networkx.classes.graph.Graph at 0x7f809e3593a0>,\n",
       "   'time': 0.20917344093322754,\n",
       "   'accuracy': 1.0,\n",
       "   'used_vertices': 14},\n",
       "  'astar_0': {'graph': <networkx.classes.graph.Graph at 0x7f809e3594c0>,\n",
       "   'time': 0.22056174278259277,\n",
       "   'accuracy': 1.0,\n",
       "   'used_vertices': 14},\n",
       "  'astar_common_neighbor': {'graph': <networkx.classes.graph.Graph at 0x7f809f55a940>,\n",
       "   'time': 0.47386789321899414,\n",
       "   'accuracy': 1.0,\n",
       "   'used_vertices': 15},\n",
       "  'astar_jaccard': {'graph': <networkx.classes.graph.Graph at 0x7f809e359460>,\n",
       "   'time': 0.5334794521331787,\n",
       "   'accuracy': 0.7619047619047619,\n",
       "   'used_vertices': 17},\n",
       "  'steiner_tree': {'graph': <networkx.classes.graph.Graph at 0x7f809e8c0a30>,\n",
       "   'time': 0.006903409957885742,\n",
       "   'accuracy': 0.7619047619047619,\n",
       "   'used_vertices': 10}},\n",
       " 'G1 to G2': {'brute_force': {'graph': <networkx.classes.graph.Graph at 0x7f809e634f70>,\n",
       "   'time': 1.6516118049621582,\n",
       "   'accuracy': 1.0,\n",
       "   'used_vertices': 68},\n",
       "  'astar_0': {'graph': <networkx.classes.graph.Graph at 0x7f809e555a00>,\n",
       "   'time': 2.1265006065368652,\n",
       "   'accuracy': 1.0,\n",
       "   'used_vertices': 68},\n",
       "  'astar_common_neighbor': {'graph': <networkx.classes.graph.Graph at 0x7f809e645ac0>,\n",
       "   'time': 4.636617422103882,\n",
       "   'accuracy': 0.9666666666666667,\n",
       "   'used_vertices': 91},\n",
       "  'astar_jaccard': {'graph': <networkx.classes.graph.Graph at 0x7f809f841d90>,\n",
       "   'time': 5.029640197753906,\n",
       "   'accuracy': 0.6777777777777778,\n",
       "   'used_vertices': 71},\n",
       "  'steiner_tree': {'graph': <networkx.classes.graph.Graph at 0x7f809e645cd0>,\n",
       "   'time': 0.021547555923461914,\n",
       "   'accuracy': 0.4222222222222222,\n",
       "   'used_vertices': 17}},\n",
       " 'G2 to G3': {'brute_force': {'graph': <networkx.classes.graph.Graph at 0x7f80a21c5370>,\n",
       "   'time': 10.356009721755981,\n",
       "   'accuracy': 1.0,\n",
       "   'used_vertices': 112},\n",
       "  'astar_0': {'graph': <networkx.classes.graph.Graph at 0x7f80a1c69c40>,\n",
       "   'time': 5.000048398971558,\n",
       "   'accuracy': 1.0,\n",
       "   'used_vertices': 112},\n",
       "  'astar_common_neighbor': {'graph': <networkx.classes.graph.Graph at 0x7f809df24f70>,\n",
       "   'time': 10.66808032989502,\n",
       "   'accuracy': 1.0,\n",
       "   'used_vertices': 123},\n",
       "  'astar_jaccard': {'graph': <networkx.classes.graph.Graph at 0x7f809df24fd0>,\n",
       "   'time': 11.782394409179688,\n",
       "   'accuracy': 0.6054421768707483,\n",
       "   'used_vertices': 98},\n",
       "  'steiner_tree': {'graph': <networkx.classes.graph.Graph at 0x7f80a5e1c040>,\n",
       "   'time': 0.03872179985046387,\n",
       "   'accuracy': 0.3741496598639456,\n",
       "   'used_vertices': 20}},\n",
       " 'N4 to N3': {'brute_force': {'graph': <networkx.classes.graph.Graph at 0x7f809e47c430>,\n",
       "   'time': 19.2420175075531,\n",
       "   'accuracy': 1.0,\n",
       "   'used_vertices': 193},\n",
       "  'astar_0': {'graph': <networkx.classes.graph.Graph at 0x7f809f6eb6a0>,\n",
       "   'time': 25.748127222061157,\n",
       "   'accuracy': 1.0,\n",
       "   'used_vertices': 193},\n",
       "  'astar_common_neighbor': {'graph': <networkx.classes.graph.Graph at 0x7f80a1d48550>,\n",
       "   'time': 52.392563343048096,\n",
       "   'accuracy': 1.0,\n",
       "   'used_vertices': 201},\n",
       "  'astar_jaccard': {'graph': <networkx.classes.graph.Graph at 0x7f809dec8c40>,\n",
       "   'time': 59.86164093017578,\n",
       "   'accuracy': 0.6007326007326007,\n",
       "   'used_vertices': 145},\n",
       "  'steiner_tree': {'graph': <networkx.classes.graph.Graph at 0x7f80a5d48d60>,\n",
       "   'time': 0.1001284122467041,\n",
       "   'accuracy': 0.3882783882783883,\n",
       "   'used_vertices': 27}},\n",
       " 'N3 to N2': {'brute_force': {'graph': <networkx.classes.graph.Graph at 0x7f809f25b1c0>,\n",
       "   'time': 78.66047835350037,\n",
       "   'accuracy': 1.0,\n",
       "   'used_vertices': 373},\n",
       "  'astar_0': {'graph': <networkx.classes.graph.Graph at 0x7f809df94d30>,\n",
       "   'time': 100.45182585716248,\n",
       "   'accuracy': 1.0,\n",
       "   'used_vertices': 373},\n",
       "  'astar_common_neighbor': {'graph': <networkx.classes.graph.Graph at 0x7f80a2005b20>,\n",
       "   'time': 195.90018510818481,\n",
       "   'accuracy': 0.9903846153846154,\n",
       "   'used_vertices': 430},\n",
       "  'astar_jaccard': {'graph': <networkx.classes.graph.Graph at 0x7f80a3324a90>,\n",
       "   'time': 215.3136224746704,\n",
       "   'accuracy': 0.6903846153846154,\n",
       "   'used_vertices': 340},\n",
       "  'steiner_tree': {'graph': <networkx.classes.graph.Graph at 0x7f80a204bcd0>,\n",
       "   'time': 0.19644641876220703,\n",
       "   'accuracy': 0.35,\n",
       "   'used_vertices': 36}},\n",
       " 'G3 to G4': {'brute_force': {'graph': <networkx.classes.graph.Graph at 0x7f80a1b51af0>,\n",
       "   'time': 301.8003327846527,\n",
       "   'accuracy': 1.0,\n",
       "   'used_vertices': 540},\n",
       "  'astar_0': {'graph': <networkx.classes.graph.Graph at 0x7f80a0968940>,\n",
       "   'time': 389.7500340938568,\n",
       "   'accuracy': 1.0,\n",
       "   'used_vertices': 540},\n",
       "  'astar_common_neighbor': {'graph': <networkx.classes.graph.Graph at 0x7f809a8ee520>,\n",
       "   'time': 692.6042211055756,\n",
       "   'accuracy': 0.9949685534591195,\n",
       "   'used_vertices': 570},\n",
       "  'astar_jaccard': {'graph': <networkx.classes.graph.Graph at 0x7f809e6123d0>,\n",
       "   'time': 732.9522805213928,\n",
       "   'accuracy': 0.7069182389937106,\n",
       "   'used_vertices': 471},\n",
       "  'steiner_tree': {'graph': <networkx.classes.graph.Graph at 0x7f80a64219a0>,\n",
       "   'time': 0.41333937644958496,\n",
       "   'accuracy': 0.37610062893081764,\n",
       "   'used_vertices': 44}},\n",
       " 'G4 to G5': {'brute_force': {'graph': <networkx.classes.graph.Graph at 0x7f80a30680d0>,\n",
       "   'time': 406.72809505462646,\n",
       "   'accuracy': 1.0,\n",
       "   'used_vertices': 558},\n",
       "  'astar_0': {'graph': <networkx.classes.graph.Graph at 0x7f80a7853f10>,\n",
       "   'time': 457.00415682792664,\n",
       "   'accuracy': 1.0,\n",
       "   'used_vertices': 558},\n",
       "  'astar_common_neighbor': {'graph': <networkx.classes.graph.Graph at 0x7f809f475700>,\n",
       "   'time': 910.6126148700714,\n",
       "   'accuracy': 0.9988221436984688,\n",
       "   'used_vertices': 617},\n",
       "  'astar_jaccard': {'graph': <networkx.classes.graph.Graph at 0x7f809e698fd0>,\n",
       "   'time': 985.6887722015381,\n",
       "   'accuracy': 0.7067137809187279,\n",
       "   'used_vertices': 488},\n",
       "  'steiner_tree': {'graph': <networkx.classes.graph.Graph at 0x7f80a1d48640>,\n",
       "   'time': 0.49036622047424316,\n",
       "   'accuracy': 0.39811542991755006,\n",
       "   'used_vertices': 47}},\n",
       " 'N2 to N1': {'brute_force': {'graph': <networkx.classes.graph.Graph at 0x7f809df893a0>,\n",
       "   'time': 2555.317622900009,\n",
       "   'accuracy': 1.0,\n",
       "   'used_vertices': 934},\n",
       "  'astar_0': {'graph': <networkx.classes.graph.Graph at 0x7f80a2d38cd0>,\n",
       "   'time': 2912.1603434085846,\n",
       "   'accuracy': 1.0,\n",
       "   'used_vertices': 934},\n",
       "  'astar_common_neighbor': {'graph': <networkx.classes.graph.Graph at 0x7f8083705670>,\n",
       "   'time': 5275.372370004654,\n",
       "   'accuracy': 0.9975186104218362,\n",
       "   'used_vertices': 1024},\n",
       "  'astar_jaccard': {'graph': <networkx.classes.graph.Graph at 0x7f80859386a0>,\n",
       "   'time': 5643.97544670105,\n",
       "   'accuracy': 0.8120347394540943,\n",
       "   'used_vertices': 855},\n",
       "  'steiner_tree': {'graph': <networkx.classes.graph.Graph at 0x7f80a14a3b50>,\n",
       "   'time': 1.6699926853179932,\n",
       "   'accuracy': 0.45595533498759305,\n",
       "   'used_vertices': 57}},\n",
       " 'G5 to G6': {'brute_force': {'graph': <networkx.classes.graph.Graph at 0x7f809e4dcf70>,\n",
       "   'time': 384.96597170829773,\n",
       "   'accuracy': 1.0,\n",
       "   'used_vertices': 599},\n",
       "  'astar_0': {'graph': <networkx.classes.graph.Graph at 0x7f809c278970>,\n",
       "   'time': 490.80122423171997,\n",
       "   'accuracy': 1.0,\n",
       "   'used_vertices': 599},\n",
       "  'astar_common_neighbor': {'graph': <networkx.classes.graph.Graph at 0x7f80a2255850>,\n",
       "   'time': 984.954327583313,\n",
       "   'accuracy': 0.996594778660613,\n",
       "   'used_vertices': 665},\n",
       "  'astar_jaccard': {'graph': <networkx.classes.graph.Graph at 0x7f80a17dfcd0>,\n",
       "   'time': 1048.4101798534393,\n",
       "   'accuracy': 0.6424517593643587,\n",
       "   'used_vertices': 436},\n",
       "  'steiner_tree': {'graph': <networkx.classes.graph.Graph at 0x7f80a2debaf0>,\n",
       "   'time': 0.5097560882568359,\n",
       "   'accuracy': 0.3654937570942111,\n",
       "   'used_vertices': 41}}}"
      ]
     },
     "execution_count": 62,
     "metadata": {},
     "output_type": "execute_result"
    }
   ],
   "source": [
    "results"
   ]
  },
  {
   "cell_type": "code",
   "execution_count": 63,
   "metadata": {},
   "outputs": [],
   "source": [
    "def get_df_results(results, algo_list):\n",
    "    df_results = {algo: dict() for algo in algo_list}\n",
    "    for tc_name, res in results.items():\n",
    "        \n",
    "        \n",
    "        for algo in algo_list:\n",
    "            if algo not in res:\n",
    "                continue\n",
    "            \n",
    "            if tc_name not in df_results[algo]:\n",
    "                df_results[algo][tc_name] = dict()\n",
    "                \n",
    "            \n",
    "            df_results[algo][tc_name]['accuracy'] = round(res[algo]['accuracy'], 2)\n",
    "            df_results[algo][tc_name]['time']     = round(res[algo]['time'], 2)\n",
    "            df_results[algo][tc_name]['uv']  = res[algo]['used_vertices']\n",
    "\n",
    "    return df_results"
   ]
  },
  {
   "cell_type": "code",
   "execution_count": 64,
   "metadata": {},
   "outputs": [
    {
     "data": {
      "text/plain": [
       "{'brute_force': {'N5 to N4': {'accuracy': 1.0, 'time': 0.21, 'uv': 14},\n",
       "  'G1 to G2': {'accuracy': 1.0, 'time': 1.65, 'uv': 68},\n",
       "  'G2 to G3': {'accuracy': 1.0, 'time': 10.36, 'uv': 112},\n",
       "  'N4 to N3': {'accuracy': 1.0, 'time': 19.24, 'uv': 193},\n",
       "  'N3 to N2': {'accuracy': 1.0, 'time': 78.66, 'uv': 373},\n",
       "  'G3 to G4': {'accuracy': 1.0, 'time': 301.8, 'uv': 540},\n",
       "  'G4 to G5': {'accuracy': 1.0, 'time': 406.73, 'uv': 558},\n",
       "  'N2 to N1': {'accuracy': 1.0, 'time': 2555.32, 'uv': 934},\n",
       "  'G5 to G6': {'accuracy': 1.0, 'time': 384.97, 'uv': 599}},\n",
       " 'astar_0': {'N5 to N4': {'accuracy': 1.0, 'time': 0.22, 'uv': 14},\n",
       "  'G1 to G2': {'accuracy': 1.0, 'time': 2.13, 'uv': 68},\n",
       "  'G2 to G3': {'accuracy': 1.0, 'time': 5.0, 'uv': 112},\n",
       "  'N4 to N3': {'accuracy': 1.0, 'time': 25.75, 'uv': 193},\n",
       "  'N3 to N2': {'accuracy': 1.0, 'time': 100.45, 'uv': 373},\n",
       "  'G3 to G4': {'accuracy': 1.0, 'time': 389.75, 'uv': 540},\n",
       "  'G4 to G5': {'accuracy': 1.0, 'time': 457.0, 'uv': 558},\n",
       "  'N2 to N1': {'accuracy': 1.0, 'time': 2912.16, 'uv': 934},\n",
       "  'G5 to G6': {'accuracy': 1.0, 'time': 490.8, 'uv': 599}},\n",
       " 'astar_common_neighbor': {'N5 to N4': {'accuracy': 1.0,\n",
       "   'time': 0.47,\n",
       "   'uv': 15},\n",
       "  'G1 to G2': {'accuracy': 0.97, 'time': 4.64, 'uv': 91},\n",
       "  'G2 to G3': {'accuracy': 1.0, 'time': 10.67, 'uv': 123},\n",
       "  'N4 to N3': {'accuracy': 1.0, 'time': 52.39, 'uv': 201},\n",
       "  'N3 to N2': {'accuracy': 0.99, 'time': 195.9, 'uv': 430},\n",
       "  'G3 to G4': {'accuracy': 0.99, 'time': 692.6, 'uv': 570},\n",
       "  'G4 to G5': {'accuracy': 1.0, 'time': 910.61, 'uv': 617},\n",
       "  'N2 to N1': {'accuracy': 1.0, 'time': 5275.37, 'uv': 1024},\n",
       "  'G5 to G6': {'accuracy': 1.0, 'time': 984.95, 'uv': 665}},\n",
       " 'astar_jaccard': {'N5 to N4': {'accuracy': 0.76, 'time': 0.53, 'uv': 17},\n",
       "  'G1 to G2': {'accuracy': 0.68, 'time': 5.03, 'uv': 71},\n",
       "  'G2 to G3': {'accuracy': 0.61, 'time': 11.78, 'uv': 98},\n",
       "  'N4 to N3': {'accuracy': 0.6, 'time': 59.86, 'uv': 145},\n",
       "  'N3 to N2': {'accuracy': 0.69, 'time': 215.31, 'uv': 340},\n",
       "  'G3 to G4': {'accuracy': 0.71, 'time': 732.95, 'uv': 471},\n",
       "  'G4 to G5': {'accuracy': 0.71, 'time': 985.69, 'uv': 488},\n",
       "  'N2 to N1': {'accuracy': 0.81, 'time': 5643.98, 'uv': 855},\n",
       "  'G5 to G6': {'accuracy': 0.64, 'time': 1048.41, 'uv': 436}},\n",
       " 'steiner_tree': {'N5 to N4': {'accuracy': 0.76, 'time': 0.01, 'uv': 10},\n",
       "  'G1 to G2': {'accuracy': 0.42, 'time': 0.02, 'uv': 17},\n",
       "  'G2 to G3': {'accuracy': 0.37, 'time': 0.04, 'uv': 20},\n",
       "  'N4 to N3': {'accuracy': 0.39, 'time': 0.1, 'uv': 27},\n",
       "  'N3 to N2': {'accuracy': 0.35, 'time': 0.2, 'uv': 36},\n",
       "  'G3 to G4': {'accuracy': 0.38, 'time': 0.41, 'uv': 44},\n",
       "  'G4 to G5': {'accuracy': 0.4, 'time': 0.49, 'uv': 47},\n",
       "  'N2 to N1': {'accuracy': 0.46, 'time': 1.67, 'uv': 57},\n",
       "  'G5 to G6': {'accuracy': 0.37, 'time': 0.51, 'uv': 41}}}"
      ]
     },
     "execution_count": 64,
     "metadata": {},
     "output_type": "execute_result"
    }
   ],
   "source": [
    "df_results = get_df_results(results, algo_list)\n",
    "df_results"
   ]
  },
  {
   "cell_type": "code",
   "execution_count": 65,
   "metadata": {},
   "outputs": [],
   "source": [
    "import pandas as pd\n",
    "import numpy as np"
   ]
  },
  {
   "cell_type": "code",
   "execution_count": 66,
   "metadata": {},
   "outputs": [],
   "source": [
    "df = pd.DataFrame(df_results)"
   ]
  },
  {
   "cell_type": "code",
   "execution_count": 67,
   "metadata": {},
   "outputs": [
    {
     "data": {
      "text/html": [
       "<div>\n",
       "<style scoped>\n",
       "    .dataframe tbody tr th:only-of-type {\n",
       "        vertical-align: middle;\n",
       "    }\n",
       "\n",
       "    .dataframe tbody tr th {\n",
       "        vertical-align: top;\n",
       "    }\n",
       "\n",
       "    .dataframe thead th {\n",
       "        text-align: right;\n",
       "    }\n",
       "</style>\n",
       "<table border=\"1\" class=\"dataframe\">\n",
       "  <thead>\n",
       "    <tr style=\"text-align: right;\">\n",
       "      <th></th>\n",
       "      <th>brute_force</th>\n",
       "      <th>astar_0</th>\n",
       "      <th>astar_common_neighbor</th>\n",
       "      <th>astar_jaccard</th>\n",
       "      <th>steiner_tree</th>\n",
       "    </tr>\n",
       "  </thead>\n",
       "  <tbody>\n",
       "    <tr>\n",
       "      <th>N5 to N4</th>\n",
       "      <td>{'accuracy': 1.0, 'time': 0.21, 'uv': 14}</td>\n",
       "      <td>{'accuracy': 1.0, 'time': 0.22, 'uv': 14}</td>\n",
       "      <td>{'accuracy': 1.0, 'time': 0.47, 'uv': 15}</td>\n",
       "      <td>{'accuracy': 0.76, 'time': 0.53, 'uv': 17}</td>\n",
       "      <td>{'accuracy': 0.76, 'time': 0.01, 'uv': 10}</td>\n",
       "    </tr>\n",
       "    <tr>\n",
       "      <th>G1 to G2</th>\n",
       "      <td>{'accuracy': 1.0, 'time': 1.65, 'uv': 68}</td>\n",
       "      <td>{'accuracy': 1.0, 'time': 2.13, 'uv': 68}</td>\n",
       "      <td>{'accuracy': 0.97, 'time': 4.64, 'uv': 91}</td>\n",
       "      <td>{'accuracy': 0.68, 'time': 5.03, 'uv': 71}</td>\n",
       "      <td>{'accuracy': 0.42, 'time': 0.02, 'uv': 17}</td>\n",
       "    </tr>\n",
       "    <tr>\n",
       "      <th>G2 to G3</th>\n",
       "      <td>{'accuracy': 1.0, 'time': 10.36, 'uv': 112}</td>\n",
       "      <td>{'accuracy': 1.0, 'time': 5.0, 'uv': 112}</td>\n",
       "      <td>{'accuracy': 1.0, 'time': 10.67, 'uv': 123}</td>\n",
       "      <td>{'accuracy': 0.61, 'time': 11.78, 'uv': 98}</td>\n",
       "      <td>{'accuracy': 0.37, 'time': 0.04, 'uv': 20}</td>\n",
       "    </tr>\n",
       "    <tr>\n",
       "      <th>N4 to N3</th>\n",
       "      <td>{'accuracy': 1.0, 'time': 19.24, 'uv': 193}</td>\n",
       "      <td>{'accuracy': 1.0, 'time': 25.75, 'uv': 193}</td>\n",
       "      <td>{'accuracy': 1.0, 'time': 52.39, 'uv': 201}</td>\n",
       "      <td>{'accuracy': 0.6, 'time': 59.86, 'uv': 145}</td>\n",
       "      <td>{'accuracy': 0.39, 'time': 0.1, 'uv': 27}</td>\n",
       "    </tr>\n",
       "    <tr>\n",
       "      <th>N3 to N2</th>\n",
       "      <td>{'accuracy': 1.0, 'time': 78.66, 'uv': 373}</td>\n",
       "      <td>{'accuracy': 1.0, 'time': 100.45, 'uv': 373}</td>\n",
       "      <td>{'accuracy': 0.99, 'time': 195.9, 'uv': 430}</td>\n",
       "      <td>{'accuracy': 0.69, 'time': 215.31, 'uv': 340}</td>\n",
       "      <td>{'accuracy': 0.35, 'time': 0.2, 'uv': 36}</td>\n",
       "    </tr>\n",
       "    <tr>\n",
       "      <th>G3 to G4</th>\n",
       "      <td>{'accuracy': 1.0, 'time': 301.8, 'uv': 540}</td>\n",
       "      <td>{'accuracy': 1.0, 'time': 389.75, 'uv': 540}</td>\n",
       "      <td>{'accuracy': 0.99, 'time': 692.6, 'uv': 570}</td>\n",
       "      <td>{'accuracy': 0.71, 'time': 732.95, 'uv': 471}</td>\n",
       "      <td>{'accuracy': 0.38, 'time': 0.41, 'uv': 44}</td>\n",
       "    </tr>\n",
       "    <tr>\n",
       "      <th>G4 to G5</th>\n",
       "      <td>{'accuracy': 1.0, 'time': 406.73, 'uv': 558}</td>\n",
       "      <td>{'accuracy': 1.0, 'time': 457.0, 'uv': 558}</td>\n",
       "      <td>{'accuracy': 1.0, 'time': 910.61, 'uv': 617}</td>\n",
       "      <td>{'accuracy': 0.71, 'time': 985.69, 'uv': 488}</td>\n",
       "      <td>{'accuracy': 0.4, 'time': 0.49, 'uv': 47}</td>\n",
       "    </tr>\n",
       "    <tr>\n",
       "      <th>N2 to N1</th>\n",
       "      <td>{'accuracy': 1.0, 'time': 2555.32, 'uv': 934}</td>\n",
       "      <td>{'accuracy': 1.0, 'time': 2912.16, 'uv': 934}</td>\n",
       "      <td>{'accuracy': 1.0, 'time': 5275.37, 'uv': 1024}</td>\n",
       "      <td>{'accuracy': 0.81, 'time': 5643.98, 'uv': 855}</td>\n",
       "      <td>{'accuracy': 0.46, 'time': 1.67, 'uv': 57}</td>\n",
       "    </tr>\n",
       "    <tr>\n",
       "      <th>G5 to G6</th>\n",
       "      <td>{'accuracy': 1.0, 'time': 384.97, 'uv': 599}</td>\n",
       "      <td>{'accuracy': 1.0, 'time': 490.8, 'uv': 599}</td>\n",
       "      <td>{'accuracy': 1.0, 'time': 984.95, 'uv': 665}</td>\n",
       "      <td>{'accuracy': 0.64, 'time': 1048.41, 'uv': 436}</td>\n",
       "      <td>{'accuracy': 0.37, 'time': 0.51, 'uv': 41}</td>\n",
       "    </tr>\n",
       "  </tbody>\n",
       "</table>\n",
       "</div>"
      ],
      "text/plain": [
       "                                            brute_force  \\\n",
       "N5 to N4      {'accuracy': 1.0, 'time': 0.21, 'uv': 14}   \n",
       "G1 to G2      {'accuracy': 1.0, 'time': 1.65, 'uv': 68}   \n",
       "G2 to G3    {'accuracy': 1.0, 'time': 10.36, 'uv': 112}   \n",
       "N4 to N3    {'accuracy': 1.0, 'time': 19.24, 'uv': 193}   \n",
       "N3 to N2    {'accuracy': 1.0, 'time': 78.66, 'uv': 373}   \n",
       "G3 to G4    {'accuracy': 1.0, 'time': 301.8, 'uv': 540}   \n",
       "G4 to G5   {'accuracy': 1.0, 'time': 406.73, 'uv': 558}   \n",
       "N2 to N1  {'accuracy': 1.0, 'time': 2555.32, 'uv': 934}   \n",
       "G5 to G6   {'accuracy': 1.0, 'time': 384.97, 'uv': 599}   \n",
       "\n",
       "                                                astar_0  \\\n",
       "N5 to N4      {'accuracy': 1.0, 'time': 0.22, 'uv': 14}   \n",
       "G1 to G2      {'accuracy': 1.0, 'time': 2.13, 'uv': 68}   \n",
       "G2 to G3      {'accuracy': 1.0, 'time': 5.0, 'uv': 112}   \n",
       "N4 to N3    {'accuracy': 1.0, 'time': 25.75, 'uv': 193}   \n",
       "N3 to N2   {'accuracy': 1.0, 'time': 100.45, 'uv': 373}   \n",
       "G3 to G4   {'accuracy': 1.0, 'time': 389.75, 'uv': 540}   \n",
       "G4 to G5    {'accuracy': 1.0, 'time': 457.0, 'uv': 558}   \n",
       "N2 to N1  {'accuracy': 1.0, 'time': 2912.16, 'uv': 934}   \n",
       "G5 to G6    {'accuracy': 1.0, 'time': 490.8, 'uv': 599}   \n",
       "\n",
       "                                   astar_common_neighbor  \\\n",
       "N5 to N4       {'accuracy': 1.0, 'time': 0.47, 'uv': 15}   \n",
       "G1 to G2      {'accuracy': 0.97, 'time': 4.64, 'uv': 91}   \n",
       "G2 to G3     {'accuracy': 1.0, 'time': 10.67, 'uv': 123}   \n",
       "N4 to N3     {'accuracy': 1.0, 'time': 52.39, 'uv': 201}   \n",
       "N3 to N2    {'accuracy': 0.99, 'time': 195.9, 'uv': 430}   \n",
       "G3 to G4    {'accuracy': 0.99, 'time': 692.6, 'uv': 570}   \n",
       "G4 to G5    {'accuracy': 1.0, 'time': 910.61, 'uv': 617}   \n",
       "N2 to N1  {'accuracy': 1.0, 'time': 5275.37, 'uv': 1024}   \n",
       "G5 to G6    {'accuracy': 1.0, 'time': 984.95, 'uv': 665}   \n",
       "\n",
       "                                           astar_jaccard  \\\n",
       "N5 to N4      {'accuracy': 0.76, 'time': 0.53, 'uv': 17}   \n",
       "G1 to G2      {'accuracy': 0.68, 'time': 5.03, 'uv': 71}   \n",
       "G2 to G3     {'accuracy': 0.61, 'time': 11.78, 'uv': 98}   \n",
       "N4 to N3     {'accuracy': 0.6, 'time': 59.86, 'uv': 145}   \n",
       "N3 to N2   {'accuracy': 0.69, 'time': 215.31, 'uv': 340}   \n",
       "G3 to G4   {'accuracy': 0.71, 'time': 732.95, 'uv': 471}   \n",
       "G4 to G5   {'accuracy': 0.71, 'time': 985.69, 'uv': 488}   \n",
       "N2 to N1  {'accuracy': 0.81, 'time': 5643.98, 'uv': 855}   \n",
       "G5 to G6  {'accuracy': 0.64, 'time': 1048.41, 'uv': 436}   \n",
       "\n",
       "                                        steiner_tree  \n",
       "N5 to N4  {'accuracy': 0.76, 'time': 0.01, 'uv': 10}  \n",
       "G1 to G2  {'accuracy': 0.42, 'time': 0.02, 'uv': 17}  \n",
       "G2 to G3  {'accuracy': 0.37, 'time': 0.04, 'uv': 20}  \n",
       "N4 to N3   {'accuracy': 0.39, 'time': 0.1, 'uv': 27}  \n",
       "N3 to N2   {'accuracy': 0.35, 'time': 0.2, 'uv': 36}  \n",
       "G3 to G4  {'accuracy': 0.38, 'time': 0.41, 'uv': 44}  \n",
       "G4 to G5   {'accuracy': 0.4, 'time': 0.49, 'uv': 47}  \n",
       "N2 to N1  {'accuracy': 0.46, 'time': 1.67, 'uv': 57}  \n",
       "G5 to G6  {'accuracy': 0.37, 'time': 0.51, 'uv': 41}  "
      ]
     },
     "execution_count": 67,
     "metadata": {},
     "output_type": "execute_result"
    }
   ],
   "source": [
    "df"
   ]
  }
 ],
 "metadata": {
  "interpreter": {
   "hash": "916dbcbb3f70747c44a77c7bcd40155683ae19c65e1c03b4aa3499c5328201f1"
  },
  "kernelspec": {
   "display_name": "Python 3 (ipykernel)",
   "language": "python",
   "name": "python3"
  },
  "language_info": {
   "codemirror_mode": {
    "name": "ipython",
    "version": 3
   },
   "file_extension": ".py",
   "mimetype": "text/x-python",
   "name": "python",
   "nbconvert_exporter": "python",
   "pygments_lexer": "ipython3",
   "version": "3.8.10"
  },
  "toc": {
   "base_numbering": 1,
   "nav_menu": {},
   "number_sections": true,
   "sideBar": true,
   "skip_h1_title": false,
   "title_cell": "Table of Contents",
   "title_sidebar": "Contents",
   "toc_cell": false,
   "toc_position": {
    "height": "calc(100% - 180px)",
    "left": "10px",
    "top": "150px",
    "width": "196.75px"
   },
   "toc_section_display": true,
   "toc_window_display": true
  },
  "widgets": {
   "application/vnd.jupyter.widget-state+json": {
    "state": {},
    "version_major": 2,
    "version_minor": 0
   }
  }
 },
 "nbformat": 4,
 "nbformat_minor": 2
}
