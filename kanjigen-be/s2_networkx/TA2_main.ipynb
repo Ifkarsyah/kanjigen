{
 "cells": [
  {
   "cell_type": "code",
   "execution_count": 1,
   "metadata": {},
   "outputs": [],
   "source": [
    "from pprint import pprint as pp\n",
    "from typing import Dict, List, Tuple\n",
    "\n",
    "import random\n",
    "import csv\n",
    "import time\n",
    "import datetime\n",
    "\n",
    "import networkx as nx\n",
    "\n",
    "from itertools import count\n",
    "from heapq import heappush, heappop"
   ]
  },
  {
   "cell_type": "code",
   "execution_count": 2,
   "metadata": {},
   "outputs": [
    {
     "name": "stdout",
     "output_type": "stream",
     "text": [
      "Progress:  |██████████████████████████████████████████████████| 100.0%% Completed\n"
     ]
    }
   ],
   "source": [
    "def printProgressBar (iteration, total, prefix = 'Progress: ', suffix = 'Completed', decimals = 1, length = 50, fill = '█'):\n",
    "\n",
    "    percent = (\"{0:.\" + str(decimals) + \"f}\").format(100 * (iteration / float(total)))\n",
    "    styling = f'{prefix} |{fill}| {percent}%% {suffix}'\n",
    "    filledLength = int(length * iteration // total)\n",
    "    bar = fill * filledLength + '-' * (length - filledLength)\n",
    "    print('\\r%s' % styling.replace(fill, bar), end = '\\r')\n",
    "    # Print New Line on Complete\n",
    "    if iteration == total: \n",
    "        print()\n",
    "\n",
    "# Sample Usage\n",
    "import shutil, time\n",
    "\n",
    "# A List of Items\n",
    "items = list(range(0, 57))\n",
    "l = len(items)\n",
    "\n",
    "# Initial call to print 0% progress\n",
    "printProgressBar(0, l)\n",
    "for i, item in enumerate(items):\n",
    "    # Do stuff...\n",
    "    time.sleep(0.03)\n",
    "    # Update Progress Bar\n",
    "    printProgressBar(i + 1, l)"
   ]
  },
  {
   "cell_type": "code",
   "execution_count": 3,
   "metadata": {},
   "outputs": [],
   "source": [
    "def sample_from_dict(d, sample=10):\n",
    "    keys = random.sample(list(d), sample)\n",
    "    values = [d[k] for k in keys]\n",
    "    return dict(zip(keys, values))"
   ]
  },
  {
   "cell_type": "markdown",
   "metadata": {},
   "source": [
    "# Building Knowledge Graph"
   ]
  },
  {
   "cell_type": "markdown",
   "metadata": {},
   "source": [
    "## Extract Data from CSV"
   ]
  },
  {
   "cell_type": "code",
   "execution_count": 4,
   "metadata": {},
   "outputs": [],
   "source": [
    "def get_csv_data(filepath, handle_row_func, row_limit=None):\n",
    "    data = dict()\n",
    "    with open(filepath) as file:\n",
    "        next(file)\n",
    "        rows = csv.reader(file, delimiter=\",\")\n",
    "        cnt = 0\n",
    "        for row in rows:\n",
    "            handle_row_func(data, row)\n",
    "            \n",
    "            cnt += 1\n",
    "            if row_limit != None and cnt == row_limit:\n",
    "                break\n",
    "            \n",
    "    return data"
   ]
  },
  {
   "cell_type": "code",
   "execution_count": 5,
   "metadata": {},
   "outputs": [],
   "source": [
    "def handle_csv_kanji_func(data, row):\n",
    "    kanji,*meanings = row\n",
    "    if len(meanings) >= 2:\n",
    "        meanings = \",\".join(meanings)\n",
    "    else:\n",
    "        meanings = meanings[0]\n",
    "    meanings = meanings.split(\":\")\n",
    "    meanings = meanings[0]\n",
    "    data[kanji] = meanings"
   ]
  },
  {
   "cell_type": "code",
   "execution_count": 6,
   "metadata": {
    "scrolled": true
   },
   "outputs": [
    {
     "name": "stdout",
     "output_type": "stream",
     "text": [
      "len(data_kanji) =  2000\n"
     ]
    }
   ],
   "source": [
    "data_kanji = get_csv_data(\n",
    "    \"dataset/s5_kanjis_output.csv\", \n",
    "    handle_csv_kanji_func, \n",
    "    row_limit=2000\n",
    ")\n",
    "print(\"len(data_kanji) = \", len(data_kanji))\n",
    "# pp(sample_from_dict(data_kanji))"
   ]
  },
  {
   "cell_type": "code",
   "execution_count": 7,
   "metadata": {},
   "outputs": [],
   "source": [
    "def handle_csv_radical_func(data, row):\n",
    "    radical,meaning,_ = row\n",
    "    data[radical] = meaning"
   ]
  },
  {
   "cell_type": "code",
   "execution_count": 8,
   "metadata": {},
   "outputs": [
    {
     "name": "stdout",
     "output_type": "stream",
     "text": [
      "len(data_radical) =  255\n",
      "{'亡': 'deceased',\n",
      " '元': 'beginning',\n",
      " '刂': 'sword',\n",
      " '厂': 'cliff',\n",
      " '囗': 'box',\n",
      " '戸': 'door',\n",
      " '氵': 'water',\n",
      " '犬': 'dog',\n",
      " '疒': 'sick',\n",
      " '長': 'long'}\n"
     ]
    }
   ],
   "source": [
    "data_radical = get_csv_data(\n",
    "    \"dataset/s7_nodes_radical_meaning.csv\", \n",
    "    handle_csv_radical_func\n",
    ")\n",
    "print(\"len(data_radical) = \", len(data_radical))\n",
    "pp(sample_from_dict(data_radical))"
   ]
  },
  {
   "cell_type": "code",
   "execution_count": 9,
   "metadata": {},
   "outputs": [],
   "source": [
    "def handle_csv_edges_func(data, row):\n",
    "    kanji,radical_list = row\n",
    "    if kanji in data_kanji:\n",
    "        data[kanji] = radical_list.split(':')"
   ]
  },
  {
   "cell_type": "code",
   "execution_count": 10,
   "metadata": {},
   "outputs": [
    {
     "name": "stdout",
     "output_type": "stream",
     "text": [
      "len(data_edges) =  2000\n"
     ]
    }
   ],
   "source": [
    "data_edges = get_csv_data(\"dataset/s7_edges_kanji_radical.csv\", handle_csv_edges_func)\n",
    "print(\"len(data_edges) = \", len(data_edges))\n",
    "# pp(sample_from_dict(data_edges))"
   ]
  },
  {
   "cell_type": "markdown",
   "metadata": {},
   "source": [
    "## Data Structure"
   ]
  },
  {
   "cell_type": "markdown",
   "metadata": {},
   "source": [
    "### Node Manager"
   ]
  },
  {
   "cell_type": "code",
   "execution_count": 11,
   "metadata": {},
   "outputs": [],
   "source": [
    "get_key = lambda symbol, dtype : f\"{symbol}-{dtype}\""
   ]
  },
  {
   "cell_type": "code",
   "execution_count": 12,
   "metadata": {},
   "outputs": [],
   "source": [
    "node_kanji = {\n",
    "    get_key(symbol, 'kanji'): {\n",
    "        'symbol' : symbol,\n",
    "        'meaning': meaning,\n",
    "        'visual' : f\"{symbol}\\n{meaning}\",\n",
    "        'idx'    : idx,\n",
    "        'color'  : 'red',\n",
    "    } for idx, (symbol, meaning) in enumerate(list(data_kanji.items()))}"
   ]
  },
  {
   "cell_type": "code",
   "execution_count": 13,
   "metadata": {},
   "outputs": [],
   "source": [
    "node_radical = {\n",
    "    get_key(symbol, 'radical'): {\n",
    "        'symbol' : symbol,\n",
    "        'meaning': meaning,\n",
    "        'visual' : f\"{symbol}\\n{meaning}\",\n",
    "        'idx'    : idx,\n",
    "        'color'  : 'yellow',\n",
    "    } for idx, (symbol, meaning) in enumerate(list(data_radical.items()))}"
   ]
  },
  {
   "cell_type": "code",
   "execution_count": 14,
   "metadata": {},
   "outputs": [],
   "source": [
    "full_node = {**node_radical, **node_kanji}\n",
    "# pp(sample_from_dict(full_node))"
   ]
  },
  {
   "cell_type": "markdown",
   "metadata": {},
   "source": [
    "### Edge Manager"
   ]
  },
  {
   "cell_type": "code",
   "execution_count": 15,
   "metadata": {},
   "outputs": [],
   "source": [
    "def get_graph_edge(data_edges):\n",
    "    edges = []\n",
    "    for kanji, radicals in data_edges.items():\n",
    "        for r in radicals:\n",
    "            edges.append( (f\"{kanji}-kanji\", f\"{r}-radical\") )\n",
    "    return edges"
   ]
  },
  {
   "cell_type": "code",
   "execution_count": 16,
   "metadata": {},
   "outputs": [],
   "source": [
    "full_edges = get_graph_edge(data_edges)\n",
    "# full_edges[:10]"
   ]
  },
  {
   "cell_type": "markdown",
   "metadata": {},
   "source": [
    "## Kanji Graph"
   ]
  },
  {
   "cell_type": "code",
   "execution_count": 17,
   "metadata": {},
   "outputs": [],
   "source": [
    "kjg_raw = nx.Graph()\n",
    "\n",
    "kjg_raw.add_nodes_from(full_node.items())\n",
    "kjg_raw.add_edges_from(full_edges)"
   ]
  },
  {
   "cell_type": "code",
   "execution_count": 18,
   "metadata": {},
   "outputs": [],
   "source": [
    "# PREPROCESSING: ENFORCE CONNECTED GRAPH\n",
    "# https://networkx.org/documentation/stable/reference/algorithms/isolates.html\n",
    "# EDA + Preprocessing: Removing Isolated Nodes\n",
    "\n",
    "def enforce_connected_graph(G):\n",
    "    n_conn = nx.number_connected_components(G)\n",
    "    n_iso  = nx.number_of_isolates(G)\n",
    "    print('number of connected components: ', nx.number_connected_components(G))\n",
    "    print('number of isolated: ', n_iso)\n",
    "\n",
    "    if n_iso > 1:\n",
    "        G.remove_nodes_from(list(nx.isolates(G)))\n",
    "        \n",
    "    n_conn = nx.number_connected_components(G)\n",
    "    if n_conn != 1:\n",
    "        raise ValueError(f\"Number of connected components must be 1, not {n_conn}\")\n",
    "    else:\n",
    "        print(\"Graph is already connected\")\n",
    "    return G"
   ]
  },
  {
   "cell_type": "code",
   "execution_count": 19,
   "metadata": {},
   "outputs": [
    {
     "name": "stdout",
     "output_type": "stream",
     "text": [
      "number of connected components:  37\n",
      "number of isolated:  36\n",
      "Graph is already connected\n"
     ]
    }
   ],
   "source": [
    "kjg = enforce_connected_graph(kjg_raw)"
   ]
  },
  {
   "cell_type": "code",
   "execution_count": 68,
   "metadata": {},
   "outputs": [
    {
     "name": "stdout",
     "output_type": "stream",
     "text": [
      "Graph with 2219 nodes and 8374 edges\n"
     ]
    }
   ],
   "source": [
    "print(nx.info(kjg))"
   ]
  },
  {
   "cell_type": "markdown",
   "metadata": {},
   "source": [
    "### Graph Viz Lib"
   ]
  },
  {
   "cell_type": "code",
   "execution_count": 21,
   "metadata": {},
   "outputs": [
    {
     "data": {
      "text/plain": [
       "[<Font 'Noto Serif CJK JP' (NotoSerifCJK-Regular.ttc) normal normal 400 normal>,\n",
       " <Font 'Noto Sans CJK JP' (NotoSansCJK-Bold.ttc) normal normal 700 normal>,\n",
       " <Font 'Noto Serif CJK JP' (NotoSerifCJK-Bold.ttc) normal normal 700 normal>,\n",
       " <Font 'Noto Sans CJK JP' (NotoSansCJK-Regular.ttc) normal normal 400 normal>]"
      ]
     },
     "execution_count": 21,
     "metadata": {},
     "output_type": "execute_result"
    }
   ],
   "source": [
    "import matplotlib\n",
    "import matplotlib.pyplot as plt\n",
    "\n",
    "import matplotlib.font_manager as fm\n",
    "\n",
    "# Reference: https://albertauyeung.github.io/2020/03/15/matplotlib-cjk-fonts.html\n",
    "[f for f in fm.fontManager.ttflist if 'CJK JP' in f.name]"
   ]
  },
  {
   "cell_type": "code",
   "execution_count": 85,
   "metadata": {},
   "outputs": [],
   "source": [
    "def visualize_graph(\n",
    "    Graph: nx.Graph, \n",
    "    figsize: tuple=(7,7), \n",
    "    color_map: List[str]=None, \n",
    "    node_size: int=3000, \n",
    "    label_attr: str='visual' # valid value: 'idx', 'visual' \n",
    ") -> None:\n",
    "    \n",
    "    if color_map == None:\n",
    "        color_map = [Graph.nodes[n][\"color\"] for n in Graph] \n",
    "    else:\n",
    "        color_map = color_map\n",
    "    \n",
    "    plt.figure(1,figsize=figsize)    \n",
    "    \n",
    "    labels = nx.get_node_attributes(Graph, label_attr)\n",
    "    \n",
    "    nx.draw_kamada_kawai(Graph, \n",
    "                         node_color=color_map, \n",
    "                         with_labels=True,\n",
    "                         labels=labels,\n",
    "                         node_size=node_size, \n",
    "                         font_size=20,\n",
    "                         font_family=\"Noto Serif CJK JP\")\n",
    "    plt.show()"
   ]
  },
  {
   "cell_type": "code",
   "execution_count": 93,
   "metadata": {},
   "outputs": [
    {
     "data": {
      "image/png": "[encoded data removed]",
      "text/plain": [
       "<Figure size 504x504 with 1 Axes>"
      ]
     },
     "metadata": {},
     "output_type": "display_data"
    }
   ],
   "source": [
    "visualize_graph(\n",
    "    Graph       = kjg.subgraph(random.sample(kjg.nodes, 100)),\n",
    "    node_size   = 100,\n",
    "    label_attr  = '', #:  idx or visual\n",
    ")"
   ]
  },
  {
   "cell_type": "code",
   "execution_count": 76,
   "metadata": {},
   "outputs": [
    {
     "data": {
      "image/png": "[encoded data removed]",
      "text/plain": [
       "<Figure size 288x288 with 1 Axes>"
      ]
     },
     "metadata": {},
     "output_type": "display_data"
    }
   ],
   "source": [
    "def get_sg_kanji_with(kjg) -> nx.Graph:\n",
    "    sg = nx.Graph()\n",
    "    p = '嘩-kanji'\n",
    "    radicals = [n for n in kjg.neighbors(p)]\n",
    "    sg.add_nodes_from([(p, kjg.nodes[p])] + [(r, kjg.nodes[r]) for r in radicals])\n",
    "    sg.add_edges_from([(p, rp) for rp in radicals])\n",
    "    return sg\n",
    "\n",
    "visualize_graph(\n",
    "    Graph       = get_sg_kanji_with(kjg),\n",
    "    node_size   = 2000,\n",
    "    figsize     = (4,4),\n",
    "    label_attr  = None\n",
    ")"
   ]
  },
  {
   "cell_type": "markdown",
   "metadata": {},
   "source": [
    "### Graph Function"
   ]
  },
  {
   "cell_type": "code",
   "execution_count": 25,
   "metadata": {},
   "outputs": [],
   "source": [
    "def generate_graph(G: nx.Graph, nodes: List) -> nx.Graph:\n",
    "    R = nx.Graph()\n",
    "    R.add_nodes_from([(n, G.nodes[n]) for n in nodes])\n",
    "    R.add_edges_from(nx.utils.pairwise(nodes))\n",
    "    return R"
   ]
  },
  {
   "cell_type": "code",
   "execution_count": 26,
   "metadata": {},
   "outputs": [],
   "source": [
    "def get_node_color_result(g, kinputs, koutputs):\n",
    "    color_map = []\n",
    "    for n in g:\n",
    "        if n in kinputs:\n",
    "            color_map.append(\"green\") # input\n",
    "        elif n in koutputs:\n",
    "            color_map.append(\"blue\")  # output\n",
    "        else:\n",
    "            color_map.append(g.nodes[n][\"color\"])\n",
    "    return color_map"
   ]
  },
  {
   "cell_type": "code",
   "execution_count": 94,
   "metadata": {},
   "outputs": [],
   "source": [
    "def visualize_result(g_res, kinputs, koutputs, figsize=(5,5), label_attr='visual'):\n",
    "    visualize_graph(\n",
    "        Graph=g_res, \n",
    "        color_map=get_node_color_result(g_res, kinputs, koutputs), \n",
    "        figsize=figsize,\n",
    "        label_attr=label_attr,\n",
    "    )"
   ]
  },
  {
   "cell_type": "markdown",
   "metadata": {},
   "source": [
    "## Graph Alternatives"
   ]
  },
  {
   "cell_type": "markdown",
   "metadata": {},
   "source": [
    "### Graph Internet"
   ]
  },
  {
   "cell_type": "code",
   "execution_count": 95,
   "metadata": {},
   "outputs": [],
   "source": [
    "g_ias = nx.random_internet_as_graph(300, 10)\n",
    "nx.set_node_attributes(g_ias, {n: {\"visual\": n, \"color\": \"yellow\"} for n in g_ias.nodes})\n",
    "\n",
    "# visualize_graph(\n",
    "#     Graph       = g_ias,\n",
    "#     node_size   = 500,\n",
    "#     figsize     = (4,4),\n",
    "#     with_labels = True,\n",
    "# )"
   ]
  },
  {
   "cell_type": "code",
   "execution_count": 97,
   "metadata": {},
   "outputs": [],
   "source": [
    "# kin = 49  # say\n",
    "# kout = 41 # lie \n",
    "\n",
    "# result_shortest_path = nx.shortest_path(G=g_ias, source=kin, target=kout)\n",
    "# result = generate_graph(g_ias, result_shortest_path)\n",
    "\n",
    "# visualize_result(\n",
    "#     g_res=result, \n",
    "#     kinputs=[kin],\n",
    "#     koutputs=[kout]\n",
    "# )"
   ]
  },
  {
   "cell_type": "markdown",
   "metadata": {},
   "source": [
    "## Graph List"
   ]
  },
  {
   "cell_type": "code",
   "execution_count": 98,
   "metadata": {},
   "outputs": [
    {
     "name": "stdout",
     "output_type": "stream",
     "text": [
      "number of connected components:  1\n",
      "number of isolated:  0\n",
      "Graph is already connected\n"
     ]
    }
   ],
   "source": [
    "subgraph_edges = [(e[0][0], [1][0]) for e in random.sample(full_edges, 2000)]\n",
    "sample_graph   = nx.Graph(subgraph_edges)\n",
    "sample_graph   = enforce_connected_graph(sample_graph)"
   ]
  },
  {
   "cell_type": "code",
   "execution_count": 99,
   "metadata": {},
   "outputs": [
    {
     "name": "stdout",
     "output_type": "stream",
     "text": [
      "number of isolated clean:  0\n",
      "number of connected clean:  1\n"
     ]
    }
   ],
   "source": [
    "gg = {\n",
    "        'kjg': kjg, \n",
    "        'ias': g_ias\n",
    "     }\n",
    "\n",
    "print('number of isolated clean: ', nx.number_of_isolates(gg['kjg']))\n",
    "print('number of connected clean: ', nx.number_connected_components(gg['kjg']))"
   ]
  },
  {
   "cell_type": "markdown",
   "metadata": {},
   "source": [
    "# Querying Knowledge Graph"
   ]
  },
  {
   "cell_type": "markdown",
   "metadata": {},
   "source": [
    "## Data Structure"
   ]
  },
  {
   "cell_type": "code",
   "execution_count": 102,
   "metadata": {},
   "outputs": [
    {
     "data": {
      "image/png": "[encoded data removed]",
      "text/plain": [
       "<Figure size 360x360 with 1 Axes>"
      ]
     },
     "metadata": {},
     "output_type": "display_data"
    }
   ],
   "source": [
    "kin = '貴-kanji'  # precious\n",
    "kout = '業-kanji' # business \n",
    "\n",
    "result_sp = nx.shortest_path(G=kjg, source=kin, target=kout)\n",
    "result = generate_graph(kjg, result_sp)\n",
    "\n",
    "visualize_result(\n",
    "    g_res=result, \n",
    "    kinputs=[kin],\n",
    "    koutputs=[kout],\n",
    "    label_attr='visual'\n",
    ")"
   ]
  },
  {
   "cell_type": "markdown",
   "metadata": {},
   "source": [
    "## Algorithm"
   ]
  },
  {
   "cell_type": "markdown",
   "metadata": {},
   "source": [
    "### Brute Force Algorithm"
   ]
  },
  {
   "cell_type": "code",
   "execution_count": 103,
   "metadata": {},
   "outputs": [],
   "source": [
    "def find_path_bf(G: nx.Graph, MOrig: List, MDest: List) -> nx.Graph:\n",
    "    \n",
    "    result = []\n",
    "    \n",
    "    for kin in MOrig: # O(|MOrig|)\n",
    "        for kout in MDest: # O(|MDest|)\n",
    "            sp_raw = nx.dijkstra_path(G, source=kin, target=kout)\n",
    "            # O( (|GV|+|GE|) log |GV|)\n",
    "            \n",
    "            sp_graph = generate_graph(G, sp_raw)\n",
    "            \n",
    "            result.append(sp_graph)\n",
    "    \n",
    "    \n",
    "    return nx.compose_all(result)        "
   ]
  },
  {
   "cell_type": "code",
   "execution_count": 106,
   "metadata": {},
   "outputs": [],
   "source": [
    "MOrig = ['逢-kanji','嘩-kanji']\n",
    "MDest = ['颶-kanji','鴪-kanji','賠-kanji','蛤-kanji']"
   ]
  },
  {
   "cell_type": "code",
   "execution_count": 107,
   "metadata": {},
   "outputs": [
    {
     "ename": "NetworkXNoPath",
     "evalue": "No path to 颶-kanji.",
     "output_type": "error",
     "traceback": [
      "\u001b[0;31m---------------------------------------------------------------------------\u001b[0m",
      "\u001b[0;31mKeyError\u001b[0m                                  Traceback (most recent call last)",
      "\u001b[0;32m~/Documents/ITB/kanjigen/kanjigen-be/venv/lib/python3.8/site-packages/networkx/algorithms/shortest_paths/weighted.py\u001b[0m in \u001b[0;36mmulti_source_dijkstra\u001b[0;34m(G, sources, target, cutoff, weight)\u001b[0m\n\u001b[1;32m    735\u001b[0m     \u001b[0;32mtry\u001b[0m\u001b[0;34m:\u001b[0m\u001b[0;34m\u001b[0m\u001b[0;34m\u001b[0m\u001b[0m\n\u001b[0;32m--> 736\u001b[0;31m         \u001b[0;32mreturn\u001b[0m \u001b[0;34m(\u001b[0m\u001b[0mdist\u001b[0m\u001b[0;34m[\u001b[0m\u001b[0mtarget\u001b[0m\u001b[0;34m]\u001b[0m\u001b[0;34m,\u001b[0m \u001b[0mpaths\u001b[0m\u001b[0;34m[\u001b[0m\u001b[0mtarget\u001b[0m\u001b[0;34m]\u001b[0m\u001b[0;34m)\u001b[0m\u001b[0;34m\u001b[0m\u001b[0;34m\u001b[0m\u001b[0m\n\u001b[0m\u001b[1;32m    737\u001b[0m     \u001b[0;32mexcept\u001b[0m \u001b[0mKeyError\u001b[0m \u001b[0;32mas\u001b[0m \u001b[0me\u001b[0m\u001b[0;34m:\u001b[0m\u001b[0;34m\u001b[0m\u001b[0;34m\u001b[0m\u001b[0m\n",
      "\u001b[0;31mKeyError\u001b[0m: '颶-kanji'",
      "\nThe above exception was the direct cause of the following exception:\n",
      "\u001b[0;31mNetworkXNoPath\u001b[0m                            Traceback (most recent call last)",
      "\u001b[0;32m/tmp/ipykernel_13340/1027353609.py\u001b[0m in \u001b[0;36m<module>\u001b[0;34m\u001b[0m\n\u001b[0;32m----> 1\u001b[0;31m \u001b[0mresult\u001b[0m \u001b[0;34m=\u001b[0m \u001b[0mfind_path_bf\u001b[0m\u001b[0;34m(\u001b[0m\u001b[0mgg\u001b[0m\u001b[0;34m[\u001b[0m\u001b[0;34m'kjg'\u001b[0m\u001b[0;34m]\u001b[0m\u001b[0;34m,\u001b[0m \u001b[0mMOrig\u001b[0m\u001b[0;34m,\u001b[0m \u001b[0mMDest\u001b[0m\u001b[0;34m)\u001b[0m\u001b[0;34m\u001b[0m\u001b[0;34m\u001b[0m\u001b[0m\n\u001b[0m\u001b[1;32m      2\u001b[0m visualize_result(\n\u001b[1;32m      3\u001b[0m     \u001b[0mg_res\u001b[0m\u001b[0;34m=\u001b[0m\u001b[0mresult\u001b[0m\u001b[0;34m,\u001b[0m\u001b[0;34m\u001b[0m\u001b[0;34m\u001b[0m\u001b[0m\n\u001b[1;32m      4\u001b[0m     \u001b[0mkinputs\u001b[0m\u001b[0;34m=\u001b[0m\u001b[0mMOrig\u001b[0m\u001b[0;34m,\u001b[0m\u001b[0;34m\u001b[0m\u001b[0;34m\u001b[0m\u001b[0m\n\u001b[1;32m      5\u001b[0m     \u001b[0mkoutputs\u001b[0m\u001b[0;34m=\u001b[0m\u001b[0mMDest\u001b[0m\u001b[0;34m,\u001b[0m\u001b[0;34m\u001b[0m\u001b[0;34m\u001b[0m\u001b[0m\n",
      "\u001b[0;32m/tmp/ipykernel_13340/2287012687.py\u001b[0m in \u001b[0;36mfind_path_bf\u001b[0;34m(G, MOrig, MDest)\u001b[0m\n\u001b[1;32m      5\u001b[0m     \u001b[0;32mfor\u001b[0m \u001b[0mkin\u001b[0m \u001b[0;32min\u001b[0m \u001b[0mMOrig\u001b[0m\u001b[0;34m:\u001b[0m \u001b[0;31m# O(|MOrig|)\u001b[0m\u001b[0;34m\u001b[0m\u001b[0;34m\u001b[0m\u001b[0m\n\u001b[1;32m      6\u001b[0m         \u001b[0;32mfor\u001b[0m \u001b[0mkout\u001b[0m \u001b[0;32min\u001b[0m \u001b[0mMDest\u001b[0m\u001b[0;34m:\u001b[0m \u001b[0;31m# O(|MDest|)\u001b[0m\u001b[0;34m\u001b[0m\u001b[0;34m\u001b[0m\u001b[0m\n\u001b[0;32m----> 7\u001b[0;31m             \u001b[0msp_raw\u001b[0m \u001b[0;34m=\u001b[0m \u001b[0mnx\u001b[0m\u001b[0;34m.\u001b[0m\u001b[0mdijkstra_path\u001b[0m\u001b[0;34m(\u001b[0m\u001b[0mG\u001b[0m\u001b[0;34m,\u001b[0m \u001b[0msource\u001b[0m\u001b[0;34m=\u001b[0m\u001b[0mkin\u001b[0m\u001b[0;34m,\u001b[0m \u001b[0mtarget\u001b[0m\u001b[0;34m=\u001b[0m\u001b[0mkout\u001b[0m\u001b[0;34m)\u001b[0m\u001b[0;34m\u001b[0m\u001b[0;34m\u001b[0m\u001b[0m\n\u001b[0m\u001b[1;32m      8\u001b[0m             \u001b[0;31m# O( (|GV|+|GE|) log |GV|)\u001b[0m\u001b[0;34m\u001b[0m\u001b[0;34m\u001b[0m\u001b[0;34m\u001b[0m\u001b[0m\n\u001b[1;32m      9\u001b[0m \u001b[0;34m\u001b[0m\u001b[0m\n",
      "\u001b[0;32m~/Documents/ITB/kanjigen/kanjigen-be/venv/lib/python3.8/site-packages/networkx/algorithms/shortest_paths/weighted.py\u001b[0m in \u001b[0;36mdijkstra_path\u001b[0;34m(G, source, target, weight)\u001b[0m\n\u001b[1;32m    155\u001b[0m     \u001b[0msingle_source_dijkstra\u001b[0m\u001b[0;34m\u001b[0m\u001b[0;34m\u001b[0m\u001b[0m\n\u001b[1;32m    156\u001b[0m     \"\"\"\n\u001b[0;32m--> 157\u001b[0;31m     \u001b[0;34m(\u001b[0m\u001b[0mlength\u001b[0m\u001b[0;34m,\u001b[0m \u001b[0mpath\u001b[0m\u001b[0;34m)\u001b[0m \u001b[0;34m=\u001b[0m \u001b[0msingle_source_dijkstra\u001b[0m\u001b[0;34m(\u001b[0m\u001b[0mG\u001b[0m\u001b[0;34m,\u001b[0m \u001b[0msource\u001b[0m\u001b[0;34m,\u001b[0m \u001b[0mtarget\u001b[0m\u001b[0;34m=\u001b[0m\u001b[0mtarget\u001b[0m\u001b[0;34m,\u001b[0m \u001b[0mweight\u001b[0m\u001b[0;34m=\u001b[0m\u001b[0mweight\u001b[0m\u001b[0;34m)\u001b[0m\u001b[0;34m\u001b[0m\u001b[0;34m\u001b[0m\u001b[0m\n\u001b[0m\u001b[1;32m    158\u001b[0m     \u001b[0;32mreturn\u001b[0m \u001b[0mpath\u001b[0m\u001b[0;34m\u001b[0m\u001b[0;34m\u001b[0m\u001b[0m\n\u001b[1;32m    159\u001b[0m \u001b[0;34m\u001b[0m\u001b[0m\n",
      "\u001b[0;32m~/Documents/ITB/kanjigen/kanjigen-be/venv/lib/python3.8/site-packages/networkx/algorithms/shortest_paths/weighted.py\u001b[0m in \u001b[0;36msingle_source_dijkstra\u001b[0;34m(G, source, target, cutoff, weight)\u001b[0m\n\u001b[1;32m    467\u001b[0m     \u001b[0msingle_source_bellman_ford\u001b[0m\u001b[0;34m\u001b[0m\u001b[0;34m\u001b[0m\u001b[0m\n\u001b[1;32m    468\u001b[0m     \"\"\"\n\u001b[0;32m--> 469\u001b[0;31m     return multi_source_dijkstra(\n\u001b[0m\u001b[1;32m    470\u001b[0m         \u001b[0mG\u001b[0m\u001b[0;34m,\u001b[0m \u001b[0;34m{\u001b[0m\u001b[0msource\u001b[0m\u001b[0;34m}\u001b[0m\u001b[0;34m,\u001b[0m \u001b[0mcutoff\u001b[0m\u001b[0;34m=\u001b[0m\u001b[0mcutoff\u001b[0m\u001b[0;34m,\u001b[0m \u001b[0mtarget\u001b[0m\u001b[0;34m=\u001b[0m\u001b[0mtarget\u001b[0m\u001b[0;34m,\u001b[0m \u001b[0mweight\u001b[0m\u001b[0;34m=\u001b[0m\u001b[0mweight\u001b[0m\u001b[0;34m\u001b[0m\u001b[0;34m\u001b[0m\u001b[0m\n\u001b[1;32m    471\u001b[0m     )\n",
      "\u001b[0;32m~/Documents/ITB/kanjigen/kanjigen-be/venv/lib/python3.8/site-packages/networkx/algorithms/shortest_paths/weighted.py\u001b[0m in \u001b[0;36mmulti_source_dijkstra\u001b[0;34m(G, sources, target, cutoff, weight)\u001b[0m\n\u001b[1;32m    736\u001b[0m         \u001b[0;32mreturn\u001b[0m \u001b[0;34m(\u001b[0m\u001b[0mdist\u001b[0m\u001b[0;34m[\u001b[0m\u001b[0mtarget\u001b[0m\u001b[0;34m]\u001b[0m\u001b[0;34m,\u001b[0m \u001b[0mpaths\u001b[0m\u001b[0;34m[\u001b[0m\u001b[0mtarget\u001b[0m\u001b[0;34m]\u001b[0m\u001b[0;34m)\u001b[0m\u001b[0;34m\u001b[0m\u001b[0;34m\u001b[0m\u001b[0m\n\u001b[1;32m    737\u001b[0m     \u001b[0;32mexcept\u001b[0m \u001b[0mKeyError\u001b[0m \u001b[0;32mas\u001b[0m \u001b[0me\u001b[0m\u001b[0;34m:\u001b[0m\u001b[0;34m\u001b[0m\u001b[0;34m\u001b[0m\u001b[0m\n\u001b[0;32m--> 738\u001b[0;31m         \u001b[0;32mraise\u001b[0m \u001b[0mnx\u001b[0m\u001b[0;34m.\u001b[0m\u001b[0mNetworkXNoPath\u001b[0m\u001b[0;34m(\u001b[0m\u001b[0;34mf\"No path to {target}.\"\u001b[0m\u001b[0;34m)\u001b[0m \u001b[0;32mfrom\u001b[0m \u001b[0me\u001b[0m\u001b[0;34m\u001b[0m\u001b[0;34m\u001b[0m\u001b[0m\n\u001b[0m\u001b[1;32m    739\u001b[0m \u001b[0;34m\u001b[0m\u001b[0m\n\u001b[1;32m    740\u001b[0m \u001b[0;34m\u001b[0m\u001b[0m\n",
      "\u001b[0;31mNetworkXNoPath\u001b[0m: No path to 颶-kanji."
     ]
    }
   ],
   "source": [
    "result = find_path_bf(gg['kjg'], MOrig, MDest)\n",
    "visualize_result(\n",
    "    g_res=result, \n",
    "    kinputs=MOrig,\n",
    "    koutputs=MDest,\n",
    "    figsize=(8,8)\n",
    ")"
   ]
  },
  {
   "cell_type": "markdown",
   "metadata": {},
   "source": [
    "### Astar Algorithm"
   ]
  },
  {
   "cell_type": "markdown",
   "metadata": {},
   "source": [
    "#### Heuristic"
   ]
  },
  {
   "cell_type": "code",
   "execution_count": 36,
   "metadata": {},
   "outputs": [],
   "source": [
    "g_curr = gg['kjg']"
   ]
  },
  {
   "cell_type": "code",
   "execution_count": 37,
   "metadata": {},
   "outputs": [],
   "source": [
    "def common_neighbor_helper(g_curr, u,v):\n",
    "    nu = g_curr[u].keys() # O(1)\n",
    "    nv = g_curr[v].keys() # O(1)\n",
    "    return len(nu & nv) # O(min(|nu|,|nv|))"
   ]
  },
  {
   "cell_type": "code",
   "execution_count": 38,
   "metadata": {},
   "outputs": [],
   "source": [
    "def common_neighbor(u, v):\n",
    "    return common_neighbor_helper(g_curr,u,v)"
   ]
  },
  {
   "cell_type": "code",
   "execution_count": 39,
   "metadata": {},
   "outputs": [],
   "source": [
    "def jaccard_similarity(u, v):\n",
    "    G = g_curr\n",
    "    union_size = len(set(G[u]) | set(G[v])) # union neighbor\n",
    "    if union_size == 0:\n",
    "        return 0\n",
    "    return common_neighbor_helper(G,u,v) / union_size"
   ]
  },
  {
   "cell_type": "markdown",
   "metadata": {},
   "source": [
    "#### Main A* "
   ]
  },
  {
   "cell_type": "code",
   "execution_count": 40,
   "metadata": {},
   "outputs": [],
   "source": [
    "def find_path_astar(G: nx.Graph, MOrig: List, MDest: List, heuristic_func) -> nx.Graph:\n",
    "    \n",
    "    result = []\n",
    "    \n",
    "    for kin in MOrig: # O(|MOrig|)\n",
    "        for kout in MDest: # (|MDest|)\n",
    "            sp_raw = nx.astar_path(G, source=kin, target=kout, heuristic=heuristic_func)\n",
    "            # O( (|GV|+|GE|) log |GV|)\n",
    "            \n",
    "            sp_graph = generate_graph(G, sp_raw)\n",
    "            \n",
    "            result.append(sp_graph)\n",
    "    \n",
    "    \n",
    "    return nx.compose_all(result)        "
   ]
  },
  {
   "cell_type": "code",
   "execution_count": 41,
   "metadata": {},
   "outputs": [],
   "source": [
    "# result = find_path_astar(gg['ias'], MOrig, MDest, jaccard_function)\n",
    "# visualize_result(\n",
    "#     g_res=result, \n",
    "#     kinputs=MOrig,\n",
    "#     koutputs=MDest,\n",
    "#     figsize=(8,8)\n",
    "# )"
   ]
  },
  {
   "cell_type": "markdown",
   "metadata": {},
   "source": [
    "### Steiner Tree"
   ]
  },
  {
   "cell_type": "code",
   "execution_count": 42,
   "metadata": {},
   "outputs": [],
   "source": [
    "def _dijkstra_multisource(\n",
    "    G, sources, weight, pred=None, paths=None, cutoff=None, target=None\n",
    "):\n",
    "    G_succ = G._succ if G.is_directed() else G._adj\n",
    "\n",
    "    push = heappush\n",
    "    pop = heappop\n",
    "    dist = {}  # dictionary of final distances\n",
    "    seen = {}\n",
    "    # fringe is heapq with 3-tuples (distance,c,node)\n",
    "    # use the count c to avoid comparing nodes (may not be able to)\n",
    "    c = count()\n",
    "    fringe = []\n",
    "    for source in sources:\n",
    "        if source not in G:\n",
    "            raise nx.NodeNotFound(f\"Source {source} not in G\")\n",
    "        seen[source] = 0\n",
    "        push(fringe, (0, next(c), source))\n",
    "    while fringe:\n",
    "        (d, _, v) = pop(fringe)\n",
    "        if v in dist:\n",
    "            continue  # already searched this node.\n",
    "        dist[v] = d\n",
    "        if v == target:\n",
    "            break\n",
    "        for u, e in G_succ[v].items():\n",
    "            cost = weight(v, u, e)\n",
    "            if cost is None:\n",
    "                continue\n",
    "            vu_dist = dist[v] + cost\n",
    "            if cutoff is not None:\n",
    "                if vu_dist > cutoff:\n",
    "                    continue\n",
    "            if u in dist:\n",
    "                u_dist = dist[u]\n",
    "                if vu_dist < u_dist:\n",
    "                    raise ValueError(\"Contradictory paths found:\", \"negative weights?\")\n",
    "                elif pred is not None and vu_dist == u_dist:\n",
    "                    pred[u].append(v)\n",
    "            elif u not in seen or vu_dist < seen[u]:\n",
    "                seen[u] = vu_dist\n",
    "                push(fringe, (vu_dist, next(c), u))\n",
    "                if paths is not None:\n",
    "                    paths[u] = paths[v] + [u]\n",
    "                if pred is not None:\n",
    "                    pred[u] = [v]\n",
    "            elif vu_dist == seen[u]:\n",
    "                if pred is not None:\n",
    "                    pred[u].append(v)\n",
    "\n",
    "    # The optional predecessor and path dictionaries can be accessed\n",
    "    # by the caller via the pred and paths objects passed as arguments.\n",
    "    return dist"
   ]
  },
  {
   "cell_type": "code",
   "execution_count": 43,
   "metadata": {},
   "outputs": [],
   "source": [
    "def multi_source_dijkstra(G, sources, target=None, cutoff=None, weight=\"weight\"):\n",
    "    if target in sources:\n",
    "        return (0, [target])\n",
    "    weight = lambda u, v, data: data.get(weight, 1)\n",
    "    paths = {source: [source] for source in sources}  # dictionary of paths\n",
    "    dist = _dijkstra_multisource(G, sources, weight, paths=paths)\n",
    "    if target is None:\n",
    "        return (dist, paths)\n",
    "    try:\n",
    "        return (dist[target], paths[target])\n",
    "    except KeyError as e:\n",
    "        raise nx.NetworkXNoPath(f\"No path to {target}.\") from e"
   ]
  },
  {
   "cell_type": "code",
   "execution_count": 44,
   "metadata": {},
   "outputs": [],
   "source": [
    "def my_all_pairs_dijkstra(G):\n",
    "    i = 0\n",
    "    for n in G:\n",
    "        i += 1\n",
    "        print('\\r%s' % i, end = '\\r')\n",
    "        dist, path = multi_source_dijkstra(G, {n})\n",
    "        yield (n, (dist, path))"
   ]
  },
  {
   "cell_type": "code",
   "execution_count": 45,
   "metadata": {},
   "outputs": [],
   "source": [
    "def metric_closure(G, weight=\"weight\"):\n",
    "    M = nx.Graph()\n",
    "\n",
    "    Gnodes = set(G)\n",
    "\n",
    "    all_paths_iter = my_all_pairs_dijkstra(G)\n",
    "    for u, (distance, path) in all_paths_iter:\n",
    "        Gnodes.remove(u)\n",
    "        for v in Gnodes:\n",
    "            M.add_edge(u, v, distance=distance[v], path=path[v])\n",
    "\n",
    "    return M"
   ]
  },
  {
   "cell_type": "code",
   "execution_count": 46,
   "metadata": {},
   "outputs": [
    {
     "name": "stdout",
     "output_type": "stream",
     "text": [
      "2219\r"
     ]
    }
   ],
   "source": [
    "mcg = metric_closure(g_curr, weight='weight')"
   ]
  },
  {
   "cell_type": "code",
   "execution_count": 47,
   "metadata": {},
   "outputs": [],
   "source": [
    "from itertools import chain\n",
    "from networkx.utils import pairwise\n",
    "\n",
    "\n",
    "def my_steiner_tree(G, terminal_nodes, weight=\"weight\", is_mcg=True):\n",
    "    global mcg\n",
    "    \n",
    "    # H is the subgraph induced by terminal_nodes in the metric closure M of G. \n",
    "    if is_mcg:\n",
    "        M = mcg\n",
    "    else:\n",
    "        M = metric_closure(G, weight=weight) # O(|GV|^2)\n",
    "    H = M.subgraph(terminal_nodes) # O(|GV|^2) * O(|MOrig| + |MDest|)\n",
    "    \n",
    "    # Use the 'distance' attribute of each edge provided by M.\n",
    "    mst_edges = nx.minimum_spanning_edges(H, weight=\"distance\", data=True) # O (|GE| log GV)\n",
    "    \n",
    "    \n",
    "    # Create an iterator over each edge in each shortest path; repeats are okay\n",
    "    edges = chain.from_iterable(pairwise(d[\"path\"]) for u, v, d in mst_edges)\n",
    "    \n",
    "\n",
    "    T = G.edge_subgraph(edges)\n",
    "    \n",
    "    return T"
   ]
  },
  {
   "cell_type": "code",
   "execution_count": 48,
   "metadata": {},
   "outputs": [],
   "source": [
    "def find_path_steiner(G: nx.Graph, MOrig: List, MDest: List) -> nx.Graph:\n",
    "    \n",
    "    return my_steiner_tree(G, MOrig + MDest, is_mcg=True)"
   ]
  },
  {
   "cell_type": "code",
   "execution_count": 49,
   "metadata": {},
   "outputs": [],
   "source": [
    "# result = find_path_steiner(gg['ias'], MOrig, MDest)\n",
    "# visualize_result(\n",
    "#     g_res=result, \n",
    "#     kinputs=MOrig,\n",
    "#     koutputs=MDest,\n",
    "#     figsize=(8,8)\n",
    "# )"
   ]
  },
  {
   "cell_type": "markdown",
   "metadata": {},
   "source": [
    "# Experiment"
   ]
  },
  {
   "cell_type": "markdown",
   "metadata": {},
   "source": [
    "## Test Case"
   ]
  },
  {
   "cell_type": "code",
   "execution_count": 50,
   "metadata": {},
   "outputs": [],
   "source": [
    "from kanji_lists import JLPT, KYOIKU\n",
    "# https://github.com/ffe4/kanji-lists"
   ]
  },
  {
   "cell_type": "code",
   "execution_count": 51,
   "metadata": {},
   "outputs": [],
   "source": [
    "test_cases_raw = {\n",
    "    'N5 to N4': {\n",
    "        'MOrig': list(JLPT.N5)[:3],\n",
    "        'MDest': list(JLPT.N4)[:7],\n",
    "    },\n",
    "    'G1 to G2': {\n",
    "        'MOrig': list(KYOIKU.GRADE1)[:13],\n",
    "        'MDest': list(KYOIKU.GRADE2)[:17],\n",
    "    },\n",
    "    'G2 to G3': {\n",
    "        'MOrig': list(KYOIKU.GRADE2)[:20],\n",
    "        'MDest': list(KYOIKU.GRADE3)[:30],\n",
    "    },\n",
    "#     'N4 to N3': {\n",
    "#         'MOrig': list(JLPT.N4)[:30],\n",
    "#         'MDest': list(JLPT.N3)[:70],\n",
    "#     },\n",
    "#     'N3 to N2': {\n",
    "#         'MOrig': list(JLPT.N3)[:60],\n",
    "#         'MDest': list(JLPT.N2)[:140],\n",
    "#     },\n",
    "#     'G3 to G4': {\n",
    "#         'MOrig': list(KYOIKU.GRADE3)[:160],\n",
    "#         'MDest': list(KYOIKU.GRADE4)[:240],\n",
    "#     },\n",
    "#     'G4 to G5': {\n",
    "#         'MOrig': list(KYOIKU.GRADE4)[:240],\n",
    "#         'MDest': list(KYOIKU.GRADE5)[:360],\n",
    "#     },\n",
    "#     'N2 to N1': {\n",
    "#         'MOrig': list(JLPT.N2)[:400],\n",
    "#         'MDest': list(JLPT.N1)[:600],\n",
    "#     },\n",
    "#     'G5 to G6': {\n",
    "#         'MOrig': list(KYOIKU.GRADE5)[:500],\n",
    "#         'MDest': list(KYOIKU.GRADE6)[:700],\n",
    "#     },\n",
    "    \n",
    "    # gg['ias']\n",
    "#     'tc_ias_1': {\n",
    "#         'MOrig': [1,2,3],\n",
    "#         'MDest': [91,92,93]\n",
    "#     },\n",
    "#     'tc_ias_2': {\n",
    "#         'MOrig': [i*11 for i in range(33)],\n",
    "#         'MDest': [i*10 for i in range(66)]\n",
    "#     },\n",
    "#     'tc_ias_3': {\n",
    "#         'MOrig': [i*12 for i in range(100) if i*12 < 3000],\n",
    "#         'MDest': [i*13 for i in range(200) if i*13 < 3000]\n",
    "#     },\n",
    "#     'tc_ias_4': {\n",
    "#         'MOrig': [i*13 for i in range(200) if i*13 < 3000],\n",
    "#         'MDest': [i*14 for i in range(300) if i*14 < 3000]\n",
    "#     },\n",
    "#     'tc_ias_5': {\n",
    "#         'MOrig': [i*5 for i in range(400) if i*5 < 3000],\n",
    "#         'MDest': [i*7 for i in range(500) if i*7 < 3000]\n",
    "#     },\n",
    "#     'tc_ias_6': {\n",
    "#         'MOrig': [i*7 for i in range(600) if i*7 < 3000],\n",
    "#         'MDest': [i*3 for i in range(700) if i*3 < 3000]\n",
    "#     },\n",
    "}\n",
    "# test_cases_raw"
   ]
  },
  {
   "cell_type": "code",
   "execution_count": 52,
   "metadata": {},
   "outputs": [],
   "source": [
    "def tc_filter_in_graph(G, kanji_list):\n",
    "    \n",
    "    tc_filtered = []\n",
    "    for k in kanji_list:\n",
    "\n",
    "        tk = get_key(k, 'kanji')\n",
    "        \n",
    "        if tk in G:\n",
    "            tc_filtered.append(tk)\n",
    "            continue\n",
    "        \n",
    "        tr = get_key(k, 'radical')\n",
    "        if tr in G:\n",
    "            tc_filtered.append(tr)\n",
    "            continue\n",
    "            \n",
    "    return tc_filtered"
   ]
  },
  {
   "cell_type": "code",
   "execution_count": 53,
   "metadata": {},
   "outputs": [],
   "source": [
    "def filter_test_cases_raw(G, test_cases_raw):\n",
    "    test_cases_clean = {}\n",
    "    for tc_name, tc in test_cases_raw.items():\n",
    "\n",
    "        MOrig = tc_filter_in_graph(G, tc['MOrig'])\n",
    "        MDest = tc_filter_in_graph(G, tc['MDest'])\n",
    "\n",
    "        test_cases_clean[tc_name] = {\n",
    "            'MOrig': MOrig,\n",
    "            'MDest': MDest,\n",
    "        }\n",
    "\n",
    "    return test_cases_clean"
   ]
  },
  {
   "cell_type": "code",
   "execution_count": 54,
   "metadata": {},
   "outputs": [],
   "source": [
    "test_cases_clean = filter_test_cases_raw(g_curr, test_cases_raw)\n",
    "# test_cases_clean = test_cases_raw # uncoment for ias"
   ]
  },
  {
   "cell_type": "code",
   "execution_count": 55,
   "metadata": {},
   "outputs": [],
   "source": [
    "def find_path(G: nx.Graph, MOrig: List, MDest: List, method='brute_force') -> nx.Graph:\n",
    "    if method == 'brute_force':\n",
    "        return find_path_bf(G, MOrig, MDest)\n",
    "    elif method == 'steiner_tree':\n",
    "        return find_path_steiner(G, MOrig, MDest)\n",
    "    elif method == 'astar_common_neighbor':\n",
    "        return find_path_astar(G, MOrig, MDest, common_neighbor)\n",
    "    elif method == 'astar_jaccard':\n",
    "        return find_path_astar(G, MOrig, MDest, jaccard_similarity)\n",
    "    elif method == 'astar_0':\n",
    "        return find_path_astar(G, MOrig, MDest, lambda x, y: 0)\n",
    "    else:\n",
    "        raise ValueError(f\"method {method} is not valid\")"
   ]
  },
  {
   "cell_type": "markdown",
   "metadata": {},
   "source": [
    "## Testing"
   ]
  },
  {
   "cell_type": "code",
   "execution_count": 56,
   "metadata": {},
   "outputs": [],
   "source": [
    "def get_result_accuracy(G0, Gt):\n",
    "    common_nodes = len(G0.nodes() & Gt.nodes())\n",
    "    G0_nodes     = len(G0.nodes())\n",
    "    \n",
    "    return common_nodes / G0_nodes"
   ]
  },
  {
   "cell_type": "code",
   "execution_count": 57,
   "metadata": {},
   "outputs": [],
   "source": [
    "def get_results_kanjigen(G: nx.Graph, test_cases_clean: dict, algo_list: List):\n",
    "    results = {tc_name: dict() for tc_name in test_cases_clean}\n",
    "\n",
    "    for tc_name, tc in test_cases_clean.items():\n",
    "        \n",
    "        \n",
    "        MOrig = tc['MOrig']\n",
    "        MDest = tc['MDest']\n",
    "        \n",
    "        if len(MOrig) == 0 or len(MDest) == 0:\n",
    "            continue\n",
    "        \n",
    "        print(f\"\"\"\n",
    "        ################\n",
    "        len(MOrig) == {len(MOrig)}\n",
    "        len(MDest) == {len(MDest)}\n",
    "        ################\n",
    "        \"\"\")\n",
    "        \n",
    "        # get time\n",
    "        for algo in algo_list:\n",
    "            \n",
    "            print(f\"algo: {algo}\")\n",
    "            print(f\"tc: {tc_name} of {len(test_cases_clean)}\")\n",
    "            start  = time.time()\n",
    "            graph  = find_path(G, MOrig, MDest, algo)\n",
    "            end    = time.time()\n",
    "            print(f\"finish at {datetime.datetime.now()} after {end - start} seconds\")\n",
    "            print(\"==============\")\n",
    "            \n",
    "            results[tc_name][algo] = {'graph': graph, 'time': (end - start)}\n",
    "        \n",
    "        # get accuracy\n",
    "        \n",
    "        G0 = results[tc_name]['brute_force']['graph']\n",
    "        results[tc_name]['brute_force']['accuracy'] = 1.0\n",
    "        for algo in [algo for algo in algo_list if algo != 'brute_force']:\n",
    "            \n",
    "            Gt = results[tc_name][algo]['graph']\n",
    "            \n",
    "            results[tc_name][algo][\"accuracy\"] = get_result_accuracy(G0, Gt)\n",
    "        \n",
    "        # get used_vertices\n",
    "        for algo in algo_list:\n",
    "            Gt = results[tc_name][algo]['graph']\n",
    "            results[tc_name][algo][\"used_vertices\"] = len(Gt) - len(MOrig) - len(MDest)\n",
    "        \n",
    "        print(\"----------------------\")\n",
    "        print(results)\n",
    "        print(\"----------------------\")\n",
    "    return results"
   ]
  },
  {
   "cell_type": "code",
   "execution_count": 58,
   "metadata": {},
   "outputs": [],
   "source": [
    "algo_list = ['brute_force', 'astar_0', 'astar_common_neighbor', 'astar_jaccard', 'steiner_tree']"
   ]
  },
  {
   "cell_type": "code",
   "execution_count": 59,
   "metadata": {
    "scrolled": false
   },
   "outputs": [
    {
     "name": "stdout",
     "output_type": "stream",
     "text": [
      "\n",
      "        ################\n",
      "        len(MOrig) == 2\n",
      "        len(MDest) == 3\n",
      "        ################\n",
      "        \n",
      "algo: brute_force\n",
      "tc: N5 to N4 of 3\n",
      "finish at 2021-09-16 21:43:19.932775 after 0.06540584564208984 seconds\n",
      "==============\n",
      "algo: astar_0\n",
      "tc: N5 to N4 of 3\n",
      "finish at 2021-09-16 21:43:20.005725 after 0.0725862979888916 seconds\n",
      "==============\n",
      "algo: astar_common_neighbor\n",
      "tc: N5 to N4 of 3\n",
      "finish at 2021-09-16 21:43:20.236632 after 0.23080229759216309 seconds\n",
      "==============\n",
      "algo: astar_jaccard\n",
      "tc: N5 to N4 of 3\n",
      "finish at 2021-09-16 21:43:20.465961 after 0.22919249534606934 seconds\n",
      "==============\n",
      "algo: steiner_tree\n",
      "tc: N5 to N4 of 3\n",
      "finish at 2021-09-16 21:43:20.468983 after 0.0025806427001953125 seconds\n",
      "==============\n",
      "----------------------\n",
      "{'N5 to N4': {'brute_force': {'graph': <networkx.classes.graph.Graph object at 0x7fcefcf46c10>, 'time': 0.06540584564208984, 'accuracy': 1.0, 'used_vertices': 10}, 'astar_0': {'graph': <networkx.classes.graph.Graph object at 0x7fcefcf46190>, 'time': 0.0725862979888916, 'accuracy': 1.0, 'used_vertices': 10}, 'astar_common_neighbor': {'graph': <networkx.classes.graph.Graph object at 0x7fcefcf46cd0>, 'time': 0.23080229759216309, 'accuracy': 0.8, 'used_vertices': 13}, 'astar_jaccard': {'graph': <networkx.classes.graph.Graph object at 0x7fcefcd55c10>, 'time': 0.22919249534606934, 'accuracy': 0.8666666666666667, 'used_vertices': 12}, 'steiner_tree': {'graph': <networkx.classes.graph.Graph object at 0x7fcefcd558b0>, 'time': 0.0025806427001953125, 'accuracy': 0.8, 'used_vertices': 7}}, 'G1 to G2': {}, 'G2 to G3': {}}\n",
      "----------------------\n",
      "\n",
      "        ################\n",
      "        len(MOrig) == 9\n",
      "        len(MDest) == 5\n",
      "        ################\n",
      "        \n",
      "algo: brute_force\n",
      "tc: G1 to G2 of 3\n",
      "finish at 2021-09-16 21:43:20.798498 after 0.3292572498321533 seconds\n",
      "==============\n",
      "algo: astar_0\n",
      "tc: G1 to G2 of 3\n",
      "finish at 2021-09-16 21:43:21.254801 after 0.45584583282470703 seconds\n",
      "==============\n",
      "algo: astar_common_neighbor\n",
      "tc: G1 to G2 of 3\n",
      "finish at 2021-09-16 21:43:22.639762 after 1.384507417678833 seconds\n",
      "==============\n",
      "algo: astar_jaccard\n",
      "tc: G1 to G2 of 3\n",
      "finish at 2021-09-16 21:43:24.711678 after 2.07179856300354 seconds\n",
      "==============\n",
      "algo: steiner_tree\n",
      "tc: G1 to G2 of 3\n",
      "finish at 2021-09-16 21:43:24.718772 after 0.0069506168365478516 seconds\n",
      "==============\n",
      "----------------------\n",
      "{'N5 to N4': {'brute_force': {'graph': <networkx.classes.graph.Graph object at 0x7fcefcf46c10>, 'time': 0.06540584564208984, 'accuracy': 1.0, 'used_vertices': 10}, 'astar_0': {'graph': <networkx.classes.graph.Graph object at 0x7fcefcf46190>, 'time': 0.0725862979888916, 'accuracy': 1.0, 'used_vertices': 10}, 'astar_common_neighbor': {'graph': <networkx.classes.graph.Graph object at 0x7fcefcf46cd0>, 'time': 0.23080229759216309, 'accuracy': 0.8, 'used_vertices': 13}, 'astar_jaccard': {'graph': <networkx.classes.graph.Graph object at 0x7fcefcd55c10>, 'time': 0.22919249534606934, 'accuracy': 0.8666666666666667, 'used_vertices': 12}, 'steiner_tree': {'graph': <networkx.classes.graph.Graph object at 0x7fcefcd558b0>, 'time': 0.0025806427001953125, 'accuracy': 0.8, 'used_vertices': 7}}, 'G1 to G2': {'brute_force': {'graph': <networkx.classes.graph.Graph object at 0x7fcefcdb6fd0>, 'time': 0.3292572498321533, 'accuracy': 1.0, 'used_vertices': 39}, 'astar_0': {'graph': <networkx.classes.graph.Graph object at 0x7fcefcdb6b80>, 'time': 0.45584583282470703, 'accuracy': 1.0, 'used_vertices': 39}, 'astar_common_neighbor': {'graph': <networkx.classes.graph.Graph object at 0x7fcefcdb6d90>, 'time': 1.384507417678833, 'accuracy': 0.8113207547169812, 'used_vertices': 44}, 'astar_jaccard': {'graph': <networkx.classes.graph.Graph object at 0x7fcefcdb6e20>, 'time': 2.07179856300354, 'accuracy': 0.7358490566037735, 'used_vertices': 42}, 'steiner_tree': {'graph': <networkx.classes.graph.Graph object at 0x7fcefcdb6a00>, 'time': 0.0069506168365478516, 'accuracy': 0.4528301886792453, 'used_vertices': 14}}, 'G2 to G3': {}}\n",
      "----------------------\n",
      "\n",
      "        ################\n",
      "        len(MOrig) == 7\n",
      "        len(MDest) == 10\n",
      "        ################\n",
      "        \n",
      "algo: brute_force\n",
      "tc: G2 to G3 of 3\n",
      "finish at 2021-09-16 21:43:25.007996 after 0.28847765922546387 seconds\n",
      "==============\n",
      "algo: astar_0\n",
      "tc: G2 to G3 of 3\n",
      "finish at 2021-09-16 21:43:25.371558 after 0.3634324073791504 seconds\n",
      "==============\n",
      "algo: astar_common_neighbor\n",
      "tc: G2 to G3 of 3\n",
      "finish at 2021-09-16 21:43:26.995524 after 1.6237854957580566 seconds\n",
      "==============\n",
      "algo: astar_jaccard\n",
      "tc: G2 to G3 of 3\n",
      "finish at 2021-09-16 21:43:28.518349 after 1.5226850509643555 seconds\n",
      "==============\n",
      "algo: steiner_tree\n",
      "tc: G2 to G3 of 3\n",
      "finish at 2021-09-16 21:43:28.527282 after 0.008509397506713867 seconds\n",
      "==============\n",
      "----------------------\n",
      "{'N5 to N4': {'brute_force': {'graph': <networkx.classes.graph.Graph object at 0x7fcefcf46c10>, 'time': 0.06540584564208984, 'accuracy': 1.0, 'used_vertices': 10}, 'astar_0': {'graph': <networkx.classes.graph.Graph object at 0x7fcefcf46190>, 'time': 0.0725862979888916, 'accuracy': 1.0, 'used_vertices': 10}, 'astar_common_neighbor': {'graph': <networkx.classes.graph.Graph object at 0x7fcefcf46cd0>, 'time': 0.23080229759216309, 'accuracy': 0.8, 'used_vertices': 13}, 'astar_jaccard': {'graph': <networkx.classes.graph.Graph object at 0x7fcefcd55c10>, 'time': 0.22919249534606934, 'accuracy': 0.8666666666666667, 'used_vertices': 12}, 'steiner_tree': {'graph': <networkx.classes.graph.Graph object at 0x7fcefcd558b0>, 'time': 0.0025806427001953125, 'accuracy': 0.8, 'used_vertices': 7}}, 'G1 to G2': {'brute_force': {'graph': <networkx.classes.graph.Graph object at 0x7fcefcdb6fd0>, 'time': 0.3292572498321533, 'accuracy': 1.0, 'used_vertices': 39}, 'astar_0': {'graph': <networkx.classes.graph.Graph object at 0x7fcefcdb6b80>, 'time': 0.45584583282470703, 'accuracy': 1.0, 'used_vertices': 39}, 'astar_common_neighbor': {'graph': <networkx.classes.graph.Graph object at 0x7fcefcdb6d90>, 'time': 1.384507417678833, 'accuracy': 0.8113207547169812, 'used_vertices': 44}, 'astar_jaccard': {'graph': <networkx.classes.graph.Graph object at 0x7fcefcdb6e20>, 'time': 2.07179856300354, 'accuracy': 0.7358490566037735, 'used_vertices': 42}, 'steiner_tree': {'graph': <networkx.classes.graph.Graph object at 0x7fcefcdb6a00>, 'time': 0.0069506168365478516, 'accuracy': 0.4528301886792453, 'used_vertices': 14}}, 'G2 to G3': {'brute_force': {'graph': <networkx.classes.graph.Graph object at 0x7fcefcddf4c0>, 'time': 0.28847765922546387, 'accuracy': 1.0, 'used_vertices': 35}, 'astar_0': {'graph': <networkx.classes.graph.Graph object at 0x7fcefcddf8b0>, 'time': 0.3634324073791504, 'accuracy': 1.0, 'used_vertices': 35}, 'astar_common_neighbor': {'graph': <networkx.classes.graph.Graph object at 0x7fcefcddf6a0>, 'time': 1.6237854957580566, 'accuracy': 1.0, 'used_vertices': 39}, 'astar_jaccard': {'graph': <networkx.classes.graph.Graph object at 0x7fcefcddf760>, 'time': 1.5226850509643555, 'accuracy': 0.6538461538461539, 'used_vertices': 32}, 'steiner_tree': {'graph': <networkx.classes.graph.Graph object at 0x7fcefcddff10>, 'time': 0.008509397506713867, 'accuracy': 0.4807692307692308, 'used_vertices': 8}}}\n",
      "----------------------\n"
     ]
    }
   ],
   "source": [
    "algo_list = ['brute_force', 'astar_0', 'astar_common_neighbor', 'astar_jaccard', 'steiner_tree']\n",
    "results = get_results_kanjigen(g_curr, test_cases_clean, algo_list)"
   ]
  },
  {
   "cell_type": "code",
   "execution_count": 60,
   "metadata": {},
   "outputs": [
    {
     "name": "stdout",
     "output_type": "stream",
     "text": [
      "{'G1 to G2': {'astar_0': {'accuracy': 1.0,\n",
      "                          'graph': <networkx.classes.graph.Graph object at 0x7fcefcdb6b80>,\n",
      "                          'time': 0.45584583282470703,\n",
      "                          'used_vertices': 39},\n",
      "              'astar_common_neighbor': {'accuracy': 0.8113207547169812,\n",
      "                                        'graph': <networkx.classes.graph.Graph object at 0x7fcefcdb6d90>,\n",
      "                                        'time': 1.384507417678833,\n",
      "                                        'used_vertices': 44},\n",
      "              'astar_jaccard': {'accuracy': 0.7358490566037735,\n",
      "                                'graph': <networkx.classes.graph.Graph object at 0x7fcefcdb6e20>,\n",
      "                                'time': 2.07179856300354,\n",
      "                                'used_vertices': 42},\n",
      "              'brute_force': {'accuracy': 1.0,\n",
      "                              'graph': <networkx.classes.graph.Graph object at 0x7fcefcdb6fd0>,\n",
      "                              'time': 0.3292572498321533,\n",
      "                              'used_vertices': 39},\n",
      "              'steiner_tree': {'accuracy': 0.4528301886792453,\n",
      "                               'graph': <networkx.classes.graph.Graph object at 0x7fcefcdb6a00>,\n",
      "                               'time': 0.0069506168365478516,\n",
      "                               'used_vertices': 14}},\n",
      " 'G2 to G3': {'astar_0': {'accuracy': 1.0,\n",
      "                          'graph': <networkx.classes.graph.Graph object at 0x7fcefcddf8b0>,\n",
      "                          'time': 0.3634324073791504,\n",
      "                          'used_vertices': 35},\n",
      "              'astar_common_neighbor': {'accuracy': 1.0,\n",
      "                                        'graph': <networkx.classes.graph.Graph object at 0x7fcefcddf6a0>,\n",
      "                                        'time': 1.6237854957580566,\n",
      "                                        'used_vertices': 39},\n",
      "              'astar_jaccard': {'accuracy': 0.6538461538461539,\n",
      "                                'graph': <networkx.classes.graph.Graph object at 0x7fcefcddf760>,\n",
      "                                'time': 1.5226850509643555,\n",
      "                                'used_vertices': 32},\n",
      "              'brute_force': {'accuracy': 1.0,\n",
      "                              'graph': <networkx.classes.graph.Graph object at 0x7fcefcddf4c0>,\n",
      "                              'time': 0.28847765922546387,\n",
      "                              'used_vertices': 35},\n",
      "              'steiner_tree': {'accuracy': 0.4807692307692308,\n",
      "                               'graph': <networkx.classes.graph.Graph object at 0x7fcefcddff10>,\n",
      "                               'time': 0.008509397506713867,\n",
      "                               'used_vertices': 8}},\n",
      " 'N5 to N4': {'astar_0': {'accuracy': 1.0,\n",
      "                          'graph': <networkx.classes.graph.Graph object at 0x7fcefcf46190>,\n",
      "                          'time': 0.0725862979888916,\n",
      "                          'used_vertices': 10},\n",
      "              'astar_common_neighbor': {'accuracy': 0.8,\n",
      "                                        'graph': <networkx.classes.graph.Graph object at 0x7fcefcf46cd0>,\n",
      "                                        'time': 0.23080229759216309,\n",
      "                                        'used_vertices': 13},\n",
      "              'astar_jaccard': {'accuracy': 0.8666666666666667,\n",
      "                                'graph': <networkx.classes.graph.Graph object at 0x7fcefcd55c10>,\n",
      "                                'time': 0.22919249534606934,\n",
      "                                'used_vertices': 12},\n",
      "              'brute_force': {'accuracy': 1.0,\n",
      "                              'graph': <networkx.classes.graph.Graph object at 0x7fcefcf46c10>,\n",
      "                              'time': 0.06540584564208984,\n",
      "                              'used_vertices': 10},\n",
      "              'steiner_tree': {'accuracy': 0.8,\n",
      "                               'graph': <networkx.classes.graph.Graph object at 0x7fcefcd558b0>,\n",
      "                               'time': 0.0025806427001953125,\n",
      "                               'used_vertices': 7}}}\n"
     ]
    }
   ],
   "source": [
    "pp(results)"
   ]
  },
  {
   "cell_type": "markdown",
   "metadata": {},
   "source": [
    "# Analysis"
   ]
  },
  {
   "cell_type": "code",
   "execution_count": 61,
   "metadata": {},
   "outputs": [
    {
     "data": {
      "text/plain": [
       "{'N5 to N4': {'brute_force': {'graph': <networkx.classes.graph.Graph at 0x7fcefcf46c10>,\n",
       "   'time': 0.06540584564208984,\n",
       "   'accuracy': 1.0,\n",
       "   'used_vertices': 10},\n",
       "  'astar_0': {'graph': <networkx.classes.graph.Graph at 0x7fcefcf46190>,\n",
       "   'time': 0.0725862979888916,\n",
       "   'accuracy': 1.0,\n",
       "   'used_vertices': 10},\n",
       "  'astar_common_neighbor': {'graph': <networkx.classes.graph.Graph at 0x7fcefcf46cd0>,\n",
       "   'time': 0.23080229759216309,\n",
       "   'accuracy': 0.8,\n",
       "   'used_vertices': 13},\n",
       "  'astar_jaccard': {'graph': <networkx.classes.graph.Graph at 0x7fcefcd55c10>,\n",
       "   'time': 0.22919249534606934,\n",
       "   'accuracy': 0.8666666666666667,\n",
       "   'used_vertices': 12},\n",
       "  'steiner_tree': {'graph': <networkx.classes.graph.Graph at 0x7fcefcd558b0>,\n",
       "   'time': 0.0025806427001953125,\n",
       "   'accuracy': 0.8,\n",
       "   'used_vertices': 7}},\n",
       " 'G1 to G2': {'brute_force': {'graph': <networkx.classes.graph.Graph at 0x7fcefcdb6fd0>,\n",
       "   'time': 0.3292572498321533,\n",
       "   'accuracy': 1.0,\n",
       "   'used_vertices': 39},\n",
       "  'astar_0': {'graph': <networkx.classes.graph.Graph at 0x7fcefcdb6b80>,\n",
       "   'time': 0.45584583282470703,\n",
       "   'accuracy': 1.0,\n",
       "   'used_vertices': 39},\n",
       "  'astar_common_neighbor': {'graph': <networkx.classes.graph.Graph at 0x7fcefcdb6d90>,\n",
       "   'time': 1.384507417678833,\n",
       "   'accuracy': 0.8113207547169812,\n",
       "   'used_vertices': 44},\n",
       "  'astar_jaccard': {'graph': <networkx.classes.graph.Graph at 0x7fcefcdb6e20>,\n",
       "   'time': 2.07179856300354,\n",
       "   'accuracy': 0.7358490566037735,\n",
       "   'used_vertices': 42},\n",
       "  'steiner_tree': {'graph': <networkx.classes.graph.Graph at 0x7fcefcdb6a00>,\n",
       "   'time': 0.0069506168365478516,\n",
       "   'accuracy': 0.4528301886792453,\n",
       "   'used_vertices': 14}},\n",
       " 'G2 to G3': {'brute_force': {'graph': <networkx.classes.graph.Graph at 0x7fcefcddf4c0>,\n",
       "   'time': 0.28847765922546387,\n",
       "   'accuracy': 1.0,\n",
       "   'used_vertices': 35},\n",
       "  'astar_0': {'graph': <networkx.classes.graph.Graph at 0x7fcefcddf8b0>,\n",
       "   'time': 0.3634324073791504,\n",
       "   'accuracy': 1.0,\n",
       "   'used_vertices': 35},\n",
       "  'astar_common_neighbor': {'graph': <networkx.classes.graph.Graph at 0x7fcefcddf6a0>,\n",
       "   'time': 1.6237854957580566,\n",
       "   'accuracy': 1.0,\n",
       "   'used_vertices': 39},\n",
       "  'astar_jaccard': {'graph': <networkx.classes.graph.Graph at 0x7fcefcddf760>,\n",
       "   'time': 1.5226850509643555,\n",
       "   'accuracy': 0.6538461538461539,\n",
       "   'used_vertices': 32},\n",
       "  'steiner_tree': {'graph': <networkx.classes.graph.Graph at 0x7fcefcddff10>,\n",
       "   'time': 0.008509397506713867,\n",
       "   'accuracy': 0.4807692307692308,\n",
       "   'used_vertices': 8}}}"
      ]
     },
     "execution_count": 61,
     "metadata": {},
     "output_type": "execute_result"
    }
   ],
   "source": [
    "results"
   ]
  },
  {
   "cell_type": "code",
   "execution_count": 62,
   "metadata": {},
   "outputs": [],
   "source": [
    "def get_df_results(results, algo_list):\n",
    "    df_results = {algo: dict() for algo in algo_list}\n",
    "    for tc_name, res in results.items():\n",
    "        \n",
    "        \n",
    "        for algo in algo_list:\n",
    "            if algo not in res:\n",
    "                continue\n",
    "            \n",
    "            if tc_name not in df_results[algo]:\n",
    "                df_results[algo][tc_name] = dict()\n",
    "                \n",
    "            \n",
    "            df_results[algo][tc_name]['accuracy'] = round(res[algo]['accuracy'], 2)\n",
    "            df_results[algo][tc_name]['time']     = round(res[algo]['time'], 2)\n",
    "            df_results[algo][tc_name]['uv']  = res[algo]['used_vertices']\n",
    "\n",
    "    return df_results"
   ]
  },
  {
   "cell_type": "code",
   "execution_count": 63,
   "metadata": {},
   "outputs": [
    {
     "data": {
      "text/plain": [
       "{'brute_force': {'N5 to N4': {'accuracy': 1.0, 'time': 0.07, 'uv': 10},\n",
       "  'G1 to G2': {'accuracy': 1.0, 'time': 0.33, 'uv': 39},\n",
       "  'G2 to G3': {'accuracy': 1.0, 'time': 0.29, 'uv': 35}},\n",
       " 'astar_0': {'N5 to N4': {'accuracy': 1.0, 'time': 0.07, 'uv': 10},\n",
       "  'G1 to G2': {'accuracy': 1.0, 'time': 0.46, 'uv': 39},\n",
       "  'G2 to G3': {'accuracy': 1.0, 'time': 0.36, 'uv': 35}},\n",
       " 'astar_common_neighbor': {'N5 to N4': {'accuracy': 0.8,\n",
       "   'time': 0.23,\n",
       "   'uv': 13},\n",
       "  'G1 to G2': {'accuracy': 0.81, 'time': 1.38, 'uv': 44},\n",
       "  'G2 to G3': {'accuracy': 1.0, 'time': 1.62, 'uv': 39}},\n",
       " 'astar_jaccard': {'N5 to N4': {'accuracy': 0.87, 'time': 0.23, 'uv': 12},\n",
       "  'G1 to G2': {'accuracy': 0.74, 'time': 2.07, 'uv': 42},\n",
       "  'G2 to G3': {'accuracy': 0.65, 'time': 1.52, 'uv': 32}},\n",
       " 'steiner_tree': {'N5 to N4': {'accuracy': 0.8, 'time': 0.0, 'uv': 7},\n",
       "  'G1 to G2': {'accuracy': 0.45, 'time': 0.01, 'uv': 14},\n",
       "  'G2 to G3': {'accuracy': 0.48, 'time': 0.01, 'uv': 8}}}"
      ]
     },
     "execution_count": 63,
     "metadata": {},
     "output_type": "execute_result"
    }
   ],
   "source": [
    "df_results = get_df_results(results, algo_list)\n",
    "df_results"
   ]
  },
  {
   "cell_type": "code",
   "execution_count": 64,
   "metadata": {},
   "outputs": [],
   "source": [
    "import pandas as pd\n",
    "import numpy as np"
   ]
  },
  {
   "cell_type": "code",
   "execution_count": 65,
   "metadata": {},
   "outputs": [],
   "source": [
    "df = pd.DataFrame(df_results)"
   ]
  },
  {
   "cell_type": "code",
   "execution_count": 66,
   "metadata": {},
   "outputs": [
    {
     "data": {
      "text/html": [
       "<div>\n",
       "<style scoped>\n",
       "    .dataframe tbody tr th:only-of-type {\n",
       "        vertical-align: middle;\n",
       "    }\n",
       "\n",
       "    .dataframe tbody tr th {\n",
       "        vertical-align: top;\n",
       "    }\n",
       "\n",
       "    .dataframe thead th {\n",
       "        text-align: right;\n",
       "    }\n",
       "</style>\n",
       "<table border=\"1\" class=\"dataframe\">\n",
       "  <thead>\n",
       "    <tr style=\"text-align: right;\">\n",
       "      <th></th>\n",
       "      <th>brute_force</th>\n",
       "      <th>astar_0</th>\n",
       "      <th>astar_common_neighbor</th>\n",
       "      <th>astar_jaccard</th>\n",
       "      <th>steiner_tree</th>\n",
       "    </tr>\n",
       "  </thead>\n",
       "  <tbody>\n",
       "    <tr>\n",
       "      <th>N5 to N4</th>\n",
       "      <td>{'accuracy': 1.0, 'time': 0.07, 'uv': 10}</td>\n",
       "      <td>{'accuracy': 1.0, 'time': 0.07, 'uv': 10}</td>\n",
       "      <td>{'accuracy': 0.8, 'time': 0.23, 'uv': 13}</td>\n",
       "      <td>{'accuracy': 0.87, 'time': 0.23, 'uv': 12}</td>\n",
       "      <td>{'accuracy': 0.8, 'time': 0.0, 'uv': 7}</td>\n",
       "    </tr>\n",
       "    <tr>\n",
       "      <th>G1 to G2</th>\n",
       "      <td>{'accuracy': 1.0, 'time': 0.33, 'uv': 39}</td>\n",
       "      <td>{'accuracy': 1.0, 'time': 0.46, 'uv': 39}</td>\n",
       "      <td>{'accuracy': 0.81, 'time': 1.38, 'uv': 44}</td>\n",
       "      <td>{'accuracy': 0.74, 'time': 2.07, 'uv': 42}</td>\n",
       "      <td>{'accuracy': 0.45, 'time': 0.01, 'uv': 14}</td>\n",
       "    </tr>\n",
       "    <tr>\n",
       "      <th>G2 to G3</th>\n",
       "      <td>{'accuracy': 1.0, 'time': 0.29, 'uv': 35}</td>\n",
       "      <td>{'accuracy': 1.0, 'time': 0.36, 'uv': 35}</td>\n",
       "      <td>{'accuracy': 1.0, 'time': 1.62, 'uv': 39}</td>\n",
       "      <td>{'accuracy': 0.65, 'time': 1.52, 'uv': 32}</td>\n",
       "      <td>{'accuracy': 0.48, 'time': 0.01, 'uv': 8}</td>\n",
       "    </tr>\n",
       "  </tbody>\n",
       "</table>\n",
       "</div>"
      ],
      "text/plain": [
       "                                        brute_force  \\\n",
       "N5 to N4  {'accuracy': 1.0, 'time': 0.07, 'uv': 10}   \n",
       "G1 to G2  {'accuracy': 1.0, 'time': 0.33, 'uv': 39}   \n",
       "G2 to G3  {'accuracy': 1.0, 'time': 0.29, 'uv': 35}   \n",
       "\n",
       "                                            astar_0  \\\n",
       "N5 to N4  {'accuracy': 1.0, 'time': 0.07, 'uv': 10}   \n",
       "G1 to G2  {'accuracy': 1.0, 'time': 0.46, 'uv': 39}   \n",
       "G2 to G3  {'accuracy': 1.0, 'time': 0.36, 'uv': 35}   \n",
       "\n",
       "                               astar_common_neighbor  \\\n",
       "N5 to N4   {'accuracy': 0.8, 'time': 0.23, 'uv': 13}   \n",
       "G1 to G2  {'accuracy': 0.81, 'time': 1.38, 'uv': 44}   \n",
       "G2 to G3   {'accuracy': 1.0, 'time': 1.62, 'uv': 39}   \n",
       "\n",
       "                                       astar_jaccard  \\\n",
       "N5 to N4  {'accuracy': 0.87, 'time': 0.23, 'uv': 12}   \n",
       "G1 to G2  {'accuracy': 0.74, 'time': 2.07, 'uv': 42}   \n",
       "G2 to G3  {'accuracy': 0.65, 'time': 1.52, 'uv': 32}   \n",
       "\n",
       "                                        steiner_tree  \n",
       "N5 to N4     {'accuracy': 0.8, 'time': 0.0, 'uv': 7}  \n",
       "G1 to G2  {'accuracy': 0.45, 'time': 0.01, 'uv': 14}  \n",
       "G2 to G3   {'accuracy': 0.48, 'time': 0.01, 'uv': 8}  "
      ]
     },
     "execution_count": 66,
     "metadata": {},
     "output_type": "execute_result"
    }
   ],
   "source": [
    "df"
   ]
  }
 ],
 "metadata": {
  "interpreter": {
   "hash": "916dbcbb3f70747c44a77c7bcd40155683ae19c65e1c03b4aa3499c5328201f1"
  },
  "kernelspec": {
   "display_name": "Python 3 (ipykernel)",
   "language": "python",
   "name": "python3"
  },
  "language_info": {
   "codemirror_mode": {
    "name": "ipython",
    "version": 3
   },
   "file_extension": ".py",
   "mimetype": "text/x-python",
   "name": "python",
   "nbconvert_exporter": "python",
   "pygments_lexer": "ipython3",
   "version": "3.8.10"
  },
  "toc": {
   "base_numbering": 1,
   "nav_menu": {},
   "number_sections": true,
   "sideBar": true,
   "skip_h1_title": false,
   "title_cell": "Table of Contents",
   "title_sidebar": "Contents",
   "toc_cell": false,
   "toc_position": {
    "height": "calc(100% - 180px)",
    "left": "10px",
    "top": "150px",
    "width": "165.75px"
   },
   "toc_section_display": true,
   "toc_window_display": true
  },
  "widgets": {
   "application/vnd.jupyter.widget-state+json": {
    "state": {},
    "version_major": 2,
    "version_minor": 0
   }
  }
 },
 "nbformat": 4,
 "nbformat_minor": 2
}
