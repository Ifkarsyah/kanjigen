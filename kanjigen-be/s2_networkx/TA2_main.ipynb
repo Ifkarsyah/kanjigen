{
 "cells": [
  {
   "cell_type": "code",
   "execution_count": 1,
   "metadata": {},
   "outputs": [],
   "source": [
    "from pprint import pprint as pp\n",
    "from typing import Dict, List, Tuple\n",
    "\n",
    "import random\n",
    "import csv\n",
    "import time\n",
    "import datetime\n",
    "\n",
    "import networkx as nx\n",
    "\n",
    "from itertools import count\n",
    "from heapq import heappush, heappop"
   ]
  },
  {
   "cell_type": "code",
   "execution_count": 2,
   "metadata": {},
   "outputs": [
    {
     "name": "stdout",
     "output_type": "stream",
     "text": [
      "Progress:  |██████████████████████████████████████████████████| 100.0%% Completed\n"
     ]
    }
   ],
   "source": [
    "def printProgressBar (iteration, total, prefix = 'Progress: ', suffix = 'Completed', decimals = 1, length = 50, fill = '█'):\n",
    "\n",
    "    percent = (\"{0:.\" + str(decimals) + \"f}\").format(100 * (iteration / float(total)))\n",
    "    styling = f'{prefix} |{fill}| {percent}%% {suffix}'\n",
    "    filledLength = int(length * iteration // total)\n",
    "    bar = fill * filledLength + '-' * (length - filledLength)\n",
    "    print('\\r%s' % styling.replace(fill, bar), end = '\\r')\n",
    "    # Print New Line on Complete\n",
    "    if iteration == total: \n",
    "        print()\n",
    "\n",
    "# Sample Usage\n",
    "import shutil, time\n",
    "\n",
    "# A List of Items\n",
    "items = list(range(0, 57))\n",
    "l = len(items)\n",
    "\n",
    "# Initial call to print 0% progress\n",
    "printProgressBar(0, l)\n",
    "for i, item in enumerate(items):\n",
    "    # Do stuff...\n",
    "    time.sleep(0.03)\n",
    "    # Update Progress Bar\n",
    "    printProgressBar(i + 1, l)"
   ]
  },
  {
   "cell_type": "code",
   "execution_count": 3,
   "metadata": {},
   "outputs": [],
   "source": [
    "def sample_from_dict(d, sample=10):\n",
    "    keys = random.sample(list(d), sample)\n",
    "    values = [d[k] for k in keys]\n",
    "    return dict(zip(keys, values))"
   ]
  },
  {
   "cell_type": "markdown",
   "metadata": {},
   "source": [
    "# Building Knowledge Graph"
   ]
  },
  {
   "cell_type": "markdown",
   "metadata": {},
   "source": [
    "## Extract Data from CSV"
   ]
  },
  {
   "cell_type": "code",
   "execution_count": 4,
   "metadata": {},
   "outputs": [],
   "source": [
    "def get_csv_data(filepath, handle_row_func, row_limit=None):\n",
    "    data = dict()\n",
    "    with open(filepath) as file:\n",
    "        next(file)\n",
    "        rows = csv.reader(file, delimiter=\",\")\n",
    "        cnt = 0\n",
    "        for row in rows:\n",
    "            handle_row_func(data, row)\n",
    "            \n",
    "            cnt += 1\n",
    "            if row_limit != None and cnt == row_limit:\n",
    "                break\n",
    "            \n",
    "    return data"
   ]
  },
  {
   "cell_type": "code",
   "execution_count": 5,
   "metadata": {},
   "outputs": [],
   "source": [
    "def handle_csv_kanji_func(data, row):\n",
    "    kanji,*meanings = row\n",
    "    if len(meanings) >= 2:\n",
    "        meanings = \",\".join(meanings)\n",
    "    else:\n",
    "        meanings = meanings[0]\n",
    "    meanings = meanings.split(\":\")\n",
    "    meanings = meanings[0]\n",
    "    data[kanji] = meanings"
   ]
  },
  {
   "cell_type": "code",
   "execution_count": 6,
   "metadata": {
    "scrolled": false
   },
   "outputs": [
    {
     "name": "stdout",
     "output_type": "stream",
     "text": [
      "len(data_kanji) =  4393\n"
     ]
    }
   ],
   "source": [
    "data_kanji = get_csv_data(\n",
    "    \"dataset/s5_kanjis_output.csv\", \n",
    "    handle_csv_kanji_func, \n",
    "    row_limit=4900,\n",
    ")\n",
    "print(\"len(data_kanji) = \", len(data_kanji))\n",
    "# pp(sample_from_dict(data_kanji))"
   ]
  },
  {
   "cell_type": "code",
   "execution_count": 7,
   "metadata": {},
   "outputs": [],
   "source": [
    "radical_no_meaning = {\"｜\", \"丶\", \"丿\", \"乙\", \"亅\", \"冖\"}"
   ]
  },
  {
   "cell_type": "code",
   "execution_count": 8,
   "metadata": {},
   "outputs": [],
   "source": [
    "def handle_csv_radical_func(data, row):\n",
    "    radical,meaning,_ = row  \n",
    "    if radical not in radical_no_meaning:\n",
    "        data[radical] = meaning"
   ]
  },
  {
   "cell_type": "code",
   "execution_count": 9,
   "metadata": {},
   "outputs": [
    {
     "name": "stdout",
     "output_type": "stream",
     "text": [
      "len(data_radical) =  249\n",
      "{'五': 'five',\n",
      " '匚': 'sideways box',\n",
      " '土': 'earth',\n",
      " '巴': 'comma-design',\n",
      " '甘': 'sweet',\n",
      " '疋': 'head count',\n",
      " '虫': 'bug',\n",
      " '辛': 'spicy hot',\n",
      " '鬼': 'devil',\n",
      " '齊': 'equal'}\n"
     ]
    }
   ],
   "source": [
    "data_radical = get_csv_data(\n",
    "    \"dataset/s7_nodes_radical_meaning.csv\", \n",
    "    handle_csv_radical_func\n",
    ")\n",
    "print(\"len(data_radical) = \", len(data_radical))\n",
    "pp(sample_from_dict(data_radical))"
   ]
  },
  {
   "cell_type": "code",
   "execution_count": 10,
   "metadata": {},
   "outputs": [],
   "source": [
    "def handle_csv_edges_func(data, row):\n",
    "    kanji,radical_list = row\n",
    "    if kanji in data_kanji:\n",
    "        data[kanji] = radical_list.split(':')\n",
    "        data[kanji] = list(set(data[kanji]) - radical_no_meaning)"
   ]
  },
  {
   "cell_type": "code",
   "execution_count": 11,
   "metadata": {},
   "outputs": [
    {
     "name": "stdout",
     "output_type": "stream",
     "text": [
      "len(data_edges) =  4393\n"
     ]
    }
   ],
   "source": [
    "data_edges = get_csv_data(\"dataset/s7_edges_kanji_radical.csv\", handle_csv_edges_func)\n",
    "print(\"len(data_edges) = \", len(data_edges))\n",
    "# pp(sample_from_dict(data_edges))"
   ]
  },
  {
   "cell_type": "markdown",
   "metadata": {},
   "source": [
    "## Data Structure"
   ]
  },
  {
   "cell_type": "markdown",
   "metadata": {},
   "source": [
    "### Node Manager"
   ]
  },
  {
   "cell_type": "code",
   "execution_count": 12,
   "metadata": {},
   "outputs": [],
   "source": [
    "get_key = lambda symbol, dtype : f\"{symbol}-{dtype}\""
   ]
  },
  {
   "cell_type": "code",
   "execution_count": 13,
   "metadata": {},
   "outputs": [],
   "source": [
    "node_kanji = {\n",
    "    get_key(symbol, 'kanji'): {\n",
    "        'symbol' : symbol,\n",
    "        'meaning': meaning,\n",
    "        'visual' : f\"{symbol}\\n{meaning}\",\n",
    "        'idx'    : idx,\n",
    "        'color'  : 'red',\n",
    "    } for idx, (symbol, meaning) in enumerate(list(data_kanji.items()))}"
   ]
  },
  {
   "cell_type": "code",
   "execution_count": 14,
   "metadata": {},
   "outputs": [],
   "source": [
    "node_radical = {\n",
    "    get_key(symbol, 'radical'): {\n",
    "        'symbol' : symbol,\n",
    "        'meaning': meaning,\n",
    "        'visual' : f\"{symbol}\\n{meaning}\",\n",
    "        'idx'    : idx,\n",
    "        'color'  : 'yellow',\n",
    "    } for idx, (symbol, meaning) in enumerate(list(data_radical.items()))}"
   ]
  },
  {
   "cell_type": "code",
   "execution_count": 15,
   "metadata": {},
   "outputs": [],
   "source": [
    "full_node = {**node_radical, **node_kanji}\n",
    "# pp(sample_from_dict(full_node))"
   ]
  },
  {
   "cell_type": "markdown",
   "metadata": {},
   "source": [
    "### Edge Manager"
   ]
  },
  {
   "cell_type": "code",
   "execution_count": 16,
   "metadata": {},
   "outputs": [],
   "source": [
    "def get_graph_edge(data_edges):\n",
    "    edges = []\n",
    "    for kanji, radicals in data_edges.items():\n",
    "        for r in radicals:\n",
    "            edges.append( (f\"{kanji}-kanji\", f\"{r}-radical\") )\n",
    "    return edges"
   ]
  },
  {
   "cell_type": "code",
   "execution_count": 17,
   "metadata": {},
   "outputs": [],
   "source": [
    "full_edges = get_graph_edge(data_edges)\n",
    "# full_edges[:10]"
   ]
  },
  {
   "cell_type": "markdown",
   "metadata": {},
   "source": [
    "## Kanji Graph"
   ]
  },
  {
   "cell_type": "code",
   "execution_count": 18,
   "metadata": {},
   "outputs": [],
   "source": [
    "kjg_raw = nx.Graph()\n",
    "\n",
    "kjg_raw.add_nodes_from(full_node.items())\n",
    "kjg_raw.add_edges_from(full_edges)"
   ]
  },
  {
   "cell_type": "code",
   "execution_count": 19,
   "metadata": {},
   "outputs": [],
   "source": [
    "# PREPROCESSING: ENFORCE CONNECTED GRAPH\n",
    "# https://networkx.org/documentation/stable/reference/algorithms/isolates.html\n",
    "# EDA + Preprocessing: Removing Isolated Nodes\n",
    "\n",
    "def enforce_connected_graph(G):\n",
    "    n_conn = nx.number_connected_components(G)\n",
    "    n_iso  = nx.number_of_isolates(G)\n",
    "    print('number of connected components: ', nx.number_connected_components(G))\n",
    "    print('number of isolated: ', n_iso)\n",
    "\n",
    "    if n_iso > 1:\n",
    "        G.remove_nodes_from(list(nx.isolates(G)))\n",
    "        \n",
    "    n_conn = nx.number_connected_components(G)\n",
    "    if n_conn != 1:\n",
    "        raise ValueError(f\"Number of connected components must be 1, not {n_conn}\")\n",
    "    else:\n",
    "        print(\"Graph is already connected\")\n",
    "    return G"
   ]
  },
  {
   "cell_type": "code",
   "execution_count": 20,
   "metadata": {},
   "outputs": [
    {
     "name": "stdout",
     "output_type": "stream",
     "text": [
      "number of connected components:  31\n",
      "number of isolated:  30\n",
      "Graph is already connected\n"
     ]
    }
   ],
   "source": [
    "kjg = enforce_connected_graph(kjg_raw)"
   ]
  },
  {
   "cell_type": "code",
   "execution_count": 21,
   "metadata": {},
   "outputs": [
    {
     "name": "stdout",
     "output_type": "stream",
     "text": [
      "Graph with 4612 nodes and 15297 edges\n"
     ]
    }
   ],
   "source": [
    "print(nx.info(kjg))"
   ]
  },
  {
   "cell_type": "markdown",
   "metadata": {},
   "source": [
    "### Graph Viz Lib"
   ]
  },
  {
   "cell_type": "code",
   "execution_count": 22,
   "metadata": {},
   "outputs": [
    {
     "data": {
      "text/plain": [
       "[<Font 'Noto Serif CJK JP' (NotoSerifCJK-Regular.ttc) normal normal 400 normal>,\n",
       " <Font 'Noto Sans CJK JP' (NotoSansCJK-Bold.ttc) normal normal 700 normal>,\n",
       " <Font 'Noto Serif CJK JP' (NotoSerifCJK-Bold.ttc) normal normal 700 normal>,\n",
       " <Font 'Noto Sans CJK JP' (NotoSansCJK-Regular.ttc) normal normal 400 normal>]"
      ]
     },
     "execution_count": 22,
     "metadata": {},
     "output_type": "execute_result"
    }
   ],
   "source": [
    "import matplotlib\n",
    "import matplotlib.pyplot as plt\n",
    "\n",
    "import matplotlib.font_manager as fm\n",
    "\n",
    "# Reference: https://albertauyeung.github.io/2020/03/15/matplotlib-cjk-fonts.html\n",
    "[f for f in fm.fontManager.ttflist if 'CJK JP' in f.name]"
   ]
  },
  {
   "cell_type": "code",
   "execution_count": 23,
   "metadata": {},
   "outputs": [],
   "source": [
    "def visualize_graph(\n",
    "    Graph: nx.Graph, \n",
    "    figsize: tuple=(7,7), \n",
    "    color_map: List[str]=None, \n",
    "    node_size: int=3000, \n",
    "    label_attr: str='visual' # valid value: 'idx', 'visual' \n",
    ") -> None:\n",
    "    \n",
    "    if color_map == None:\n",
    "        color_map = [Graph.nodes[n][\"color\"] for n in Graph] \n",
    "    else:\n",
    "        color_map = color_map\n",
    "    \n",
    "    plt.figure(1,figsize=figsize)    \n",
    "    \n",
    "    labels = nx.get_node_attributes(Graph, label_attr)\n",
    "    \n",
    "    nx.draw_kamada_kawai(Graph, \n",
    "                         node_color=color_map, \n",
    "                         with_labels=True,\n",
    "                         labels=labels,\n",
    "                         node_size=node_size, \n",
    "                         font_size=20,\n",
    "                         font_family=\"Noto Serif CJK JP\")\n",
    "    plt.show()"
   ]
  },
  {
   "cell_type": "code",
   "execution_count": 24,
   "metadata": {},
   "outputs": [
    {
     "data": {
      "image/png": "[encoded data removed]",
      "text/plain": [
       "<Figure size 504x504 with 1 Axes>"
      ]
     },
     "metadata": {},
     "output_type": "display_data"
    }
   ],
   "source": [
    "visualize_graph(\n",
    "    Graph       = kjg.subgraph(random.sample(kjg.nodes, 100)),\n",
    "    node_size   = 100,\n",
    "    label_attr  = '', #:  idx or visual\n",
    ")"
   ]
  },
  {
   "cell_type": "code",
   "execution_count": 25,
   "metadata": {},
   "outputs": [
    {
     "data": {
      "image/png": "[encoded data removed]",
      "text/plain": [
       "<Figure size 288x288 with 1 Axes>"
      ]
     },
     "metadata": {},
     "output_type": "display_data"
    }
   ],
   "source": [
    "def get_sg_kanji_with(kjg) -> nx.Graph:\n",
    "    sg = nx.Graph()\n",
    "    p = '嘩-kanji'\n",
    "    radicals = [n for n in kjg.neighbors(p)]\n",
    "    sg.add_nodes_from([(p, kjg.nodes[p])] + [(r, kjg.nodes[r]) for r in radicals])\n",
    "    sg.add_edges_from([(p, rp) for rp in radicals])\n",
    "    return sg\n",
    "\n",
    "visualize_graph(\n",
    "    Graph       = get_sg_kanji_with(kjg),\n",
    "    node_size   = 2000,\n",
    "    figsize     = (4,4),\n",
    "    label_attr  = None\n",
    ")"
   ]
  },
  {
   "cell_type": "markdown",
   "metadata": {},
   "source": [
    "### Graph Function"
   ]
  },
  {
   "cell_type": "code",
   "execution_count": 26,
   "metadata": {},
   "outputs": [],
   "source": [
    "def generate_graph(G: nx.Graph, nodes: List) -> nx.Graph:\n",
    "    R = nx.Graph()\n",
    "    R.add_nodes_from([(n, G.nodes[n]) for n in nodes])\n",
    "    R.add_edges_from(nx.utils.pairwise(nodes))\n",
    "    return R"
   ]
  },
  {
   "cell_type": "code",
   "execution_count": 27,
   "metadata": {},
   "outputs": [],
   "source": [
    "def get_node_color_result(g, kinputs, koutputs):\n",
    "    color_map = []\n",
    "    for n in g:\n",
    "        if n in kinputs:\n",
    "            color_map.append(\"green\") # input\n",
    "        elif n in koutputs:\n",
    "            color_map.append(\"blue\")  # output\n",
    "        else:\n",
    "            color_map.append(g.nodes[n][\"color\"])\n",
    "    return color_map"
   ]
  },
  {
   "cell_type": "code",
   "execution_count": 28,
   "metadata": {},
   "outputs": [],
   "source": [
    "def visualize_result(g_res, kinputs, koutputs, figsize=(5,5), label_attr='visual'):\n",
    "    visualize_graph(\n",
    "        Graph=g_res, \n",
    "        color_map=get_node_color_result(g_res, kinputs, koutputs), \n",
    "        figsize=figsize,\n",
    "        label_attr=label_attr,\n",
    "    )"
   ]
  },
  {
   "cell_type": "markdown",
   "metadata": {},
   "source": [
    "## Graph Alternatives"
   ]
  },
  {
   "cell_type": "markdown",
   "metadata": {},
   "source": [
    "### Graph Internet"
   ]
  },
  {
   "cell_type": "code",
   "execution_count": 29,
   "metadata": {},
   "outputs": [],
   "source": [
    "g_ias = nx.random_internet_as_graph(300, 10)\n",
    "nx.set_node_attributes(g_ias, {n: {\"visual\": n, \"color\": \"yellow\"} for n in g_ias.nodes})\n",
    "\n",
    "# visualize_graph(\n",
    "#     Graph       = g_ias,\n",
    "#     node_size   = 500,\n",
    "#     figsize     = (4,4),\n",
    "#     with_labels = True,\n",
    "# )"
   ]
  },
  {
   "cell_type": "code",
   "execution_count": 30,
   "metadata": {},
   "outputs": [],
   "source": [
    "# kin = 49  # say\n",
    "# kout = 41 # lie \n",
    "\n",
    "# result_shortest_path = nx.shortest_path(G=g_ias, source=kin, target=kout)\n",
    "# result = generate_graph(g_ias, result_shortest_path)\n",
    "\n",
    "# visualize_result(\n",
    "#     g_res=result, \n",
    "#     kinputs=[kin],\n",
    "#     koutputs=[kout]\n",
    "# )"
   ]
  },
  {
   "cell_type": "markdown",
   "metadata": {},
   "source": [
    "## Graph List"
   ]
  },
  {
   "cell_type": "code",
   "execution_count": 31,
   "metadata": {},
   "outputs": [
    {
     "name": "stdout",
     "output_type": "stream",
     "text": [
      "number of connected components:  1\n",
      "number of isolated:  0\n",
      "Graph is already connected\n"
     ]
    }
   ],
   "source": [
    "subgraph_edges = [(e[0][0], [1][0]) for e in random.sample(full_edges, 2000)]\n",
    "sample_graph   = nx.Graph(subgraph_edges)\n",
    "sample_graph   = enforce_connected_graph(sample_graph)"
   ]
  },
  {
   "cell_type": "code",
   "execution_count": 32,
   "metadata": {},
   "outputs": [
    {
     "name": "stdout",
     "output_type": "stream",
     "text": [
      "number of isolated clean:  0\n",
      "number of connected clean:  1\n"
     ]
    }
   ],
   "source": [
    "gg = {\n",
    "        'kjg': kjg, \n",
    "        'ias': g_ias\n",
    "     }\n",
    "\n",
    "print('number of isolated clean: ', nx.number_of_isolates(gg['kjg']))\n",
    "print('number of connected clean: ', nx.number_connected_components(gg['kjg']))"
   ]
  },
  {
   "cell_type": "markdown",
   "metadata": {},
   "source": [
    "# Querying Knowledge Graph"
   ]
  },
  {
   "cell_type": "markdown",
   "metadata": {},
   "source": [
    "## Data Structure"
   ]
  },
  {
   "cell_type": "code",
   "execution_count": 33,
   "metadata": {},
   "outputs": [
    {
     "data": {
      "image/png": "[encoded data removed]",
      "text/plain": [
       "<Figure size 360x360 with 1 Axes>"
      ]
     },
     "metadata": {},
     "output_type": "display_data"
    }
   ],
   "source": [
    "kin = '貴-kanji'  # precious\n",
    "kout = '業-kanji' # business \n",
    "\n",
    "result_sp = nx.shortest_path(G=kjg, source=kin, target=kout)\n",
    "result = generate_graph(kjg, result_sp)\n",
    "\n",
    "visualize_result(\n",
    "    g_res=result, \n",
    "    kinputs=[kin],\n",
    "    koutputs=[kout],\n",
    "    label_attr='visual'\n",
    ")"
   ]
  },
  {
   "cell_type": "markdown",
   "metadata": {},
   "source": [
    "## Algorithm"
   ]
  },
  {
   "cell_type": "markdown",
   "metadata": {},
   "source": [
    "### Brute Force Algorithm"
   ]
  },
  {
   "cell_type": "code",
   "execution_count": 34,
   "metadata": {},
   "outputs": [],
   "source": [
    "def find_path_bf(G: nx.Graph, MOrig: List, MDest: List) -> nx.Graph:\n",
    "    \n",
    "    result = []\n",
    "    \n",
    "    for kin in MOrig: # O(|MOrig|)\n",
    "        for kout in MDest: # O(|MDest|)\n",
    "            sp_raw = nx.dijkstra_path(G, source=kin, target=kout)\n",
    "            # O( (|GV|+|GE|) log |GV|)\n",
    "            \n",
    "            sp_graph = generate_graph(G, sp_raw)\n",
    "            \n",
    "            result.append(sp_graph)\n",
    "    \n",
    "    \n",
    "    return nx.compose_all(result)        "
   ]
  },
  {
   "cell_type": "code",
   "execution_count": 35,
   "metadata": {},
   "outputs": [],
   "source": [
    "MOrig = ['逢-kanji','嘩-kanji']\n",
    "MDest = ['颶-kanji','鴪-kanji','賠-kanji','蛤-kanji']"
   ]
  },
  {
   "cell_type": "code",
   "execution_count": 36,
   "metadata": {},
   "outputs": [],
   "source": [
    "MOrig = ['姻-kanji','寥-kanji'] # matrimony, noisy\n",
    "MDest = ['姑-kanji','嘩-kanji','蛤-kanji'] # mother in law, lonely"
   ]
  },
  {
   "cell_type": "code",
   "execution_count": 37,
   "metadata": {},
   "outputs": [
    {
     "data": {
      "image/png": "[encoded data removed]",
      "text/plain": [
       "<Figure size 576x576 with 1 Axes>"
      ]
     },
     "metadata": {},
     "output_type": "display_data"
    }
   ],
   "source": [
    "result = find_path_bf(gg['kjg'], MOrig, MDest)\n",
    "visualize_result(\n",
    "    g_res=result, \n",
    "    kinputs=MOrig,\n",
    "    koutputs=MDest,\n",
    "    figsize=(8,8),\n",
    "    label_attr='visual'\n",
    ")"
   ]
  },
  {
   "cell_type": "markdown",
   "metadata": {},
   "source": [
    "### Astar Algorithm"
   ]
  },
  {
   "cell_type": "markdown",
   "metadata": {},
   "source": [
    "#### Heuristic"
   ]
  },
  {
   "cell_type": "code",
   "execution_count": 38,
   "metadata": {},
   "outputs": [],
   "source": [
    "g_curr = gg['kjg']"
   ]
  },
  {
   "cell_type": "code",
   "execution_count": 39,
   "metadata": {},
   "outputs": [],
   "source": [
    "def common_neighbor_helper(g_curr, u,v):\n",
    "    nu = g_curr[u].keys() # O(1)\n",
    "    nv = g_curr[v].keys() # O(1)\n",
    "    return len(nu & nv) # O(min(|nu|,|nv|))"
   ]
  },
  {
   "cell_type": "code",
   "execution_count": 40,
   "metadata": {},
   "outputs": [],
   "source": [
    "def common_neighbor(u, v):\n",
    "    return common_neighbor_helper(g_curr,u,v)"
   ]
  },
  {
   "cell_type": "code",
   "execution_count": 41,
   "metadata": {},
   "outputs": [],
   "source": [
    "def jaccard_similarity(u, v):\n",
    "    G = g_curr\n",
    "    union_size = len(set(G[u]) | set(G[v])) # union neighbor\n",
    "    if union_size == 0:\n",
    "        return 0\n",
    "    return common_neighbor_helper(G,u,v) / union_size"
   ]
  },
  {
   "cell_type": "markdown",
   "metadata": {},
   "source": [
    "#### Main A* "
   ]
  },
  {
   "cell_type": "code",
   "execution_count": 42,
   "metadata": {},
   "outputs": [],
   "source": [
    "def find_path_astar(G: nx.Graph, MOrig: List, MDest: List, heuristic_func) -> nx.Graph:\n",
    "    \n",
    "    result = []\n",
    "    \n",
    "    for kin in MOrig: # O(|MOrig|)\n",
    "        for kout in MDest: # (|MDest|)\n",
    "            sp_raw = nx.astar_path(G, source=kin, target=kout, heuristic=heuristic_func)\n",
    "            # O( (|GV|+|GE|) log |GV|)\n",
    "            \n",
    "            sp_graph = generate_graph(G, sp_raw)\n",
    "            \n",
    "            result.append(sp_graph)\n",
    "    \n",
    "    \n",
    "    return nx.compose_all(result)        "
   ]
  },
  {
   "cell_type": "markdown",
   "metadata": {},
   "source": [
    "### Steiner Tree"
   ]
  },
  {
   "cell_type": "code",
   "execution_count": 43,
   "metadata": {},
   "outputs": [],
   "source": [
    "def _dijkstra_multisource(\n",
    "    G, sources, weight, pred=None, paths=None, cutoff=None, target=None\n",
    "):\n",
    "    G_succ = G._succ if G.is_directed() else G._adj\n",
    "\n",
    "    push = heappush\n",
    "    pop = heappop\n",
    "    dist = {}  # dictionary of final distances\n",
    "    seen = {}\n",
    "    # fringe is heapq with 3-tuples (distance,c,node)\n",
    "    # use the count c to avoid comparing nodes (may not be able to)\n",
    "    c = count()\n",
    "    fringe = []\n",
    "    for source in sources:\n",
    "        if source not in G:\n",
    "            raise nx.NodeNotFound(f\"Source {source} not in G\")\n",
    "        seen[source] = 0\n",
    "        push(fringe, (0, next(c), source))\n",
    "    while fringe:\n",
    "        (d, _, v) = pop(fringe)\n",
    "        if v in dist:\n",
    "            continue  # already searched this node.\n",
    "        dist[v] = d\n",
    "        if v == target:\n",
    "            break\n",
    "        for u, e in G_succ[v].items():\n",
    "            cost = weight(v, u, e)\n",
    "            if cost is None:\n",
    "                continue\n",
    "            vu_dist = dist[v] + cost\n",
    "            if cutoff is not None:\n",
    "                if vu_dist > cutoff:\n",
    "                    continue\n",
    "            if u in dist:\n",
    "                u_dist = dist[u]\n",
    "                if vu_dist < u_dist:\n",
    "                    raise ValueError(\"Contradictory paths found:\", \"negative weights?\")\n",
    "                elif pred is not None and vu_dist == u_dist:\n",
    "                    pred[u].append(v)\n",
    "            elif u not in seen or vu_dist < seen[u]:\n",
    "                seen[u] = vu_dist\n",
    "                push(fringe, (vu_dist, next(c), u))\n",
    "                if paths is not None:\n",
    "                    paths[u] = paths[v] + [u]\n",
    "                if pred is not None:\n",
    "                    pred[u] = [v]\n",
    "            elif vu_dist == seen[u]:\n",
    "                if pred is not None:\n",
    "                    pred[u].append(v)\n",
    "    return dist"
   ]
  },
  {
   "cell_type": "code",
   "execution_count": 44,
   "metadata": {},
   "outputs": [],
   "source": [
    "def multi_source_dijkstra(G, sources, target=None, cutoff=None, weight=\"weight\"):\n",
    "    if target in sources:\n",
    "        return (0, [target])\n",
    "    weight = lambda u, v, data: data.get(weight, 1)\n",
    "    paths = {source: [source] for source in sources}  # dictionary of paths\n",
    "    dist = _dijkstra_multisource(G, sources, weight, paths=paths)\n",
    "    if target is None:\n",
    "        return (dist, paths)\n",
    "    try:\n",
    "        return (dist[target], paths[target])\n",
    "    except KeyError as e:\n",
    "        raise nx.NetworkXNoPath(f\"No path to {target}.\") from e"
   ]
  },
  {
   "cell_type": "code",
   "execution_count": 45,
   "metadata": {},
   "outputs": [],
   "source": [
    "def my_all_pairs_dijkstra(G):\n",
    "    i = 0\n",
    "    for n in G:\n",
    "        i += 1\n",
    "        print('\\r%s' % i, end = '\\r')\n",
    "        dist, path = multi_source_dijkstra(G, {n})\n",
    "        yield (n, (dist, path))"
   ]
  },
  {
   "cell_type": "code",
   "execution_count": 46,
   "metadata": {},
   "outputs": [],
   "source": [
    "def metric_closure(G, weight=\"weight\"):\n",
    "    M = nx.Graph()\n",
    "\n",
    "    Gnodes = set(G)\n",
    "\n",
    "    all_paths_iter = my_all_pairs_dijkstra(G)\n",
    "    for u, (distance, path) in all_paths_iter:\n",
    "        Gnodes.remove(u)\n",
    "        for v in Gnodes:\n",
    "            M.add_edge(u, v, distance=distance[v], path=path[v])\n",
    "\n",
    "    return M"
   ]
  },
  {
   "cell_type": "code",
   "execution_count": 47,
   "metadata": {},
   "outputs": [
    {
     "name": "stdout",
     "output_type": "stream",
     "text": [
      "4612\r"
     ]
    }
   ],
   "source": [
    "mcg = metric_closure(g_curr, weight='weight')"
   ]
  },
  {
   "cell_type": "code",
   "execution_count": 48,
   "metadata": {},
   "outputs": [],
   "source": [
    "from itertools import chain\n",
    "from networkx.utils import pairwise\n",
    "\n",
    "\n",
    "def my_steiner_tree(G, terminal_nodes, weight=\"weight\", is_mcg=True):\n",
    "    global mcg\n",
    "    \n",
    "    # H is the subgraph induced by terminal_nodes in the metric closure M of G. \n",
    "    if is_mcg:\n",
    "        M = mcg\n",
    "    else:\n",
    "        M = metric_closure(G, weight=weight) # O(|GV|^2)\n",
    "    H = M.subgraph(terminal_nodes) # O(|GV|^2) * O(|MOrig| + |MDest|)\n",
    "    \n",
    "    # Use the 'distance' attribute of each edge provided by M.\n",
    "    mst_edges = nx.minimum_spanning_edges(H, weight=\"distance\", data=True) # O (|GE| log GV)\n",
    "    \n",
    "    \n",
    "    # Create an iterator over each edge in each shortest path; repeats are okay\n",
    "    edges = chain.from_iterable(pairwise(d[\"path\"]) for u, v, d in mst_edges)\n",
    "    \n",
    "\n",
    "    T = G.edge_subgraph(edges)\n",
    "    \n",
    "    return T"
   ]
  },
  {
   "cell_type": "code",
   "execution_count": 49,
   "metadata": {},
   "outputs": [],
   "source": [
    "def find_path_steiner(G: nx.Graph, MOrig: List, MDest: List, is_mcg: bool) -> nx.Graph:\n",
    "    \n",
    "    return my_steiner_tree(G, MOrig + MDest, is_mcg=is_mcg)"
   ]
  },
  {
   "cell_type": "code",
   "execution_count": 50,
   "metadata": {},
   "outputs": [],
   "source": [
    "# result = find_path_steiner(gg['ias'], MOrig, MDest)\n",
    "# visualize_result(\n",
    "#     g_res=result, \n",
    "#     kinputs=MOrig,\n",
    "#     koutputs=MDest,\n",
    "#     figsize=(8,8)\n",
    "# )"
   ]
  },
  {
   "cell_type": "markdown",
   "metadata": {},
   "source": [
    "# Experiment"
   ]
  },
  {
   "cell_type": "markdown",
   "metadata": {},
   "source": [
    "## Test Case"
   ]
  },
  {
   "cell_type": "code",
   "execution_count": 51,
   "metadata": {},
   "outputs": [],
   "source": [
    "from kanji_lists import JLPT, KYOIKU\n",
    "# https://github.com/ffe4/kanji-lists"
   ]
  },
  {
   "cell_type": "code",
   "execution_count": 52,
   "metadata": {},
   "outputs": [],
   "source": [
    "test_cases_raw = {\n",
    "    'N5 to N4': {\n",
    "        'MOrig': list(JLPT.N5)[:3],\n",
    "        'MDest': list(JLPT.N4)[:7],\n",
    "    },\n",
    "    'G1 to G2': {\n",
    "        'MOrig': list(KYOIKU.GRADE1)[:13],\n",
    "        'MDest': list(KYOIKU.GRADE2)[:17],\n",
    "    },\n",
    "    'G2 to G3': {\n",
    "        'MOrig': list(KYOIKU.GRADE2)[:20],\n",
    "        'MDest': list(KYOIKU.GRADE3)[:30],\n",
    "    },\n",
    "#     'N4 to N3': {\n",
    "#         'MOrig': list(JLPT.N4)[:30],\n",
    "#         'MDest': list(JLPT.N3)[:70],\n",
    "#     },\n",
    "#     'N3 to N2': {\n",
    "#         'MOrig': list(JLPT.N3)[:60],\n",
    "#         'MDest': list(JLPT.N2)[:140],\n",
    "#     },\n",
    "#     'G3 to G4': {\n",
    "#         'MOrig': list(KYOIKU.GRADE3)[:160],\n",
    "#         'MDest': list(KYOIKU.GRADE4)[:240],\n",
    "#     },\n",
    "#     'G4 to G5': {\n",
    "#         'MOrig': list(KYOIKU.GRADE4)[:240],\n",
    "#         'MDest': list(KYOIKU.GRADE5)[:360],\n",
    "#     },\n",
    "#     'N2 to N1': {\n",
    "#         'MOrig': list(JLPT.N2)[:400],\n",
    "#         'MDest': list(JLPT.N1)[:600],\n",
    "#     },\n",
    "#     'G5 to G6': {\n",
    "#         'MOrig': list(KYOIKU.GRADE5)[:500],\n",
    "#         'MDest': list(KYOIKU.GRADE6)[:700],\n",
    "#     },\n",
    "    \n",
    "    # gg['ias']\n",
    "#     'tc_ias_1': {\n",
    "#         'MOrig': [1,2,3],\n",
    "#         'MDest': [91,92,93]\n",
    "#     },\n",
    "#     'tc_ias_2': {\n",
    "#         'MOrig': [i*11 for i in range(33)],\n",
    "#         'MDest': [i*10 for i in range(66)]\n",
    "#     },\n",
    "#     'tc_ias_3': {\n",
    "#         'MOrig': [i*12 for i in range(100) if i*12 < 3000],\n",
    "#         'MDest': [i*13 for i in range(200) if i*13 < 3000]\n",
    "#     },\n",
    "#     'tc_ias_4': {\n",
    "#         'MOrig': [i*13 for i in range(200) if i*13 < 3000],\n",
    "#         'MDest': [i*14 for i in range(300) if i*14 < 3000]\n",
    "#     },\n",
    "#     'tc_ias_5': {\n",
    "#         'MOrig': [i*5 for i in range(400) if i*5 < 3000],\n",
    "#         'MDest': [i*7 for i in range(500) if i*7 < 3000]\n",
    "#     },\n",
    "#     'tc_ias_6': {\n",
    "#         'MOrig': [i*7 for i in range(600) if i*7 < 3000],\n",
    "#         'MDest': [i*3 for i in range(700) if i*3 < 3000]\n",
    "#     },\n",
    "}\n",
    "# test_cases_raw"
   ]
  },
  {
   "cell_type": "code",
   "execution_count": 53,
   "metadata": {},
   "outputs": [],
   "source": [
    "def tc_filter_in_graph(G, kanji_list):\n",
    "    \n",
    "    tc_filtered = []\n",
    "    for k in kanji_list:\n",
    "\n",
    "        tk = get_key(k, 'kanji')\n",
    "        \n",
    "        if tk in G:\n",
    "            tc_filtered.append(tk)\n",
    "            continue\n",
    "        \n",
    "        tr = get_key(k, 'radical')\n",
    "        if tr in G:\n",
    "            tc_filtered.append(tr)\n",
    "            continue\n",
    "            \n",
    "    return tc_filtered"
   ]
  },
  {
   "cell_type": "code",
   "execution_count": 54,
   "metadata": {},
   "outputs": [],
   "source": [
    "def filter_test_cases_raw(G, test_cases_raw):\n",
    "    test_cases_clean = {}\n",
    "    for tc_name, tc in test_cases_raw.items():\n",
    "\n",
    "        MOrig = tc_filter_in_graph(G, tc['MOrig'])\n",
    "        MDest = tc_filter_in_graph(G, tc['MDest'])\n",
    "\n",
    "        test_cases_clean[tc_name] = {\n",
    "            'MOrig': MOrig,\n",
    "            'MDest': MDest,\n",
    "        }\n",
    "\n",
    "    return test_cases_clean"
   ]
  },
  {
   "cell_type": "code",
   "execution_count": 55,
   "metadata": {},
   "outputs": [],
   "source": [
    "test_cases_clean = filter_test_cases_raw(g_curr, test_cases_raw)"
   ]
  },
  {
   "cell_type": "code",
   "execution_count": 56,
   "metadata": {},
   "outputs": [],
   "source": [
    "def find_path(G: nx.Graph, MOrig: List, MDest: List, method='brute_force') -> nx.Graph:\n",
    "    if method == 'brute_force':\n",
    "        return find_path_bf(G, MOrig, MDest)\n",
    "    elif method == 'steiner_tree':\n",
    "        return find_path_steiner(G, MOrig, MDest, is_mcg=False)\n",
    "    elif method == 'steiner_tree_precompute':\n",
    "        return find_path_steiner(G, MOrig, MDest, is_mcg=True)\n",
    "    elif method == 'astar_common_neighbor':\n",
    "        return find_path_astar(G, MOrig, MDest, common_neighbor)\n",
    "    elif method == 'astar_jaccard':\n",
    "        return find_path_astar(G, MOrig, MDest, jaccard_similarity)\n",
    "    elif method == 'astar_0':\n",
    "        return find_path_astar(G, MOrig, MDest, lambda x, y: 0)\n",
    "    else:\n",
    "        raise ValueError(f\"method {method} is not valid\")"
   ]
  },
  {
   "cell_type": "markdown",
   "metadata": {},
   "source": [
    "## Testing"
   ]
  },
  {
   "cell_type": "code",
   "execution_count": 57,
   "metadata": {},
   "outputs": [],
   "source": [
    "def get_result_accuracy(G0, Gt):\n",
    "    common_nodes = len(G0.nodes() & Gt.nodes())\n",
    "    G0_nodes     = len(G0.nodes())\n",
    "    \n",
    "    return common_nodes / G0_nodes"
   ]
  },
  {
   "cell_type": "code",
   "execution_count": 58,
   "metadata": {},
   "outputs": [],
   "source": [
    "def get_results_kanjigen(G: nx.Graph, test_cases_clean: dict, algo_list: List):\n",
    "    results = {tc_name: dict() for tc_name in test_cases_clean}\n",
    "\n",
    "    for tc_name, tc in test_cases_clean.items():\n",
    "        \n",
    "        \n",
    "        MOrig = tc['MOrig']\n",
    "        MDest = tc['MDest']\n",
    "        \n",
    "        if len(MOrig) == 0 or len(MDest) == 0:\n",
    "            continue\n",
    "        \n",
    "        print(f\"\"\"\n",
    "        ################\n",
    "        len(MOrig) == {len(MOrig)}\n",
    "        len(MDest) == {len(MDest)}\n",
    "        ################\n",
    "        \"\"\")\n",
    "        \n",
    "        # get time\n",
    "        for algo in algo_list:\n",
    "            \n",
    "            print(f\"algo: {algo}\")\n",
    "            print(f\"tc: {tc_name} of {len(test_cases_clean)}\")\n",
    "            start  = time.time()\n",
    "            graph  = find_path(G, MOrig, MDest, algo)\n",
    "            end    = time.time()\n",
    "            print(f\"finish at {datetime.datetime.now()} after {end - start} seconds\")\n",
    "            print(\"==============\")\n",
    "            \n",
    "            results[tc_name][algo] = {'graph': graph, 'time': (end - start)}\n",
    "        \n",
    "        # get used_vertices\n",
    "        for algo in algo_list:\n",
    "            Gt = results[tc_name][algo]['graph']\n",
    "            results[tc_name][algo][\"used_vertices\"] = len(Gt) - len(MOrig) - len(MDest)\n",
    "        \n",
    "        print(\"----------------------\")\n",
    "        print(results)\n",
    "        print(\"----------------------\")\n",
    "    return results"
   ]
  },
  {
   "cell_type": "code",
   "execution_count": 59,
   "metadata": {},
   "outputs": [],
   "source": [
    "algo_list = ['brute_force', 'astar_0', 'astar_common_neighbor', 'astar_jaccard', 'steiner_tree', 'steiner_tree_precompute']\n",
    "algo_list = ['brute_force', 'astar_0', 'astar_common_neighbor', 'astar_jaccard', 'steiner_tree_precompute']"
   ]
  },
  {
   "cell_type": "code",
   "execution_count": 60,
   "metadata": {
    "scrolled": false
   },
   "outputs": [
    {
     "name": "stdout",
     "output_type": "stream",
     "text": [
      "\n",
      "        ################\n",
      "        len(MOrig) == 3\n",
      "        len(MDest) == 4\n",
      "        ################\n",
      "        \n",
      "algo: brute_force\n",
      "tc: N5 to N4 of 3\n",
      "finish at 2021-09-16 23:14:49.000346 after 0.31110405921936035 seconds\n",
      "==============\n",
      "algo: astar_0\n",
      "tc: N5 to N4 of 3\n",
      "finish at 2021-09-16 23:14:49.362095 after 0.361614465713501 seconds\n",
      "==============\n",
      "algo: astar_common_neighbor\n",
      "tc: N5 to N4 of 3\n",
      "finish at 2021-09-16 23:14:50.123304 after 0.7610664367675781 seconds\n",
      "==============\n",
      "algo: astar_jaccard\n",
      "tc: N5 to N4 of 3\n",
      "finish at 2021-09-16 23:14:51.114203 after 0.990776538848877 seconds\n",
      "==============\n",
      "algo: steiner_tree_precompute\n",
      "tc: N5 to N4 of 3\n",
      "finish at 2021-09-16 23:14:51.123934 after 0.009590625762939453 seconds\n",
      "==============\n",
      "----------------------\n",
      "{'N5 to N4': {'brute_force': {'graph': <networkx.classes.graph.Graph object at 0x7f2cf8485d00>, 'time': 0.31110405921936035, 'used_vertices': 17}, 'astar_0': {'graph': <networkx.classes.graph.Graph object at 0x7f2cf6979640>, 'time': 0.361614465713501, 'used_vertices': 17}, 'astar_common_neighbor': {'graph': <networkx.classes.graph.Graph object at 0x7f2cf6979550>, 'time': 0.7610664367675781, 'used_vertices': 22}, 'astar_jaccard': {'graph': <networkx.classes.graph.Graph object at 0x7f2cf6979760>, 'time': 0.990776538848877, 'used_vertices': 19}, 'steiner_tree_precompute': {'graph': <networkx.classes.graph.Graph object at 0x7f2cf780aa90>, 'time': 0.009590625762939453, 'used_vertices': 8}}, 'G1 to G2': {}, 'G2 to G3': {}}\n",
      "----------------------\n",
      "\n",
      "        ################\n",
      "        len(MOrig) == 12\n",
      "        len(MDest) == 12\n",
      "        ################\n",
      "        \n",
      "algo: brute_force\n",
      "tc: G1 to G2 of 3\n",
      "finish at 2021-09-16 23:14:53.462871 after 2.3384604454040527 seconds\n",
      "==============\n",
      "algo: astar_0\n",
      "tc: G1 to G2 of 3\n",
      "finish at 2021-09-16 23:14:56.472221 after 3.0092129707336426 seconds\n",
      "==============\n",
      "algo: astar_common_neighbor\n",
      "tc: G1 to G2 of 3\n",
      "finish at 2021-09-16 23:15:10.651516 after 14.179190874099731 seconds\n",
      "==============\n",
      "algo: astar_jaccard\n",
      "tc: G1 to G2 of 3\n",
      "finish at 2021-09-16 23:15:25.805127 after 15.153461456298828 seconds\n",
      "==============\n",
      "algo: steiner_tree_precompute\n",
      "tc: G1 to G2 of 3\n",
      "finish at 2021-09-16 23:15:25.853733 after 0.047943115234375 seconds\n",
      "==============\n",
      "----------------------\n",
      "{'N5 to N4': {'brute_force': {'graph': <networkx.classes.graph.Graph object at 0x7f2cf8485d00>, 'time': 0.31110405921936035, 'used_vertices': 17}, 'astar_0': {'graph': <networkx.classes.graph.Graph object at 0x7f2cf6979640>, 'time': 0.361614465713501, 'used_vertices': 17}, 'astar_common_neighbor': {'graph': <networkx.classes.graph.Graph object at 0x7f2cf6979550>, 'time': 0.7610664367675781, 'used_vertices': 22}, 'astar_jaccard': {'graph': <networkx.classes.graph.Graph object at 0x7f2cf6979760>, 'time': 0.990776538848877, 'used_vertices': 19}, 'steiner_tree_precompute': {'graph': <networkx.classes.graph.Graph object at 0x7f2cf780aa90>, 'time': 0.009590625762939453, 'used_vertices': 8}}, 'G1 to G2': {'brute_force': {'graph': <networkx.classes.graph.Graph object at 0x7f2cf6823b20>, 'time': 2.3384604454040527, 'used_vertices': 109}, 'astar_0': {'graph': <networkx.classes.graph.Graph object at 0x7f2cf8089670>, 'time': 3.0092129707336426, 'used_vertices': 109}, 'astar_common_neighbor': {'graph': <networkx.classes.graph.Graph object at 0x7f2cf80895b0>, 'time': 14.179190874099731, 'used_vertices': 116}, 'astar_jaccard': {'graph': <networkx.classes.graph.Graph object at 0x7f2cf67c34c0>, 'time': 15.153461456298828, 'used_vertices': 99}, 'steiner_tree_precompute': {'graph': <networkx.classes.graph.Graph object at 0x7f2cf67c3520>, 'time': 0.047943115234375, 'used_vertices': 20}}, 'G2 to G3': {}}\n",
      "----------------------\n",
      "\n",
      "        ################\n",
      "        len(MOrig) == 14\n",
      "        len(MDest) == 21\n",
      "        ################\n",
      "        \n",
      "algo: brute_force\n",
      "tc: G2 to G3 of 3\n",
      "finish at 2021-09-16 23:15:38.323669 after 12.469694375991821 seconds\n",
      "==============\n",
      "algo: astar_0\n",
      "tc: G2 to G3 of 3\n",
      "finish at 2021-09-16 23:15:44.764054 after 6.439948081970215 seconds\n",
      "==============\n",
      "algo: astar_common_neighbor\n",
      "tc: G2 to G3 of 3\n",
      "finish at 2021-09-16 23:16:03.878446 after 19.113779544830322 seconds\n",
      "==============\n",
      "algo: astar_jaccard\n",
      "tc: G2 to G3 of 3\n",
      "finish at 2021-09-16 23:16:23.789308 after 19.910735607147217 seconds\n",
      "==============\n",
      "algo: steiner_tree_precompute\n",
      "tc: G2 to G3 of 3\n",
      "finish at 2021-09-16 23:16:23.831889 after 0.04245567321777344 seconds\n",
      "==============\n",
      "----------------------\n",
      "{'N5 to N4': {'brute_force': {'graph': <networkx.classes.graph.Graph object at 0x7f2cf8485d00>, 'time': 0.31110405921936035, 'used_vertices': 17}, 'astar_0': {'graph': <networkx.classes.graph.Graph object at 0x7f2cf6979640>, 'time': 0.361614465713501, 'used_vertices': 17}, 'astar_common_neighbor': {'graph': <networkx.classes.graph.Graph object at 0x7f2cf6979550>, 'time': 0.7610664367675781, 'used_vertices': 22}, 'astar_jaccard': {'graph': <networkx.classes.graph.Graph object at 0x7f2cf6979760>, 'time': 0.990776538848877, 'used_vertices': 19}, 'steiner_tree_precompute': {'graph': <networkx.classes.graph.Graph object at 0x7f2cf780aa90>, 'time': 0.009590625762939453, 'used_vertices': 8}}, 'G1 to G2': {'brute_force': {'graph': <networkx.classes.graph.Graph object at 0x7f2cf6823b20>, 'time': 2.3384604454040527, 'used_vertices': 109}, 'astar_0': {'graph': <networkx.classes.graph.Graph object at 0x7f2cf8089670>, 'time': 3.0092129707336426, 'used_vertices': 109}, 'astar_common_neighbor': {'graph': <networkx.classes.graph.Graph object at 0x7f2cf80895b0>, 'time': 14.179190874099731, 'used_vertices': 116}, 'astar_jaccard': {'graph': <networkx.classes.graph.Graph object at 0x7f2cf67c34c0>, 'time': 15.153461456298828, 'used_vertices': 99}, 'steiner_tree_precompute': {'graph': <networkx.classes.graph.Graph object at 0x7f2cf67c3520>, 'time': 0.047943115234375, 'used_vertices': 20}}, 'G2 to G3': {'brute_force': {'graph': <networkx.classes.graph.Graph object at 0x7f2cf6b06400>, 'time': 12.469694375991821, 'used_vertices': 196}, 'astar_0': {'graph': <networkx.classes.graph.Graph object at 0x7f2cfdcaad90>, 'time': 6.439948081970215, 'used_vertices': 196}, 'astar_common_neighbor': {'graph': <networkx.classes.graph.Graph object at 0x7f2cfb0339a0>, 'time': 19.113779544830322, 'used_vertices': 195}, 'astar_jaccard': {'graph': <networkx.classes.graph.Graph object at 0x7f2cfd6d9130>, 'time': 19.910735607147217, 'used_vertices': 130}, 'steiner_tree_precompute': {'graph': <networkx.classes.graph.Graph object at 0x7f2cfabbdf70>, 'time': 0.04245567321777344, 'used_vertices': 34}}}\n",
      "----------------------\n"
     ]
    }
   ],
   "source": [
    "results = get_results_kanjigen(g_curr, test_cases_clean, algo_list)"
   ]
  },
  {
   "cell_type": "code",
   "execution_count": 61,
   "metadata": {},
   "outputs": [
    {
     "name": "stdout",
     "output_type": "stream",
     "text": [
      "{'G1 to G2': {'astar_0': {'graph': <networkx.classes.graph.Graph object at 0x7f2cf8089670>,\n",
      "                          'time': 3.0092129707336426,\n",
      "                          'used_vertices': 109},\n",
      "              'astar_common_neighbor': {'graph': <networkx.classes.graph.Graph object at 0x7f2cf80895b0>,\n",
      "                                        'time': 14.179190874099731,\n",
      "                                        'used_vertices': 116},\n",
      "              'astar_jaccard': {'graph': <networkx.classes.graph.Graph object at 0x7f2cf67c34c0>,\n",
      "                                'time': 15.153461456298828,\n",
      "                                'used_vertices': 99},\n",
      "              'brute_force': {'graph': <networkx.classes.graph.Graph object at 0x7f2cf6823b20>,\n",
      "                              'time': 2.3384604454040527,\n",
      "                              'used_vertices': 109},\n",
      "              'steiner_tree_precompute': {'graph': <networkx.classes.graph.Graph object at 0x7f2cf67c3520>,\n",
      "                                          'time': 0.047943115234375,\n",
      "                                          'used_vertices': 20}},\n",
      " 'G2 to G3': {'astar_0': {'graph': <networkx.classes.graph.Graph object at 0x7f2cfdcaad90>,\n",
      "                          'time': 6.439948081970215,\n",
      "                          'used_vertices': 196},\n",
      "              'astar_common_neighbor': {'graph': <networkx.classes.graph.Graph object at 0x7f2cfb0339a0>,\n",
      "                                        'time': 19.113779544830322,\n",
      "                                        'used_vertices': 195},\n",
      "              'astar_jaccard': {'graph': <networkx.classes.graph.Graph object at 0x7f2cfd6d9130>,\n",
      "                                'time': 19.910735607147217,\n",
      "                                'used_vertices': 130},\n",
      "              'brute_force': {'graph': <networkx.classes.graph.Graph object at 0x7f2cf6b06400>,\n",
      "                              'time': 12.469694375991821,\n",
      "                              'used_vertices': 196},\n",
      "              'steiner_tree_precompute': {'graph': <networkx.classes.graph.Graph object at 0x7f2cfabbdf70>,\n",
      "                                          'time': 0.04245567321777344,\n",
      "                                          'used_vertices': 34}},\n",
      " 'N5 to N4': {'astar_0': {'graph': <networkx.classes.graph.Graph object at 0x7f2cf6979640>,\n",
      "                          'time': 0.361614465713501,\n",
      "                          'used_vertices': 17},\n",
      "              'astar_common_neighbor': {'graph': <networkx.classes.graph.Graph object at 0x7f2cf6979550>,\n",
      "                                        'time': 0.7610664367675781,\n",
      "                                        'used_vertices': 22},\n",
      "              'astar_jaccard': {'graph': <networkx.classes.graph.Graph object at 0x7f2cf6979760>,\n",
      "                                'time': 0.990776538848877,\n",
      "                                'used_vertices': 19},\n",
      "              'brute_force': {'graph': <networkx.classes.graph.Graph object at 0x7f2cf8485d00>,\n",
      "                              'time': 0.31110405921936035,\n",
      "                              'used_vertices': 17},\n",
      "              'steiner_tree_precompute': {'graph': <networkx.classes.graph.Graph object at 0x7f2cf780aa90>,\n",
      "                                          'time': 0.009590625762939453,\n",
      "                                          'used_vertices': 8}}}\n"
     ]
    }
   ],
   "source": [
    "pp(results)"
   ]
  },
  {
   "cell_type": "markdown",
   "metadata": {},
   "source": [
    "# Analysis"
   ]
  },
  {
   "cell_type": "code",
   "execution_count": 62,
   "metadata": {},
   "outputs": [
    {
     "data": {
      "text/plain": [
       "{'N5 to N4': {'brute_force': {'graph': <networkx.classes.graph.Graph at 0x7f2cf8485d00>,\n",
       "   'time': 0.31110405921936035,\n",
       "   'used_vertices': 17},\n",
       "  'astar_0': {'graph': <networkx.classes.graph.Graph at 0x7f2cf6979640>,\n",
       "   'time': 0.361614465713501,\n",
       "   'used_vertices': 17},\n",
       "  'astar_common_neighbor': {'graph': <networkx.classes.graph.Graph at 0x7f2cf6979550>,\n",
       "   'time': 0.7610664367675781,\n",
       "   'used_vertices': 22},\n",
       "  'astar_jaccard': {'graph': <networkx.classes.graph.Graph at 0x7f2cf6979760>,\n",
       "   'time': 0.990776538848877,\n",
       "   'used_vertices': 19},\n",
       "  'steiner_tree_precompute': {'graph': <networkx.classes.graph.Graph at 0x7f2cf780aa90>,\n",
       "   'time': 0.009590625762939453,\n",
       "   'used_vertices': 8}},\n",
       " 'G1 to G2': {'brute_force': {'graph': <networkx.classes.graph.Graph at 0x7f2cf6823b20>,\n",
       "   'time': 2.3384604454040527,\n",
       "   'used_vertices': 109},\n",
       "  'astar_0': {'graph': <networkx.classes.graph.Graph at 0x7f2cf8089670>,\n",
       "   'time': 3.0092129707336426,\n",
       "   'used_vertices': 109},\n",
       "  'astar_common_neighbor': {'graph': <networkx.classes.graph.Graph at 0x7f2cf80895b0>,\n",
       "   'time': 14.179190874099731,\n",
       "   'used_vertices': 116},\n",
       "  'astar_jaccard': {'graph': <networkx.classes.graph.Graph at 0x7f2cf67c34c0>,\n",
       "   'time': 15.153461456298828,\n",
       "   'used_vertices': 99},\n",
       "  'steiner_tree_precompute': {'graph': <networkx.classes.graph.Graph at 0x7f2cf67c3520>,\n",
       "   'time': 0.047943115234375,\n",
       "   'used_vertices': 20}},\n",
       " 'G2 to G3': {'brute_force': {'graph': <networkx.classes.graph.Graph at 0x7f2cf6b06400>,\n",
       "   'time': 12.469694375991821,\n",
       "   'used_vertices': 196},\n",
       "  'astar_0': {'graph': <networkx.classes.graph.Graph at 0x7f2cfdcaad90>,\n",
       "   'time': 6.439948081970215,\n",
       "   'used_vertices': 196},\n",
       "  'astar_common_neighbor': {'graph': <networkx.classes.graph.Graph at 0x7f2cfb0339a0>,\n",
       "   'time': 19.113779544830322,\n",
       "   'used_vertices': 195},\n",
       "  'astar_jaccard': {'graph': <networkx.classes.graph.Graph at 0x7f2cfd6d9130>,\n",
       "   'time': 19.910735607147217,\n",
       "   'used_vertices': 130},\n",
       "  'steiner_tree_precompute': {'graph': <networkx.classes.graph.Graph at 0x7f2cfabbdf70>,\n",
       "   'time': 0.04245567321777344,\n",
       "   'used_vertices': 34}}}"
      ]
     },
     "execution_count": 62,
     "metadata": {},
     "output_type": "execute_result"
    }
   ],
   "source": [
    "results"
   ]
  },
  {
   "cell_type": "code",
   "execution_count": 63,
   "metadata": {},
   "outputs": [],
   "source": [
    "def get_df_results(results, algo_list):\n",
    "    df_results = {algo: dict() for algo in algo_list}\n",
    "    for tc_name, res in results.items():\n",
    "        \n",
    "        \n",
    "        for algo in algo_list:\n",
    "            if algo not in res:\n",
    "                continue\n",
    "            \n",
    "            if tc_name not in df_results[algo]:\n",
    "                df_results[algo][tc_name] = dict()\n",
    "                \n",
    "            df_results[algo][tc_name]['time']     = round(res[algo]['time'], 2)\n",
    "            df_results[algo][tc_name]['uv']  = res[algo]['used_vertices']\n",
    "\n",
    "    return df_results"
   ]
  },
  {
   "cell_type": "code",
   "execution_count": 64,
   "metadata": {},
   "outputs": [
    {
     "data": {
      "text/plain": [
       "{'brute_force': {'N5 to N4': {'time': 0.31, 'uv': 17},\n",
       "  'G1 to G2': {'time': 2.34, 'uv': 109},\n",
       "  'G2 to G3': {'time': 12.47, 'uv': 196}},\n",
       " 'astar_0': {'N5 to N4': {'time': 0.36, 'uv': 17},\n",
       "  'G1 to G2': {'time': 3.01, 'uv': 109},\n",
       "  'G2 to G3': {'time': 6.44, 'uv': 196}},\n",
       " 'astar_common_neighbor': {'N5 to N4': {'time': 0.76, 'uv': 22},\n",
       "  'G1 to G2': {'time': 14.18, 'uv': 116},\n",
       "  'G2 to G3': {'time': 19.11, 'uv': 195}},\n",
       " 'astar_jaccard': {'N5 to N4': {'time': 0.99, 'uv': 19},\n",
       "  'G1 to G2': {'time': 15.15, 'uv': 99},\n",
       "  'G2 to G3': {'time': 19.91, 'uv': 130}},\n",
       " 'steiner_tree_precompute': {'N5 to N4': {'time': 0.01, 'uv': 8},\n",
       "  'G1 to G2': {'time': 0.05, 'uv': 20},\n",
       "  'G2 to G3': {'time': 0.04, 'uv': 34}}}"
      ]
     },
     "execution_count": 64,
     "metadata": {},
     "output_type": "execute_result"
    }
   ],
   "source": [
    "df_results = get_df_results(results, algo_list)\n",
    "df_results"
   ]
  },
  {
   "cell_type": "code",
   "execution_count": 65,
   "metadata": {},
   "outputs": [],
   "source": [
    "import pandas as pd\n",
    "import numpy as np"
   ]
  },
  {
   "cell_type": "code",
   "execution_count": 66,
   "metadata": {},
   "outputs": [],
   "source": [
    "df = pd.DataFrame(df_results)"
   ]
  },
  {
   "cell_type": "code",
   "execution_count": 67,
   "metadata": {},
   "outputs": [
    {
     "data": {
      "text/html": [
       "<div>\n",
       "<style scoped>\n",
       "    .dataframe tbody tr th:only-of-type {\n",
       "        vertical-align: middle;\n",
       "    }\n",
       "\n",
       "    .dataframe tbody tr th {\n",
       "        vertical-align: top;\n",
       "    }\n",
       "\n",
       "    .dataframe thead th {\n",
       "        text-align: right;\n",
       "    }\n",
       "</style>\n",
       "<table border=\"1\" class=\"dataframe\">\n",
       "  <thead>\n",
       "    <tr style=\"text-align: right;\">\n",
       "      <th></th>\n",
       "      <th>brute_force</th>\n",
       "      <th>astar_0</th>\n",
       "      <th>astar_common_neighbor</th>\n",
       "      <th>astar_jaccard</th>\n",
       "      <th>steiner_tree_precompute</th>\n",
       "    </tr>\n",
       "  </thead>\n",
       "  <tbody>\n",
       "    <tr>\n",
       "      <th>N5 to N4</th>\n",
       "      <td>{'time': 0.31, 'uv': 17}</td>\n",
       "      <td>{'time': 0.36, 'uv': 17}</td>\n",
       "      <td>{'time': 0.76, 'uv': 22}</td>\n",
       "      <td>{'time': 0.99, 'uv': 19}</td>\n",
       "      <td>{'time': 0.01, 'uv': 8}</td>\n",
       "    </tr>\n",
       "    <tr>\n",
       "      <th>G1 to G2</th>\n",
       "      <td>{'time': 2.34, 'uv': 109}</td>\n",
       "      <td>{'time': 3.01, 'uv': 109}</td>\n",
       "      <td>{'time': 14.18, 'uv': 116}</td>\n",
       "      <td>{'time': 15.15, 'uv': 99}</td>\n",
       "      <td>{'time': 0.05, 'uv': 20}</td>\n",
       "    </tr>\n",
       "    <tr>\n",
       "      <th>G2 to G3</th>\n",
       "      <td>{'time': 12.47, 'uv': 196}</td>\n",
       "      <td>{'time': 6.44, 'uv': 196}</td>\n",
       "      <td>{'time': 19.11, 'uv': 195}</td>\n",
       "      <td>{'time': 19.91, 'uv': 130}</td>\n",
       "      <td>{'time': 0.04, 'uv': 34}</td>\n",
       "    </tr>\n",
       "  </tbody>\n",
       "</table>\n",
       "</div>"
      ],
      "text/plain": [
       "                         brute_force                    astar_0  \\\n",
       "N5 to N4    {'time': 0.31, 'uv': 17}   {'time': 0.36, 'uv': 17}   \n",
       "G1 to G2   {'time': 2.34, 'uv': 109}  {'time': 3.01, 'uv': 109}   \n",
       "G2 to G3  {'time': 12.47, 'uv': 196}  {'time': 6.44, 'uv': 196}   \n",
       "\n",
       "               astar_common_neighbor               astar_jaccard  \\\n",
       "N5 to N4    {'time': 0.76, 'uv': 22}    {'time': 0.99, 'uv': 19}   \n",
       "G1 to G2  {'time': 14.18, 'uv': 116}   {'time': 15.15, 'uv': 99}   \n",
       "G2 to G3  {'time': 19.11, 'uv': 195}  {'time': 19.91, 'uv': 130}   \n",
       "\n",
       "           steiner_tree_precompute  \n",
       "N5 to N4   {'time': 0.01, 'uv': 8}  \n",
       "G1 to G2  {'time': 0.05, 'uv': 20}  \n",
       "G2 to G3  {'time': 0.04, 'uv': 34}  "
      ]
     },
     "execution_count": 67,
     "metadata": {},
     "output_type": "execute_result"
    }
   ],
   "source": [
    "df"
   ]
  },
  {
   "cell_type": "markdown",
   "metadata": {},
   "source": [
    "# Demo"
   ]
  },
  {
   "cell_type": "code",
   "execution_count": 97,
   "metadata": {},
   "outputs": [],
   "source": [
    "# What user input into application\n",
    "# TC: 1\n",
    "# MOrig = ['姻','寥'] # matrimony, noisy\n",
    "# MDest = ['姑','嘩','唹'] # mother in law, lonely, laugh\n",
    "\n",
    "\n",
    "# What user input into application\n",
    "# TC: 2\n",
    "MOrig = ['学','栄'] # learn, flourish\n",
    "MDest = ['塾','術','宝', '輔'] # cram school, art, treasure, help"
   ]
  },
  {
   "cell_type": "code",
   "execution_count": 98,
   "metadata": {},
   "outputs": [
    {
     "data": {
      "image/png": "[encoded data removed]",
      "text/plain": [
       "<Figure size 1008x1008 with 1 Axes>"
      ]
     },
     "metadata": {},
     "output_type": "display_data"
    }
   ],
   "source": [
    "# Transformation: to differentiate 日-radical and 日-kanji\n",
    "MOrigf = [f\"{x}-kanji\" for x in MOrig]\n",
    "MDestf = [f\"{x}-kanji\" for x in MDest]\n",
    "\n",
    "\n",
    "result = find_path(gg['kjg'], MOrigf, MDestf, 'brute_force')\n",
    "visualize_result(\n",
    "    g_res=result, \n",
    "    kinputs=MOrig,\n",
    "    koutputs=MDest,\n",
    "    figsize=(14,14),\n",
    "    label_attr='idx'\n",
    ")"
   ]
  }
 ],
 "metadata": {
  "interpreter": {
   "hash": "916dbcbb3f70747c44a77c7bcd40155683ae19c65e1c03b4aa3499c5328201f1"
  },
  "kernelspec": {
   "display_name": "Python 3 (ipykernel)",
   "language": "python",
   "name": "python3"
  },
  "language_info": {
   "codemirror_mode": {
    "name": "ipython",
    "version": 3
   },
   "file_extension": ".py",
   "mimetype": "text/x-python",
   "name": "python",
   "nbconvert_exporter": "python",
   "pygments_lexer": "ipython3",
   "version": "3.8.10"
  },
  "toc": {
   "base_numbering": 1,
   "nav_menu": {},
   "number_sections": true,
   "sideBar": true,
   "skip_h1_title": false,
   "title_cell": "Table of Contents",
   "title_sidebar": "Contents",
   "toc_cell": false,
   "toc_position": {
    "height": "calc(100% - 180px)",
    "left": "10px",
    "top": "150px",
    "width": "165.75px"
   },
   "toc_section_display": true,
   "toc_window_display": true
  },
  "widgets": {
   "application/vnd.jupyter.widget-state+json": {
    "state": {},
    "version_major": 2,
    "version_minor": 0
   }
  }
 },
 "nbformat": 4,
 "nbformat_minor": 2
}
